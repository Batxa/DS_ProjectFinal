{
 "cells": [
  {
   "cell_type": "markdown",
   "metadata": {},
   "source": [
    "# Importación de librerías\n",
    "===================================================================================================================================="
   ]
  },
  {
   "cell_type": "code",
   "execution_count": 1,
   "metadata": {},
   "outputs": [],
   "source": [
    "import pandas as pd\n",
    "import os"
   ]
  },
  {
   "cell_type": "markdown",
   "metadata": {},
   "source": [
    "# Carga de datos\n",
    "========================================================================================================="
   ]
  },
  {
   "cell_type": "code",
   "execution_count": 2,
   "metadata": {},
   "outputs": [],
   "source": [
    "# Ruta a la ubicación de los archivos JSON\n",
    "ruta_directorio = '/Users/Juan/Documents/Academics/DataScience/PjFinal/Google/GoogleSites/'\n",
    "\n",
    "dataframes = []\n",
    "for filename in os.listdir(ruta_directorio):        \n",
    "    if filename.endswith('.json'):\n",
    "        df_temporal = pd.read_json(os.path.join(ruta_directorio, filename), lines=True)\n",
    "        dataframes.append(df_temporal)\n",
    "\n",
    "dfg_sites = pd.concat(dataframes, ignore_index=True)        "
   ]
  },
  {
   "cell_type": "code",
   "execution_count": 4,
   "metadata": {},
   "outputs": [
    {
     "name": "stdout",
     "output_type": "stream",
     "text": [
      "<class 'pandas.core.frame.DataFrame'>\n",
      "RangeIndex: 3025011 entries, 0 to 3025010\n",
      "Data columns (total 15 columns):\n",
      " #   Column            Dtype  \n",
      "---  ------            -----  \n",
      " 0   name              object \n",
      " 1   address           object \n",
      " 2   gmap_id           object \n",
      " 3   description       object \n",
      " 4   latitude          float64\n",
      " 5   longitude         float64\n",
      " 6   category          object \n",
      " 7   avg_rating        float64\n",
      " 8   num_of_reviews    int64  \n",
      " 9   price             object \n",
      " 10  hours             object \n",
      " 11  MISC              object \n",
      " 12  state             object \n",
      " 13  relative_results  object \n",
      " 14  url               object \n",
      "dtypes: float64(3), int64(1), object(11)\n",
      "memory usage: 346.2+ MB\n",
      "None\n"
     ]
    },
    {
     "data": {
      "text/html": [
       "<div>\n",
       "<style scoped>\n",
       "    .dataframe tbody tr th:only-of-type {\n",
       "        vertical-align: middle;\n",
       "    }\n",
       "\n",
       "    .dataframe tbody tr th {\n",
       "        vertical-align: top;\n",
       "    }\n",
       "\n",
       "    .dataframe thead th {\n",
       "        text-align: right;\n",
       "    }\n",
       "</style>\n",
       "<table border=\"1\" class=\"dataframe\">\n",
       "  <thead>\n",
       "    <tr style=\"text-align: right;\">\n",
       "      <th></th>\n",
       "      <th>name</th>\n",
       "      <th>address</th>\n",
       "      <th>gmap_id</th>\n",
       "      <th>description</th>\n",
       "      <th>latitude</th>\n",
       "      <th>longitude</th>\n",
       "      <th>category</th>\n",
       "      <th>avg_rating</th>\n",
       "      <th>num_of_reviews</th>\n",
       "      <th>price</th>\n",
       "      <th>hours</th>\n",
       "      <th>MISC</th>\n",
       "      <th>state</th>\n",
       "      <th>relative_results</th>\n",
       "      <th>url</th>\n",
       "    </tr>\n",
       "  </thead>\n",
       "  <tbody>\n",
       "    <tr>\n",
       "      <th>2839930</th>\n",
       "      <td>Prunedale Veterinary Services</td>\n",
       "      <td>Prunedale Veterinary Services, 17860 Moro Rd, ...</td>\n",
       "      <td>0x808e004dfc788953:0x8f7157de2f0f9a74</td>\n",
       "      <td>None</td>\n",
       "      <td>36.802482</td>\n",
       "      <td>-121.663186</td>\n",
       "      <td>[Veterinarian]</td>\n",
       "      <td>4.8</td>\n",
       "      <td>138</td>\n",
       "      <td>None</td>\n",
       "      <td>[[Monday, Closed], [Tuesday, 8:30AM–5PM], [Wed...</td>\n",
       "      <td>{'Accessibility': ['Wheelchair accessible entr...</td>\n",
       "      <td>Closed ⋅ Opens 8:30AM Tue</td>\n",
       "      <td>[0x808e005d882bb88d:0xaaac5f3cf9ba9513, 0x808d...</td>\n",
       "      <td>https://www.google.com/maps/place//data=!4m2!3...</td>\n",
       "    </tr>\n",
       "    <tr>\n",
       "      <th>2718397</th>\n",
       "      <td>La Robe Boutique</td>\n",
       "      <td>La Robe Boutique, 87 Market St, Apalachicola, ...</td>\n",
       "      <td>0x8894b5a70bae9157:0x79aaf9dcecc76967</td>\n",
       "      <td>None</td>\n",
       "      <td>29.727661</td>\n",
       "      <td>-84.984126</td>\n",
       "      <td>[Women's clothing store, Boutique, Clothing st...</td>\n",
       "      <td>4.2</td>\n",
       "      <td>16</td>\n",
       "      <td>None</td>\n",
       "      <td>[[Saturday, 10AM–6PM], [Sunday, Closed], [Mond...</td>\n",
       "      <td>{'Service options': ['In-store shopping'], 'Ac...</td>\n",
       "      <td>Open ⋅ Closes 6PM</td>\n",
       "      <td>[0x8894b50bf33c5eed:0x36bef930d0703cb0, 0x8894...</td>\n",
       "      <td>https://www.google.com/maps/place//data=!4m2!3...</td>\n",
       "    </tr>\n",
       "  </tbody>\n",
       "</table>\n",
       "</div>"
      ],
      "text/plain": [
       "                                  name  \\\n",
       "2839930  Prunedale Veterinary Services   \n",
       "2718397               La Robe Boutique   \n",
       "\n",
       "                                                   address  \\\n",
       "2839930  Prunedale Veterinary Services, 17860 Moro Rd, ...   \n",
       "2718397  La Robe Boutique, 87 Market St, Apalachicola, ...   \n",
       "\n",
       "                                       gmap_id description   latitude  \\\n",
       "2839930  0x808e004dfc788953:0x8f7157de2f0f9a74        None  36.802482   \n",
       "2718397  0x8894b5a70bae9157:0x79aaf9dcecc76967        None  29.727661   \n",
       "\n",
       "          longitude                                           category  \\\n",
       "2839930 -121.663186                                     [Veterinarian]   \n",
       "2718397  -84.984126  [Women's clothing store, Boutique, Clothing st...   \n",
       "\n",
       "         avg_rating  num_of_reviews price  \\\n",
       "2839930         4.8             138  None   \n",
       "2718397         4.2              16  None   \n",
       "\n",
       "                                                     hours  \\\n",
       "2839930  [[Monday, Closed], [Tuesday, 8:30AM–5PM], [Wed...   \n",
       "2718397  [[Saturday, 10AM–6PM], [Sunday, Closed], [Mond...   \n",
       "\n",
       "                                                      MISC  \\\n",
       "2839930  {'Accessibility': ['Wheelchair accessible entr...   \n",
       "2718397  {'Service options': ['In-store shopping'], 'Ac...   \n",
       "\n",
       "                             state  \\\n",
       "2839930  Closed ⋅ Opens 8:30AM Tue   \n",
       "2718397          Open ⋅ Closes 6PM   \n",
       "\n",
       "                                          relative_results  \\\n",
       "2839930  [0x808e005d882bb88d:0xaaac5f3cf9ba9513, 0x808d...   \n",
       "2718397  [0x8894b50bf33c5eed:0x36bef930d0703cb0, 0x8894...   \n",
       "\n",
       "                                                       url  \n",
       "2839930  https://www.google.com/maps/place//data=!4m2!3...  \n",
       "2718397  https://www.google.com/maps/place//data=!4m2!3...  "
      ]
     },
     "execution_count": 4,
     "metadata": {},
     "output_type": "execute_result"
    }
   ],
   "source": [
    "print(dfg_sites.info())\n",
    "dfg_sites.sample(2)"
   ]
  },
  {
   "cell_type": "markdown",
   "metadata": {},
   "source": [
    "# Exportación de datos\n",
    "========================================================================================================="
   ]
  },
  {
   "cell_type": "code",
   "execution_count": 5,
   "metadata": {},
   "outputs": [],
   "source": [
    "dfg_sites.to_csv('dfg_sites.csv', index=False)\n",
    "dfg_sites.to_parquet('dfg_sites.parquet')"
   ]
  },
  {
   "cell_type": "markdown",
   "metadata": {},
   "source": [
    "# Conclusiones\n",
    "========================================================================================================="
   ]
  },
  {
   "cell_type": "markdown",
   "metadata": {},
   "source": [
    "* Se realiza la lectura, concatenación y exportación de los datos de locales de google\n",
    "* Debido a la cuantiosa cantidad de información, el preprocesamiento de estos datos se realiza en el EDA"
   ]
  },
  {
   "cell_type": "markdown",
   "metadata": {},
   "source": []
  }
 ],
 "metadata": {
  "kernelspec": {
   "display_name": "Python 3",
   "language": "python",
   "name": "python3"
  },
  "language_info": {
   "codemirror_mode": {
    "name": "ipython",
    "version": 3
   },
   "file_extension": ".py",
   "mimetype": "text/x-python",
   "name": "python",
   "nbconvert_exporter": "python",
   "pygments_lexer": "ipython3",
   "version": "3.12.0"
  },
  "orig_nbformat": 4
 },
 "nbformat": 4,
 "nbformat_minor": 2
}
