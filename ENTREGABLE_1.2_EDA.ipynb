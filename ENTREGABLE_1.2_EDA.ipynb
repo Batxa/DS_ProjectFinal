{
 "cells": [
  {
   "cell_type": "markdown",
   "metadata": {},
   "source": [
    "# Introducción, objetivos y contenido\n",
    "===================================================================================================================================="
   ]
  },
  {
   "cell_type": "markdown",
   "metadata": {},
   "source": [
    "* Importación de librerías\n",
    "* Carga de datos\n",
    "    * Dataset de restaurantes unívocos\n",
    "    * Dataset de YELP\n",
    "        * Restaurants\n",
    "        * User\n",
    "        * Checkins\n",
    "        * Reviews\n",
    "        * Tips\n",
    "        * Categorías y atributos\n",
    "    * Dataset de GOOGLE\n",
    "        * Restaurantes\n",
    "        * Reviews\n",
    "        * Categorías\n",
    "* Preprocesamiento: gestión final de tipos de datos, valores nulos y duplicados, características\n",
    "    * Datasets de YELP\n",
    "    * Datasets de GOOGLE\n",
    "    * Datasets COMBINADOS\n",
    "        * Restaurants\n",
    "        * User\n",
    "        * Checkins\n",
    "        * Reviews\n",
    "        * Categorías\n",
    "* Análisis de datos\n",
    "    * Análisis de plantel de restaurantes (oferentes)\n",
    "    * Análisis de performance de restaurantes\n",
    "    * Análisis de plantel de usuarios (clientes)\n",
    "    * Análisis de demanda\n",
    "    * Análisis de preferencias de usuario\n",
    "        * Categorías top\n",
    "        * Atributos\n",
    "        * Marcas top\n",
    "        * Locaciones top\n",
    "    * Análisis de participación del usuario\n",
    "        * Involucramiento\n",
    "        * Satisfacción\n",
    "* Conclusiones"
   ]
  },
  {
   "cell_type": "markdown",
   "metadata": {},
   "source": [
    "# Importación de librerías\n",
    "===================================================================================================================================="
   ]
  },
  {
   "cell_type": "code",
   "execution_count": 1,
   "metadata": {},
   "outputs": [],
   "source": [
    "import pandas as pd\n",
    "import numpy as np\n",
    "\n",
    "import math\n",
    "import seaborn as sns\n",
    "import matplotlib as mpl\n",
    "import matplotlib.pyplot as plt"
   ]
  },
  {
   "cell_type": "markdown",
   "metadata": {},
   "source": [
    "# Carga de datos\n",
    "========================================================================================================="
   ]
  },
  {
   "cell_type": "markdown",
   "metadata": {},
   "source": [
    "## Dataset de restaurantes unívocos\n",
    "------------------------------------------------------------------------------------------------------"
   ]
  },
  {
   "cell_type": "code",
   "execution_count": 2,
   "metadata": {},
   "outputs": [],
   "source": [
    "# Listado unívoco de locales de ambos datasets\n",
    "dfgy_rest_uniques = pd.read_parquet('dfgy_rest_uniques.parquet')"
   ]
  },
  {
   "cell_type": "markdown",
   "metadata": {},
   "source": [
    "## Datasets de YELP\n",
    "------------------------------------------------------------------------------------------------------"
   ]
  },
  {
   "cell_type": "code",
   "execution_count": 3,
   "metadata": {},
   "outputs": [],
   "source": [
    "# Yelp\n",
    "yelp_rest = pd.read_parquet('dfy_rest.parquet')\n",
    "yelp_user = pd.read_parquet('dfy_user.parquet')\n",
    "yelp_checkins = pd.read_parquet('dfy_checkins.parquet')"
   ]
  },
  {
   "cell_type": "code",
   "execution_count": 4,
   "metadata": {},
   "outputs": [],
   "source": [
    "# Review\n",
    "yelp_reviews = pd.read_parquet('dfy_reviews.parquet')"
   ]
  },
  {
   "cell_type": "code",
   "execution_count": 5,
   "metadata": {},
   "outputs": [],
   "source": [
    "# Tips\n",
    "yelp_tips = pd.read_parquet('dfy_tips.parquet')"
   ]
  },
  {
   "cell_type": "code",
   "execution_count": 6,
   "metadata": {},
   "outputs": [],
   "source": [
    "# Categorías y atributos\n",
    "yelp_site_categories = pd.read_parquet('dfy_site_categories.parquet')\n",
    "yelp_site_attributes = pd.read_parquet('dfy_attributes.parquet')"
   ]
  },
  {
   "cell_type": "markdown",
   "metadata": {},
   "source": [
    "## Datasets de GOOGLE\n",
    "------------------------------------------------------------------------------------------------------"
   ]
  },
  {
   "cell_type": "code",
   "execution_count": 7,
   "metadata": {},
   "outputs": [],
   "source": [
    "# Restaurants\n",
    "google_rest = pd.read_parquet('dfg_rest.parquet')"
   ]
  },
  {
   "cell_type": "code",
   "execution_count": 8,
   "metadata": {},
   "outputs": [],
   "source": [
    "# Reviews\n",
    "google_reviews = pd.read_parquet('dfg_reviews.parquet')"
   ]
  },
  {
   "cell_type": "code",
   "execution_count": 9,
   "metadata": {},
   "outputs": [],
   "source": [
    "# Categorías y atributos\n",
    "google_site_categories = pd.read_parquet('dfg_site_categories.parquet')"
   ]
  },
  {
   "cell_type": "markdown",
   "metadata": {},
   "source": [
    "# Preprocesamiento\n",
    "========================================================================================================="
   ]
  },
  {
   "cell_type": "markdown",
   "metadata": {},
   "source": [
    "## Datasets de YELP\n",
    "------------------------------------------------------------------------------------------------------"
   ]
  },
  {
   "cell_type": "markdown",
   "metadata": {},
   "source": [
    "### YELP reviews"
   ]
  },
  {
   "cell_type": "code",
   "execution_count": 61,
   "metadata": {},
   "outputs": [
    {
     "name": "stdout",
     "output_type": "stream",
     "text": [
      "<class 'pandas.core.frame.DataFrame'>\n",
      "RangeIndex: 1000000 entries, 0 to 999999\n",
      "Data columns (total 14 columns):\n",
      " #   Column       Non-Null Count    Dtype         \n",
      "---  ------       --------------    -----         \n",
      " 0   review_id    1000000 non-null  object        \n",
      " 1   user_id      1000000 non-null  object        \n",
      " 2   business_id  1000000 non-null  object        \n",
      " 3   stars        1000000 non-null  float64       \n",
      " 4   useful       1000000 non-null  int64         \n",
      " 5   funny        1000000 non-null  int64         \n",
      " 6   cool         1000000 non-null  int64         \n",
      " 7   text         1000000 non-null  object        \n",
      " 8   date         1000000 non-null  datetime64[ns]\n",
      " 9   year         1000000 non-null  int32         \n",
      " 10  month        1000000 non-null  int32         \n",
      " 11  year_month   1000000 non-null  object        \n",
      " 12  polarity     1000000 non-null  float64       \n",
      " 13  sentiment    1000000 non-null  int64         \n",
      "dtypes: datetime64[ns](1), float64(2), int32(2), int64(4), object(5)\n",
      "memory usage: 99.2+ MB\n",
      "None\n"
     ]
    },
    {
     "data": {
      "text/html": [
       "<div>\n",
       "<style scoped>\n",
       "    .dataframe tbody tr th:only-of-type {\n",
       "        vertical-align: middle;\n",
       "    }\n",
       "\n",
       "    .dataframe tbody tr th {\n",
       "        vertical-align: top;\n",
       "    }\n",
       "\n",
       "    .dataframe thead th {\n",
       "        text-align: right;\n",
       "    }\n",
       "</style>\n",
       "<table border=\"1\" class=\"dataframe\">\n",
       "  <thead>\n",
       "    <tr style=\"text-align: right;\">\n",
       "      <th></th>\n",
       "      <th>review_id</th>\n",
       "      <th>user_id</th>\n",
       "      <th>business_id</th>\n",
       "      <th>stars</th>\n",
       "      <th>useful</th>\n",
       "      <th>funny</th>\n",
       "      <th>cool</th>\n",
       "      <th>text</th>\n",
       "      <th>date</th>\n",
       "      <th>year</th>\n",
       "      <th>month</th>\n",
       "      <th>year_month</th>\n",
       "      <th>polarity</th>\n",
       "      <th>sentiment</th>\n",
       "    </tr>\n",
       "  </thead>\n",
       "  <tbody>\n",
       "    <tr>\n",
       "      <th>213569</th>\n",
       "      <td>ugkr-SwX2WgnY7GuPae9cw</td>\n",
       "      <td>YGu0ii3MXXfpkjTg0cpjGA</td>\n",
       "      <td>EIKbEHnsVg6dcsWopW4lkg</td>\n",
       "      <td>3.0</td>\n",
       "      <td>0</td>\n",
       "      <td>0</td>\n",
       "      <td>0</td>\n",
       "      <td>Cool little place and the burgers are pretty r...</td>\n",
       "      <td>2016-09-07 17:29:02</td>\n",
       "      <td>2016</td>\n",
       "      <td>9</td>\n",
       "      <td>1609</td>\n",
       "      <td>0.6265</td>\n",
       "      <td>1</td>\n",
       "    </tr>\n",
       "    <tr>\n",
       "      <th>751977</th>\n",
       "      <td>9szo47UahIGOqTlv4lSu9Q</td>\n",
       "      <td>-FH9K-xkwdE25gH8lGGQ3w</td>\n",
       "      <td>tdd8AJscOtb8HF0aQ8hPew</td>\n",
       "      <td>5.0</td>\n",
       "      <td>1</td>\n",
       "      <td>0</td>\n",
       "      <td>2</td>\n",
       "      <td>Was over in Maryville, IL installing a landsca...</td>\n",
       "      <td>2014-12-05 22:54:30</td>\n",
       "      <td>2014</td>\n",
       "      <td>12</td>\n",
       "      <td>1412</td>\n",
       "      <td>0.9808</td>\n",
       "      <td>1</td>\n",
       "    </tr>\n",
       "  </tbody>\n",
       "</table>\n",
       "</div>"
      ],
      "text/plain": [
       "                     review_id                 user_id  \\\n",
       "213569  ugkr-SwX2WgnY7GuPae9cw  YGu0ii3MXXfpkjTg0cpjGA   \n",
       "751977  9szo47UahIGOqTlv4lSu9Q  -FH9K-xkwdE25gH8lGGQ3w   \n",
       "\n",
       "                   business_id  stars  useful  funny  cool  \\\n",
       "213569  EIKbEHnsVg6dcsWopW4lkg    3.0       0      0     0   \n",
       "751977  tdd8AJscOtb8HF0aQ8hPew    5.0       1      0     2   \n",
       "\n",
       "                                                     text                date  \\\n",
       "213569  Cool little place and the burgers are pretty r... 2016-09-07 17:29:02   \n",
       "751977  Was over in Maryville, IL installing a landsca... 2014-12-05 22:54:30   \n",
       "\n",
       "        year  month year_month  polarity  sentiment  \n",
       "213569  2016      9       1609    0.6265          1  \n",
       "751977  2014     12       1412    0.9808          1  "
      ]
     },
     "execution_count": 61,
     "metadata": {},
     "output_type": "execute_result"
    }
   ],
   "source": [
    "print(yelp_reviews.info())\n",
    "yelp_reviews.sample(2)\n",
    "# Nota: el dataset constituye una muestra 1 millón de registros debido a que el dataset de reviews es mucho mayor. \n",
    "# A Efectos del EDA, se considera suficiente."
   ]
  },
  {
   "cell_type": "code",
   "execution_count": 11,
   "metadata": {},
   "outputs": [
    {
     "name": "stdout",
     "output_type": "stream",
     "text": [
      "<class 'pandas.core.frame.DataFrame'>\n",
      "RangeIndex: 1000000 entries, 0 to 999999\n",
      "Data columns (total 9 columns):\n",
      " #   Column     Non-Null Count    Dtype         \n",
      "---  ------     --------------    -----         \n",
      " 0   source     1000000 non-null  object        \n",
      " 1   site_id    1000000 non-null  object        \n",
      " 2   user_id    1000000 non-null  object        \n",
      " 3   datetime   1000000 non-null  datetime64[ns]\n",
      " 4   month      1000000 non-null  int32         \n",
      " 5   year       1000000 non-null  int32         \n",
      " 6   rating     1000000 non-null  float64       \n",
      " 7   polarity   1000000 non-null  float64       \n",
      " 8   sentiment  1000000 non-null  int64         \n",
      "dtypes: datetime64[ns](1), float64(2), int32(2), int64(1), object(3)\n",
      "memory usage: 61.0+ MB\n",
      "None\n"
     ]
    },
    {
     "data": {
      "text/html": [
       "<div>\n",
       "<style scoped>\n",
       "    .dataframe tbody tr th:only-of-type {\n",
       "        vertical-align: middle;\n",
       "    }\n",
       "\n",
       "    .dataframe tbody tr th {\n",
       "        vertical-align: top;\n",
       "    }\n",
       "\n",
       "    .dataframe thead th {\n",
       "        text-align: right;\n",
       "    }\n",
       "</style>\n",
       "<table border=\"1\" class=\"dataframe\">\n",
       "  <thead>\n",
       "    <tr style=\"text-align: right;\">\n",
       "      <th></th>\n",
       "      <th>source</th>\n",
       "      <th>site_id</th>\n",
       "      <th>user_id</th>\n",
       "      <th>datetime</th>\n",
       "      <th>month</th>\n",
       "      <th>year</th>\n",
       "      <th>rating</th>\n",
       "      <th>polarity</th>\n",
       "      <th>sentiment</th>\n",
       "    </tr>\n",
       "  </thead>\n",
       "  <tbody>\n",
       "    <tr>\n",
       "      <th>405272</th>\n",
       "      <td>yelp</td>\n",
       "      <td>8KH3DMj32jkIZCZR_y1ufg</td>\n",
       "      <td>4TVBeZAZhra7AlGPEj31Ug</td>\n",
       "      <td>2013-07-27 12:14:15</td>\n",
       "      <td>7</td>\n",
       "      <td>2013</td>\n",
       "      <td>5.0</td>\n",
       "      <td>0.9583</td>\n",
       "      <td>1</td>\n",
       "    </tr>\n",
       "    <tr>\n",
       "      <th>364439</th>\n",
       "      <td>yelp</td>\n",
       "      <td>O1kxISHZDJj55d4G2Xoevg</td>\n",
       "      <td>Twq_lw6dU9p6cGFsRPVlGQ</td>\n",
       "      <td>2021-04-11 00:22:39</td>\n",
       "      <td>4</td>\n",
       "      <td>2021</td>\n",
       "      <td>5.0</td>\n",
       "      <td>0.0000</td>\n",
       "      <td>0</td>\n",
       "    </tr>\n",
       "  </tbody>\n",
       "</table>\n",
       "</div>"
      ],
      "text/plain": [
       "       source                 site_id                 user_id  \\\n",
       "405272   yelp  8KH3DMj32jkIZCZR_y1ufg  4TVBeZAZhra7AlGPEj31Ug   \n",
       "364439   yelp  O1kxISHZDJj55d4G2Xoevg  Twq_lw6dU9p6cGFsRPVlGQ   \n",
       "\n",
       "                  datetime  month  year  rating  polarity  sentiment  \n",
       "405272 2013-07-27 12:14:15      7  2013     5.0    0.9583          1  \n",
       "364439 2021-04-11 00:22:39      4  2021     5.0    0.0000          0  "
      ]
     },
     "execution_count": 11,
     "metadata": {},
     "output_type": "execute_result"
    }
   ],
   "source": [
    "dfy_reviews = yelp_reviews.copy()\n",
    "\n",
    "dfy_reviews['source'] = 'yelp'\n",
    "dfy_reviews = dfy_reviews[['source','business_id','user_id', 'date', 'month', 'year', 'stars', 'polarity', 'sentiment']]\n",
    "dfy_reviews = dfy_reviews.rename(columns={'business_id': 'site_id', 'date':'datetime', 'stars':'rating'})\n",
    "\n",
    "print(dfy_reviews.info())\n",
    "dfy_reviews.sample(2)"
   ]
  },
  {
   "cell_type": "markdown",
   "metadata": {},
   "source": [
    "### YELP restaurants"
   ]
  },
  {
   "cell_type": "code",
   "execution_count": 12,
   "metadata": {},
   "outputs": [
    {
     "name": "stdout",
     "output_type": "stream",
     "text": [
      "<class 'pandas.core.frame.DataFrame'>\n",
      "RangeIndex: 212998 entries, 0 to 212997\n",
      "Data columns (total 16 columns):\n",
      " #   Column                 Non-Null Count   Dtype  \n",
      "---  ------                 --------------   -----  \n",
      " 0   business_id            212998 non-null  object \n",
      " 1   name                   212998 non-null  object \n",
      " 2   city                   212998 non-null  object \n",
      " 3   postal_code            212998 non-null  object \n",
      " 4   latitude               212998 non-null  float64\n",
      " 5   longitude              212998 non-null  float64\n",
      " 6   stars                  212998 non-null  float64\n",
      " 7   review_count           212998 non-null  int64  \n",
      " 8   is_open                212998 non-null  int64  \n",
      " 9   state                  212998 non-null  object \n",
      " 10  state_city             212998 non-null  object \n",
      " 11  city_postalcode        212998 non-null  object \n",
      " 12  state_city_postalcode  212998 non-null  object \n",
      " 13  categories             133777 non-null  object \n",
      " 14  food                   133777 non-null  object \n",
      " 15  price                  211084 non-null  float64\n",
      "dtypes: float64(4), int64(2), object(10)\n",
      "memory usage: 26.0+ MB\n",
      "None\n"
     ]
    },
    {
     "data": {
      "text/html": [
       "<div>\n",
       "<style scoped>\n",
       "    .dataframe tbody tr th:only-of-type {\n",
       "        vertical-align: middle;\n",
       "    }\n",
       "\n",
       "    .dataframe tbody tr th {\n",
       "        vertical-align: top;\n",
       "    }\n",
       "\n",
       "    .dataframe thead th {\n",
       "        text-align: right;\n",
       "    }\n",
       "</style>\n",
       "<table border=\"1\" class=\"dataframe\">\n",
       "  <thead>\n",
       "    <tr style=\"text-align: right;\">\n",
       "      <th></th>\n",
       "      <th>business_id</th>\n",
       "      <th>name</th>\n",
       "      <th>city</th>\n",
       "      <th>postal_code</th>\n",
       "      <th>latitude</th>\n",
       "      <th>longitude</th>\n",
       "      <th>stars</th>\n",
       "      <th>review_count</th>\n",
       "      <th>is_open</th>\n",
       "      <th>state</th>\n",
       "      <th>state_city</th>\n",
       "      <th>city_postalcode</th>\n",
       "      <th>state_city_postalcode</th>\n",
       "      <th>categories</th>\n",
       "      <th>food</th>\n",
       "      <th>price</th>\n",
       "    </tr>\n",
       "  </thead>\n",
       "  <tbody>\n",
       "    <tr>\n",
       "      <th>90597</th>\n",
       "      <td>l-0G0774U1vrZQXg_uanuA</td>\n",
       "      <td>Seafood By Crushed Velvet</td>\n",
       "      <td>Belleville</td>\n",
       "      <td>62220</td>\n",
       "      <td>38.513790</td>\n",
       "      <td>-89.981826</td>\n",
       "      <td>4.0</td>\n",
       "      <td>38</td>\n",
       "      <td>0</td>\n",
       "      <td>IL</td>\n",
       "      <td>IL - Belleville</td>\n",
       "      <td>Belleville - 62220</td>\n",
       "      <td>IL - Belleville - 62220</td>\n",
       "      <td>Seafood</td>\n",
       "      <td>yes</td>\n",
       "      <td>1.333333</td>\n",
       "    </tr>\n",
       "    <tr>\n",
       "      <th>194257</th>\n",
       "      <td>wzEJ5wBW6-5lAP9wab_eZw</td>\n",
       "      <td>Philippine Grocery</td>\n",
       "      <td>Tampa</td>\n",
       "      <td>33635</td>\n",
       "      <td>28.031867</td>\n",
       "      <td>-82.646772</td>\n",
       "      <td>4.5</td>\n",
       "      <td>9</td>\n",
       "      <td>1</td>\n",
       "      <td>FL</td>\n",
       "      <td>FL - Tampa</td>\n",
       "      <td>Tampa - 33635</td>\n",
       "      <td>FL - Tampa - 33635</td>\n",
       "      <td>Specialty Food</td>\n",
       "      <td>yes</td>\n",
       "      <td>2.000000</td>\n",
       "    </tr>\n",
       "    <tr>\n",
       "      <th>161238</th>\n",
       "      <td>nUWed8AXq019fq2PLz4vmw</td>\n",
       "      <td>Society Hill Dermatology</td>\n",
       "      <td>Philadelphia</td>\n",
       "      <td>19107</td>\n",
       "      <td>39.944401</td>\n",
       "      <td>-75.158027</td>\n",
       "      <td>1.0</td>\n",
       "      <td>6</td>\n",
       "      <td>1</td>\n",
       "      <td>PA</td>\n",
       "      <td>PA - Philadelphia</td>\n",
       "      <td>Philadelphia - 19107</td>\n",
       "      <td>PA - Philadelphia - 19107</td>\n",
       "      <td>None</td>\n",
       "      <td>None</td>\n",
       "      <td>1.540984</td>\n",
       "    </tr>\n",
       "    <tr>\n",
       "      <th>186234</th>\n",
       "      <td>sy7ADvpBA7SfHwbY-Y_5gw</td>\n",
       "      <td>Valanni</td>\n",
       "      <td>Philadelphia</td>\n",
       "      <td>19107</td>\n",
       "      <td>39.946794</td>\n",
       "      <td>-75.162222</td>\n",
       "      <td>4.0</td>\n",
       "      <td>875</td>\n",
       "      <td>0</td>\n",
       "      <td>PA</td>\n",
       "      <td>PA - Philadelphia</td>\n",
       "      <td>Philadelphia - 19107</td>\n",
       "      <td>PA - Philadelphia - 19107</td>\n",
       "      <td>Tapas Bars</td>\n",
       "      <td>yes</td>\n",
       "      <td>1.540984</td>\n",
       "    </tr>\n",
       "    <tr>\n",
       "      <th>123037</th>\n",
       "      <td>Z4vlztrocJo9WWcL5TFeBA</td>\n",
       "      <td>Dunkin'</td>\n",
       "      <td>Philadelphia</td>\n",
       "      <td>19136</td>\n",
       "      <td>40.050982</td>\n",
       "      <td>-75.010120</td>\n",
       "      <td>3.0</td>\n",
       "      <td>7</td>\n",
       "      <td>1</td>\n",
       "      <td>PA</td>\n",
       "      <td>PA - Philadelphia</td>\n",
       "      <td>Philadelphia - 19136</td>\n",
       "      <td>PA - Philadelphia - 19136</td>\n",
       "      <td>Food</td>\n",
       "      <td>yes</td>\n",
       "      <td>1.090909</td>\n",
       "    </tr>\n",
       "  </tbody>\n",
       "</table>\n",
       "</div>"
      ],
      "text/plain": [
       "                   business_id                       name          city  \\\n",
       "90597   l-0G0774U1vrZQXg_uanuA  Seafood By Crushed Velvet    Belleville   \n",
       "194257  wzEJ5wBW6-5lAP9wab_eZw         Philippine Grocery         Tampa   \n",
       "161238  nUWed8AXq019fq2PLz4vmw   Society Hill Dermatology  Philadelphia   \n",
       "186234  sy7ADvpBA7SfHwbY-Y_5gw                    Valanni  Philadelphia   \n",
       "123037  Z4vlztrocJo9WWcL5TFeBA                    Dunkin'  Philadelphia   \n",
       "\n",
       "       postal_code   latitude  longitude  stars  review_count  is_open state  \\\n",
       "90597        62220  38.513790 -89.981826    4.0            38        0    IL   \n",
       "194257       33635  28.031867 -82.646772    4.5             9        1    FL   \n",
       "161238       19107  39.944401 -75.158027    1.0             6        1    PA   \n",
       "186234       19107  39.946794 -75.162222    4.0           875        0    PA   \n",
       "123037       19136  40.050982 -75.010120    3.0             7        1    PA   \n",
       "\n",
       "               state_city       city_postalcode      state_city_postalcode  \\\n",
       "90597     IL - Belleville    Belleville - 62220    IL - Belleville - 62220   \n",
       "194257         FL - Tampa         Tampa - 33635         FL - Tampa - 33635   \n",
       "161238  PA - Philadelphia  Philadelphia - 19107  PA - Philadelphia - 19107   \n",
       "186234  PA - Philadelphia  Philadelphia - 19107  PA - Philadelphia - 19107   \n",
       "123037  PA - Philadelphia  Philadelphia - 19136  PA - Philadelphia - 19136   \n",
       "\n",
       "            categories  food     price  \n",
       "90597          Seafood   yes  1.333333  \n",
       "194257  Specialty Food   yes  2.000000  \n",
       "161238            None  None  1.540984  \n",
       "186234      Tapas Bars   yes  1.540984  \n",
       "123037            Food   yes  1.090909  "
      ]
     },
     "execution_count": 12,
     "metadata": {},
     "output_type": "execute_result"
    }
   ],
   "source": [
    "print(yelp_rest.info())\n",
    "yelp_rest.sample(5)"
   ]
  },
  {
   "cell_type": "code",
   "execution_count": 13,
   "metadata": {},
   "outputs": [
    {
     "name": "stdout",
     "output_type": "stream",
     "text": [
      "<class 'pandas.core.frame.DataFrame'>\n",
      "RangeIndex: 211084 entries, 0 to 211083\n",
      "Data columns (total 15 columns):\n",
      " #   Column                 Non-Null Count   Dtype         \n",
      "---  ------                 --------------   -----         \n",
      " 0   source                 211084 non-null  object        \n",
      " 1   site_id                211084 non-null  object        \n",
      " 2   name                   211084 non-null  object        \n",
      " 3   state                  211084 non-null  object        \n",
      " 4   city                   211084 non-null  object        \n",
      " 5   postal_code            211084 non-null  object        \n",
      " 6   price                  211084 non-null  float64       \n",
      " 7   rating_avg             211084 non-null  float64       \n",
      " 8   reviews_count          211084 non-null  int64         \n",
      " 9   date_start             128792 non-null  datetime64[ns]\n",
      " 10  year                   128792 non-null  float64       \n",
      " 11  month                  128792 non-null  float64       \n",
      " 12  state_city             211084 non-null  object        \n",
      " 13  city_postalcode        211084 non-null  object        \n",
      " 14  state_city_postalcode  211084 non-null  object        \n",
      "dtypes: datetime64[ns](1), float64(4), int64(1), object(9)\n",
      "memory usage: 24.2+ MB\n",
      "None\n"
     ]
    },
    {
     "data": {
      "text/html": [
       "<div>\n",
       "<style scoped>\n",
       "    .dataframe tbody tr th:only-of-type {\n",
       "        vertical-align: middle;\n",
       "    }\n",
       "\n",
       "    .dataframe tbody tr th {\n",
       "        vertical-align: top;\n",
       "    }\n",
       "\n",
       "    .dataframe thead th {\n",
       "        text-align: right;\n",
       "    }\n",
       "</style>\n",
       "<table border=\"1\" class=\"dataframe\">\n",
       "  <thead>\n",
       "    <tr style=\"text-align: right;\">\n",
       "      <th></th>\n",
       "      <th>source</th>\n",
       "      <th>site_id</th>\n",
       "      <th>name</th>\n",
       "      <th>state</th>\n",
       "      <th>city</th>\n",
       "      <th>postal_code</th>\n",
       "      <th>price</th>\n",
       "      <th>rating_avg</th>\n",
       "      <th>reviews_count</th>\n",
       "      <th>date_start</th>\n",
       "      <th>year</th>\n",
       "      <th>month</th>\n",
       "      <th>state_city</th>\n",
       "      <th>city_postalcode</th>\n",
       "      <th>state_city_postalcode</th>\n",
       "    </tr>\n",
       "  </thead>\n",
       "  <tbody>\n",
       "    <tr>\n",
       "      <th>44961</th>\n",
       "      <td>yelp</td>\n",
       "      <td>0g9XB5iLNje1B4UNbzqCPA</td>\n",
       "      <td>The Blue Crab Restaurant &amp; Oyster Bar</td>\n",
       "      <td>LA</td>\n",
       "      <td>New Orleans</td>\n",
       "      <td>70124</td>\n",
       "      <td>1.500000</td>\n",
       "      <td>3.5</td>\n",
       "      <td>492</td>\n",
       "      <td>2013-09-04 22:34:08</td>\n",
       "      <td>2013.0</td>\n",
       "      <td>9.0</td>\n",
       "      <td>LA - New Orleans</td>\n",
       "      <td>New Orleans - 70124</td>\n",
       "      <td>LA - New Orleans - 70124</td>\n",
       "    </tr>\n",
       "    <tr>\n",
       "      <th>43061</th>\n",
       "      <td>yelp</td>\n",
       "      <td>djFvG5mn3PfG_SFpMxlzFQ</td>\n",
       "      <td>Penguin's Pub</td>\n",
       "      <td>PA</td>\n",
       "      <td>Warminster</td>\n",
       "      <td>18974</td>\n",
       "      <td>1.190476</td>\n",
       "      <td>3.0</td>\n",
       "      <td>7</td>\n",
       "      <td>2014-01-29 18:32:30</td>\n",
       "      <td>2014.0</td>\n",
       "      <td>1.0</td>\n",
       "      <td>PA - Warminster</td>\n",
       "      <td>Warminster - 18974</td>\n",
       "      <td>PA - Warminster - 18974</td>\n",
       "    </tr>\n",
       "  </tbody>\n",
       "</table>\n",
       "</div>"
      ],
      "text/plain": [
       "      source                 site_id                                   name  \\\n",
       "44961   yelp  0g9XB5iLNje1B4UNbzqCPA  The Blue Crab Restaurant & Oyster Bar   \n",
       "43061   yelp  djFvG5mn3PfG_SFpMxlzFQ                          Penguin's Pub   \n",
       "\n",
       "      state         city postal_code     price  rating_avg  reviews_count  \\\n",
       "44961    LA  New Orleans       70124  1.500000         3.5            492   \n",
       "43061    PA   Warminster       18974  1.190476         3.0              7   \n",
       "\n",
       "               date_start    year  month        state_city  \\\n",
       "44961 2013-09-04 22:34:08  2013.0    9.0  LA - New Orleans   \n",
       "43061 2014-01-29 18:32:30  2014.0    1.0   PA - Warminster   \n",
       "\n",
       "           city_postalcode     state_city_postalcode  \n",
       "44961  New Orleans - 70124  LA - New Orleans - 70124  \n",
       "43061   Warminster - 18974   PA - Warminster - 18974  "
      ]
     },
     "execution_count": 13,
     "metadata": {},
     "output_type": "execute_result"
    }
   ],
   "source": [
    "dfy_rest = yelp_rest\n",
    "\n",
    "dfy_rest['source'] = 'yelp'\n",
    "dfy_rest = dfy_rest[['source','business_id', 'name', 'state', 'city', 'postal_code', 'price', 'stars', 'review_count']]\n",
    "dfy_rest = dfy_rest.rename(columns={'business_id': 'site_id', 'stars':'rating_avg', 'review_count':'reviews_count'})\n",
    "\n",
    "dfy_rest.dropna(subset=['price'], inplace=True)\n",
    "\n",
    "# Agregado de fecha de inicio de acitividad\n",
    "dfy_rest_date_start = dfy_reviews.groupby('site_id')['datetime'].min().reset_index()\n",
    "dfy_rest = pd.merge(dfy_rest, dfy_rest_date_start, how='left', on=['site_id'])\n",
    "dfy_rest = dfy_rest.rename(columns={'datetime': 'date_start'})\n",
    "\n",
    "dfy_rest['year'] = dfy_rest['date_start'].dt.year\n",
    "dfy_rest['month'] = dfy_rest['date_start'].dt.month\n",
    "\n",
    "dfy_rest['state_city'] = dfy_rest['state'].str.cat(dfy_rest['city'], sep=' - ')\n",
    "dfy_rest['city_postalcode'] = dfy_rest['city'].str.cat(dfy_rest['postal_code'], sep=' - ')\n",
    "dfy_rest['state_city_postalcode'] = dfy_rest['state'].str.cat(dfy_rest['city'], sep=' - ').str.cat(dfy_rest['postal_code'], sep=' - ')\n",
    "\n",
    "print(dfy_rest.info())\n",
    "dfy_rest.sample(2)"
   ]
  },
  {
   "cell_type": "code",
   "execution_count": 14,
   "metadata": {},
   "outputs": [
    {
     "name": "stdout",
     "output_type": "stream",
     "text": [
      "<class 'pandas.core.frame.DataFrame'>\n",
      "RangeIndex: 211084 entries, 0 to 211083\n",
      "Data columns (total 15 columns):\n",
      " #   Column                 Non-Null Count   Dtype         \n",
      "---  ------                 --------------   -----         \n",
      " 0   source                 211084 non-null  object        \n",
      " 1   site_id                211084 non-null  object        \n",
      " 2   name                   211084 non-null  object        \n",
      " 3   state                  211084 non-null  object        \n",
      " 4   city                   211084 non-null  object        \n",
      " 5   postal_code            211084 non-null  object        \n",
      " 6   price                  211084 non-null  float64       \n",
      " 7   rating_avg             211084 non-null  float64       \n",
      " 8   reviews_count          211084 non-null  int64         \n",
      " 9   date_start             128792 non-null  datetime64[ns]\n",
      " 10  year                   128792 non-null  float64       \n",
      " 11  month                  128792 non-null  float64       \n",
      " 12  state_city             211084 non-null  object        \n",
      " 13  city_postalcode        211084 non-null  object        \n",
      " 14  state_city_postalcode  211084 non-null  object        \n",
      "dtypes: datetime64[ns](1), float64(4), int64(1), object(9)\n",
      "memory usage: 24.2+ MB\n",
      "None\n"
     ]
    },
    {
     "data": {
      "text/html": [
       "<div>\n",
       "<style scoped>\n",
       "    .dataframe tbody tr th:only-of-type {\n",
       "        vertical-align: middle;\n",
       "    }\n",
       "\n",
       "    .dataframe tbody tr th {\n",
       "        vertical-align: top;\n",
       "    }\n",
       "\n",
       "    .dataframe thead th {\n",
       "        text-align: right;\n",
       "    }\n",
       "</style>\n",
       "<table border=\"1\" class=\"dataframe\">\n",
       "  <thead>\n",
       "    <tr style=\"text-align: right;\">\n",
       "      <th></th>\n",
       "      <th>source</th>\n",
       "      <th>site_id</th>\n",
       "      <th>name</th>\n",
       "      <th>state</th>\n",
       "      <th>city</th>\n",
       "      <th>postal_code</th>\n",
       "      <th>price</th>\n",
       "      <th>rating_avg</th>\n",
       "      <th>reviews_count</th>\n",
       "      <th>date_start</th>\n",
       "      <th>year</th>\n",
       "      <th>month</th>\n",
       "      <th>state_city</th>\n",
       "      <th>city_postalcode</th>\n",
       "      <th>state_city_postalcode</th>\n",
       "    </tr>\n",
       "  </thead>\n",
       "  <tbody>\n",
       "    <tr>\n",
       "      <th>52030</th>\n",
       "      <td>yelp</td>\n",
       "      <td>89UTItrZckA5ld9EQ8kFhg</td>\n",
       "      <td>Jnl Glass</td>\n",
       "      <td>CA</td>\n",
       "      <td>Santa Barbara</td>\n",
       "      <td>93103</td>\n",
       "      <td>1.166667</td>\n",
       "      <td>4.0</td>\n",
       "      <td>16</td>\n",
       "      <td>NaT</td>\n",
       "      <td>NaN</td>\n",
       "      <td>NaN</td>\n",
       "      <td>CA - Santa Barbara</td>\n",
       "      <td>Santa Barbara - 93103</td>\n",
       "      <td>CA - Santa Barbara - 93103</td>\n",
       "    </tr>\n",
       "    <tr>\n",
       "      <th>203350</th>\n",
       "      <td>yelp</td>\n",
       "      <td>pdtLdjKYw_wxzLb6JHNDAw</td>\n",
       "      <td>Panera Bread</td>\n",
       "      <td>TN</td>\n",
       "      <td>Nashville</td>\n",
       "      <td>37215</td>\n",
       "      <td>1.800000</td>\n",
       "      <td>2.5</td>\n",
       "      <td>40</td>\n",
       "      <td>2012-01-18 15:24:18</td>\n",
       "      <td>2012.0</td>\n",
       "      <td>1.0</td>\n",
       "      <td>TN - Nashville</td>\n",
       "      <td>Nashville - 37215</td>\n",
       "      <td>TN - Nashville - 37215</td>\n",
       "    </tr>\n",
       "  </tbody>\n",
       "</table>\n",
       "</div>"
      ],
      "text/plain": [
       "       source                 site_id          name state           city  \\\n",
       "52030    yelp  89UTItrZckA5ld9EQ8kFhg     Jnl Glass    CA  Santa Barbara   \n",
       "203350   yelp  pdtLdjKYw_wxzLb6JHNDAw  Panera Bread    TN      Nashville   \n",
       "\n",
       "       postal_code     price  rating_avg  reviews_count          date_start  \\\n",
       "52030        93103  1.166667         4.0             16                 NaT   \n",
       "203350       37215  1.800000         2.5             40 2012-01-18 15:24:18   \n",
       "\n",
       "          year  month          state_city        city_postalcode  \\\n",
       "52030      NaN    NaN  CA - Santa Barbara  Santa Barbara - 93103   \n",
       "203350  2012.0    1.0      TN - Nashville      Nashville - 37215   \n",
       "\n",
       "             state_city_postalcode  \n",
       "52030   CA - Santa Barbara - 93103  \n",
       "203350      TN - Nashville - 37215  "
      ]
     },
     "execution_count": 14,
     "metadata": {},
     "output_type": "execute_result"
    }
   ],
   "source": [
    "print(dfy_rest.info())\n",
    "dfy_rest.sample(2)"
   ]
  },
  {
   "cell_type": "markdown",
   "metadata": {},
   "source": [
    "### YELP user"
   ]
  },
  {
   "cell_type": "code",
   "execution_count": 15,
   "metadata": {},
   "outputs": [
    {
     "name": "stdout",
     "output_type": "stream",
     "text": [
      "<class 'pandas.core.frame.DataFrame'>\n",
      "RangeIndex: 2105597 entries, 0 to 2105596\n",
      "Data columns (total 11 columns):\n",
      " #   Column         Dtype         \n",
      "---  ------         -----         \n",
      " 0   user_id        object        \n",
      " 1   review_count   int64         \n",
      " 2   fans           int64         \n",
      " 3   yelping_since  datetime64[ns]\n",
      " 4   useful         int64         \n",
      " 5   funny          int64         \n",
      " 6   cool           int64         \n",
      " 7   average_stars  float64       \n",
      " 8   year           int32         \n",
      " 9   month          int32         \n",
      " 10  year_month     object        \n",
      "dtypes: datetime64[ns](1), float64(1), int32(2), int64(5), object(2)\n",
      "memory usage: 160.6+ MB\n",
      "None\n"
     ]
    },
    {
     "data": {
      "text/html": [
       "<div>\n",
       "<style scoped>\n",
       "    .dataframe tbody tr th:only-of-type {\n",
       "        vertical-align: middle;\n",
       "    }\n",
       "\n",
       "    .dataframe tbody tr th {\n",
       "        vertical-align: top;\n",
       "    }\n",
       "\n",
       "    .dataframe thead th {\n",
       "        text-align: right;\n",
       "    }\n",
       "</style>\n",
       "<table border=\"1\" class=\"dataframe\">\n",
       "  <thead>\n",
       "    <tr style=\"text-align: right;\">\n",
       "      <th></th>\n",
       "      <th>user_id</th>\n",
       "      <th>review_count</th>\n",
       "      <th>fans</th>\n",
       "      <th>yelping_since</th>\n",
       "      <th>useful</th>\n",
       "      <th>funny</th>\n",
       "      <th>cool</th>\n",
       "      <th>average_stars</th>\n",
       "      <th>year</th>\n",
       "      <th>month</th>\n",
       "      <th>year_month</th>\n",
       "    </tr>\n",
       "  </thead>\n",
       "  <tbody>\n",
       "    <tr>\n",
       "      <th>141644</th>\n",
       "      <td>N-1hL46EK8EeJTKhk8QTxw</td>\n",
       "      <td>3</td>\n",
       "      <td>0</td>\n",
       "      <td>2015-03-14 22:10:26</td>\n",
       "      <td>1</td>\n",
       "      <td>0</td>\n",
       "      <td>0</td>\n",
       "      <td>5.00</td>\n",
       "      <td>2015</td>\n",
       "      <td>3</td>\n",
       "      <td>1503</td>\n",
       "    </tr>\n",
       "    <tr>\n",
       "      <th>722844</th>\n",
       "      <td>2jX7Z0QmlbJRxoNl8V-1-Q</td>\n",
       "      <td>7</td>\n",
       "      <td>0</td>\n",
       "      <td>2012-02-25 05:13:18</td>\n",
       "      <td>0</td>\n",
       "      <td>0</td>\n",
       "      <td>0</td>\n",
       "      <td>4.29</td>\n",
       "      <td>2012</td>\n",
       "      <td>2</td>\n",
       "      <td>1202</td>\n",
       "    </tr>\n",
       "  </tbody>\n",
       "</table>\n",
       "</div>"
      ],
      "text/plain": [
       "                       user_id  review_count  fans       yelping_since  \\\n",
       "141644  N-1hL46EK8EeJTKhk8QTxw             3     0 2015-03-14 22:10:26   \n",
       "722844  2jX7Z0QmlbJRxoNl8V-1-Q             7     0 2012-02-25 05:13:18   \n",
       "\n",
       "        useful  funny  cool  average_stars  year  month year_month  \n",
       "141644       1      0     0           5.00  2015      3       1503  \n",
       "722844       0      0     0           4.29  2012      2       1202  "
      ]
     },
     "execution_count": 15,
     "metadata": {},
     "output_type": "execute_result"
    }
   ],
   "source": [
    "dfy_user =yelp_user.copy()\n",
    "print(dfy_user.info())\n",
    "dfy_user.sample(2)"
   ]
  },
  {
   "cell_type": "code",
   "execution_count": 16,
   "metadata": {},
   "outputs": [
    {
     "name": "stdout",
     "output_type": "stream",
     "text": [
      "<class 'pandas.core.frame.DataFrame'>\n",
      "RangeIndex: 2105597 entries, 0 to 2105596\n",
      "Data columns (total 7 columns):\n",
      " #   Column         Dtype         \n",
      "---  ------         -----         \n",
      " 0   user_id        object        \n",
      " 1   reviews_count  int64         \n",
      " 2   date_start     datetime64[ns]\n",
      " 3   rating_avg     float64       \n",
      " 4   year           int32         \n",
      " 5   month          int32         \n",
      " 6   source         object        \n",
      "dtypes: datetime64[ns](1), float64(1), int32(2), int64(1), object(2)\n",
      "memory usage: 96.4+ MB\n"
     ]
    },
    {
     "data": {
      "text/html": [
       "<div>\n",
       "<style scoped>\n",
       "    .dataframe tbody tr th:only-of-type {\n",
       "        vertical-align: middle;\n",
       "    }\n",
       "\n",
       "    .dataframe tbody tr th {\n",
       "        vertical-align: top;\n",
       "    }\n",
       "\n",
       "    .dataframe thead th {\n",
       "        text-align: right;\n",
       "    }\n",
       "</style>\n",
       "<table border=\"1\" class=\"dataframe\">\n",
       "  <thead>\n",
       "    <tr style=\"text-align: right;\">\n",
       "      <th></th>\n",
       "      <th>user_id</th>\n",
       "      <th>reviews_count</th>\n",
       "      <th>date_start</th>\n",
       "      <th>rating_avg</th>\n",
       "      <th>year</th>\n",
       "      <th>month</th>\n",
       "      <th>source</th>\n",
       "    </tr>\n",
       "  </thead>\n",
       "  <tbody>\n",
       "    <tr>\n",
       "      <th>1888119</th>\n",
       "      <td>MeR2VpL27-lGf451aPddFw</td>\n",
       "      <td>1</td>\n",
       "      <td>2021-10-16 03:31:27</td>\n",
       "      <td>5.00</td>\n",
       "      <td>2021</td>\n",
       "      <td>10</td>\n",
       "      <td>yelp</td>\n",
       "    </tr>\n",
       "    <tr>\n",
       "      <th>679458</th>\n",
       "      <td>MlbQPswfWeupUQaE0vAu4Q</td>\n",
       "      <td>9</td>\n",
       "      <td>2018-08-19 23:56:59</td>\n",
       "      <td>4.22</td>\n",
       "      <td>2018</td>\n",
       "      <td>8</td>\n",
       "      <td>yelp</td>\n",
       "    </tr>\n",
       "    <tr>\n",
       "      <th>336032</th>\n",
       "      <td>0ABOFbBrxWWFko58Gn3U2w</td>\n",
       "      <td>1</td>\n",
       "      <td>2015-01-01 18:10:05</td>\n",
       "      <td>5.00</td>\n",
       "      <td>2015</td>\n",
       "      <td>1</td>\n",
       "      <td>yelp</td>\n",
       "    </tr>\n",
       "    <tr>\n",
       "      <th>222628</th>\n",
       "      <td>maTSkTkRAbEDe0mAFoCTgQ</td>\n",
       "      <td>200</td>\n",
       "      <td>2012-01-05 13:28:07</td>\n",
       "      <td>3.88</td>\n",
       "      <td>2012</td>\n",
       "      <td>1</td>\n",
       "      <td>yelp</td>\n",
       "    </tr>\n",
       "    <tr>\n",
       "      <th>176522</th>\n",
       "      <td>ZNb7feLKB5d2d2vGW_aahg</td>\n",
       "      <td>3</td>\n",
       "      <td>2014-04-07 15:53:23</td>\n",
       "      <td>2.00</td>\n",
       "      <td>2014</td>\n",
       "      <td>4</td>\n",
       "      <td>yelp</td>\n",
       "    </tr>\n",
       "  </tbody>\n",
       "</table>\n",
       "</div>"
      ],
      "text/plain": [
       "                        user_id  reviews_count          date_start  \\\n",
       "1888119  MeR2VpL27-lGf451aPddFw              1 2021-10-16 03:31:27   \n",
       "679458   MlbQPswfWeupUQaE0vAu4Q              9 2018-08-19 23:56:59   \n",
       "336032   0ABOFbBrxWWFko58Gn3U2w              1 2015-01-01 18:10:05   \n",
       "222628   maTSkTkRAbEDe0mAFoCTgQ            200 2012-01-05 13:28:07   \n",
       "176522   ZNb7feLKB5d2d2vGW_aahg              3 2014-04-07 15:53:23   \n",
       "\n",
       "         rating_avg  year  month source  \n",
       "1888119        5.00  2021     10   yelp  \n",
       "679458         4.22  2018      8   yelp  \n",
       "336032         5.00  2015      1   yelp  \n",
       "222628         3.88  2012      1   yelp  \n",
       "176522         2.00  2014      4   yelp  "
      ]
     },
     "execution_count": 16,
     "metadata": {},
     "output_type": "execute_result"
    }
   ],
   "source": [
    "# Selección de campos\n",
    "dfy_user = dfy_user[['user_id', 'review_count', 'yelping_since', 'average_stars']]\n",
    "dfy_user = dfy_user.rename(columns={'review_count':'reviews_count', 'yelping_since':'date_start', 'average_stars':'rating_avg'})\n",
    "\n",
    "dfy_user['date_start'] = pd.to_datetime(dfy_user['date_start'], errors='coerce')\n",
    "dfy_user.reset_index(drop=True, inplace=True)\n",
    "\n",
    "dfy_user['year'] = dfy_user['date_start'].dt.year\n",
    "dfy_user['month'] = dfy_user['date_start'].dt.month\n",
    "\n",
    "dfy_user['source'] = 'yelp'\n",
    "dfy_user.info()\n",
    "dfy_user.sample(5)"
   ]
  },
  {
   "cell_type": "markdown",
   "metadata": {},
   "source": [
    "### YELP checkin"
   ]
  },
  {
   "cell_type": "code",
   "execution_count": 17,
   "metadata": {},
   "outputs": [
    {
     "name": "stdout",
     "output_type": "stream",
     "text": [
      "(28668325, 19)\n"
     ]
    },
    {
     "data": {
      "text/html": [
       "<div>\n",
       "<style scoped>\n",
       "    .dataframe tbody tr th:only-of-type {\n",
       "        vertical-align: middle;\n",
       "    }\n",
       "\n",
       "    .dataframe tbody tr th {\n",
       "        vertical-align: top;\n",
       "    }\n",
       "\n",
       "    .dataframe thead th {\n",
       "        text-align: right;\n",
       "    }\n",
       "</style>\n",
       "<table border=\"1\" class=\"dataframe\">\n",
       "  <thead>\n",
       "    <tr style=\"text-align: right;\">\n",
       "      <th></th>\n",
       "      <th>business_id</th>\n",
       "      <th>date</th>\n",
       "      <th>name</th>\n",
       "      <th>city</th>\n",
       "      <th>postal_code</th>\n",
       "      <th>latitude</th>\n",
       "      <th>longitude</th>\n",
       "      <th>stars</th>\n",
       "      <th>review_count</th>\n",
       "      <th>is_open</th>\n",
       "      <th>state</th>\n",
       "      <th>state_city</th>\n",
       "      <th>city_postalcode</th>\n",
       "      <th>state_city_postalcode</th>\n",
       "      <th>categories</th>\n",
       "      <th>food</th>\n",
       "      <th>price</th>\n",
       "      <th>year</th>\n",
       "      <th>month</th>\n",
       "    </tr>\n",
       "  </thead>\n",
       "  <tbody>\n",
       "    <tr>\n",
       "      <th>13261538</th>\n",
       "      <td>SZU9c8V2GuREDN5KgyHFJw</td>\n",
       "      <td>2018-11-24 20:14:36</td>\n",
       "      <td>Santa Barbara Shellfish Company</td>\n",
       "      <td>Santa Barbara</td>\n",
       "      <td>93101</td>\n",
       "      <td>34.408715</td>\n",
       "      <td>-119.685019</td>\n",
       "      <td>4.0</td>\n",
       "      <td>2404</td>\n",
       "      <td>1</td>\n",
       "      <td>CA</td>\n",
       "      <td>CA - Santa Barbara</td>\n",
       "      <td>Santa Barbara - 93101</td>\n",
       "      <td>CA - Santa Barbara - 93101</td>\n",
       "      <td>Seafood</td>\n",
       "      <td>yes</td>\n",
       "      <td>1.891304</td>\n",
       "      <td>2018</td>\n",
       "      <td>11</td>\n",
       "    </tr>\n",
       "    <tr>\n",
       "      <th>17496935</th>\n",
       "      <td>al3Ri6TEqa2rBzjHsn0T_g</td>\n",
       "      <td>2015-05-19 17:48:20</td>\n",
       "      <td>Merchant</td>\n",
       "      <td>New Orleans</td>\n",
       "      <td>70112</td>\n",
       "      <td>29.952739</td>\n",
       "      <td>-90.071173</td>\n",
       "      <td>4.0</td>\n",
       "      <td>649</td>\n",
       "      <td>0</td>\n",
       "      <td>LA</td>\n",
       "      <td>LA - New Orleans</td>\n",
       "      <td>New Orleans - 70112</td>\n",
       "      <td>LA - New Orleans - 70112</td>\n",
       "      <td>Bars</td>\n",
       "      <td>yes</td>\n",
       "      <td>1.555556</td>\n",
       "      <td>2015</td>\n",
       "      <td>5</td>\n",
       "    </tr>\n",
       "  </tbody>\n",
       "</table>\n",
       "</div>"
      ],
      "text/plain": [
       "                     business_id                date  \\\n",
       "13261538  SZU9c8V2GuREDN5KgyHFJw 2018-11-24 20:14:36   \n",
       "17496935  al3Ri6TEqa2rBzjHsn0T_g 2015-05-19 17:48:20   \n",
       "\n",
       "                                     name           city postal_code  \\\n",
       "13261538  Santa Barbara Shellfish Company  Santa Barbara       93101   \n",
       "17496935                         Merchant    New Orleans       70112   \n",
       "\n",
       "           latitude   longitude  stars  review_count  is_open state  \\\n",
       "13261538  34.408715 -119.685019    4.0          2404        1    CA   \n",
       "17496935  29.952739  -90.071173    4.0           649        0    LA   \n",
       "\n",
       "                  state_city        city_postalcode  \\\n",
       "13261538  CA - Santa Barbara  Santa Barbara - 93101   \n",
       "17496935    LA - New Orleans    New Orleans - 70112   \n",
       "\n",
       "               state_city_postalcode categories food     price  year  month  \n",
       "13261538  CA - Santa Barbara - 93101    Seafood  yes  1.891304  2018     11  \n",
       "17496935    LA - New Orleans - 70112       Bars  yes  1.555556  2015      5  "
      ]
     },
     "execution_count": 17,
     "metadata": {},
     "output_type": "execute_result"
    }
   ],
   "source": [
    "print(yelp_checkins.shape)\n",
    "yelp_checkins.sample(2)"
   ]
  },
  {
   "cell_type": "code",
   "execution_count": 18,
   "metadata": {},
   "outputs": [],
   "source": [
    "dfy_checkins = yelp_checkins[['business_id', 'date']]\n",
    "dfy_checkins = dfy_checkins.rename(columns={'business_id':'site_id', 'date':'datetime'})\n",
    "\n",
    "#dfy_checkins['datetime'] = pd.to_datetime(dfy_checkins['date'])\n",
    "dfy_checkins['year'] = dfy_checkins['datetime'].dt.year\n",
    "dfy_checkins['month'] = dfy_checkins['datetime'].dt.month\n",
    "\n",
    "dfy_checkins['source'] = 'yelp'\n",
    "\n",
    "dfy_checkins = dfy_checkins[['source', 'site_id', 'datetime', 'year', 'month']]"
   ]
  },
  {
   "cell_type": "code",
   "execution_count": 19,
   "metadata": {},
   "outputs": [
    {
     "name": "stdout",
     "output_type": "stream",
     "text": [
      "<class 'pandas.core.frame.DataFrame'>\n",
      "Index: 28668325 entries, 0 to 28715821\n",
      "Data columns (total 5 columns):\n",
      " #   Column    Dtype         \n",
      "---  ------    -----         \n",
      " 0   source    object        \n",
      " 1   site_id   object        \n",
      " 2   datetime  datetime64[ns]\n",
      " 3   year      int32         \n",
      " 4   month     int32         \n",
      "dtypes: datetime64[ns](1), int32(2), object(2)\n",
      "memory usage: 1.1+ GB\n",
      "None\n"
     ]
    },
    {
     "data": {
      "text/html": [
       "<div>\n",
       "<style scoped>\n",
       "    .dataframe tbody tr th:only-of-type {\n",
       "        vertical-align: middle;\n",
       "    }\n",
       "\n",
       "    .dataframe tbody tr th {\n",
       "        vertical-align: top;\n",
       "    }\n",
       "\n",
       "    .dataframe thead th {\n",
       "        text-align: right;\n",
       "    }\n",
       "</style>\n",
       "<table border=\"1\" class=\"dataframe\">\n",
       "  <thead>\n",
       "    <tr style=\"text-align: right;\">\n",
       "      <th></th>\n",
       "      <th>source</th>\n",
       "      <th>site_id</th>\n",
       "      <th>datetime</th>\n",
       "      <th>year</th>\n",
       "      <th>month</th>\n",
       "    </tr>\n",
       "  </thead>\n",
       "  <tbody>\n",
       "    <tr>\n",
       "      <th>14631201</th>\n",
       "      <td>yelp</td>\n",
       "      <td>VQcCL9PiNL_wkGf-uF3fjg</td>\n",
       "      <td>2014-01-12 21:46:06</td>\n",
       "      <td>2014</td>\n",
       "      <td>1</td>\n",
       "    </tr>\n",
       "    <tr>\n",
       "      <th>10699634</th>\n",
       "      <td>yelp</td>\n",
       "      <td>MtXqu_wQ6Jznsu7Pir8eiA</td>\n",
       "      <td>2015-06-13 00:10:11</td>\n",
       "      <td>2015</td>\n",
       "      <td>6</td>\n",
       "    </tr>\n",
       "  </tbody>\n",
       "</table>\n",
       "</div>"
      ],
      "text/plain": [
       "         source                 site_id            datetime  year  month\n",
       "14631201   yelp  VQcCL9PiNL_wkGf-uF3fjg 2014-01-12 21:46:06  2014      1\n",
       "10699634   yelp  MtXqu_wQ6Jznsu7Pir8eiA 2015-06-13 00:10:11  2015      6"
      ]
     },
     "execution_count": 19,
     "metadata": {},
     "output_type": "execute_result"
    }
   ],
   "source": [
    "print(dfy_checkins.info())\n",
    "dfy_checkins.sample(2)"
   ]
  },
  {
   "cell_type": "markdown",
   "metadata": {},
   "source": [
    "### YELP categories"
   ]
  },
  {
   "cell_type": "code",
   "execution_count": 20,
   "metadata": {},
   "outputs": [
    {
     "name": "stdout",
     "output_type": "stream",
     "text": [
      "<class 'pandas.core.frame.DataFrame'>\n",
      "RangeIndex: 149643 entries, 0 to 149642\n",
      "Data columns (total 3 columns):\n",
      " #   Column      Non-Null Count   Dtype \n",
      "---  ------      --------------   ----- \n",
      " 0   site_id     149643 non-null  object\n",
      " 1   categories  149643 non-null  object\n",
      " 2   food        149643 non-null  object\n",
      "dtypes: object(3)\n",
      "memory usage: 3.4+ MB\n"
     ]
    },
    {
     "data": {
      "text/html": [
       "<div>\n",
       "<style scoped>\n",
       "    .dataframe tbody tr th:only-of-type {\n",
       "        vertical-align: middle;\n",
       "    }\n",
       "\n",
       "    .dataframe tbody tr th {\n",
       "        vertical-align: top;\n",
       "    }\n",
       "\n",
       "    .dataframe thead th {\n",
       "        text-align: right;\n",
       "    }\n",
       "</style>\n",
       "<table border=\"1\" class=\"dataframe\">\n",
       "  <thead>\n",
       "    <tr style=\"text-align: right;\">\n",
       "      <th></th>\n",
       "      <th>site_id</th>\n",
       "      <th>categories</th>\n",
       "      <th>food</th>\n",
       "    </tr>\n",
       "  </thead>\n",
       "  <tbody>\n",
       "    <tr>\n",
       "      <th>29526</th>\n",
       "      <td>zG3ijcNz5_KyxQb3w29OZg</td>\n",
       "      <td>Burgers</td>\n",
       "      <td>yes</td>\n",
       "    </tr>\n",
       "    <tr>\n",
       "      <th>116471</th>\n",
       "      <td>gM0HFwD_myHUAUSUN2boug</td>\n",
       "      <td>Beer</td>\n",
       "      <td>yes</td>\n",
       "    </tr>\n",
       "  </tbody>\n",
       "</table>\n",
       "</div>"
      ],
      "text/plain": [
       "                       site_id categories food\n",
       "29526   zG3ijcNz5_KyxQb3w29OZg    Burgers  yes\n",
       "116471  gM0HFwD_myHUAUSUN2boug       Beer  yes"
      ]
     },
     "execution_count": 20,
     "metadata": {},
     "output_type": "execute_result"
    }
   ],
   "source": [
    "yelp_site_categories.info()\n",
    "yelp_site_categories.sample(2)"
   ]
  },
  {
   "cell_type": "code",
   "execution_count": 21,
   "metadata": {},
   "outputs": [
    {
     "name": "stdout",
     "output_type": "stream",
     "text": [
      "<class 'pandas.core.frame.DataFrame'>\n",
      "RangeIndex: 149643 entries, 0 to 149642\n",
      "Data columns (total 3 columns):\n",
      " #   Column      Non-Null Count   Dtype \n",
      "---  ------      --------------   ----- \n",
      " 0   source      149643 non-null  object\n",
      " 1   site_id     149643 non-null  object\n",
      " 2   categories  149643 non-null  object\n",
      "dtypes: object(3)\n",
      "memory usage: 3.4+ MB\n"
     ]
    },
    {
     "data": {
      "text/html": [
       "<div>\n",
       "<style scoped>\n",
       "    .dataframe tbody tr th:only-of-type {\n",
       "        vertical-align: middle;\n",
       "    }\n",
       "\n",
       "    .dataframe tbody tr th {\n",
       "        vertical-align: top;\n",
       "    }\n",
       "\n",
       "    .dataframe thead th {\n",
       "        text-align: right;\n",
       "    }\n",
       "</style>\n",
       "<table border=\"1\" class=\"dataframe\">\n",
       "  <thead>\n",
       "    <tr style=\"text-align: right;\">\n",
       "      <th></th>\n",
       "      <th>source</th>\n",
       "      <th>site_id</th>\n",
       "      <th>categories</th>\n",
       "    </tr>\n",
       "  </thead>\n",
       "  <tbody>\n",
       "    <tr>\n",
       "      <th>62664</th>\n",
       "      <td>yelp</td>\n",
       "      <td>7cJqiBsrddV_rNFBPHOTRA</td>\n",
       "      <td>Bars</td>\n",
       "    </tr>\n",
       "    <tr>\n",
       "      <th>60504</th>\n",
       "      <td>yelp</td>\n",
       "      <td>bg4byZlEDCUVbC16VHxjlA</td>\n",
       "      <td>Bars</td>\n",
       "    </tr>\n",
       "  </tbody>\n",
       "</table>\n",
       "</div>"
      ],
      "text/plain": [
       "      source                 site_id categories\n",
       "62664   yelp  7cJqiBsrddV_rNFBPHOTRA       Bars\n",
       "60504   yelp  bg4byZlEDCUVbC16VHxjlA       Bars"
      ]
     },
     "execution_count": 21,
     "metadata": {},
     "output_type": "execute_result"
    }
   ],
   "source": [
    "dfy_categories = yelp_site_categories[['site_id', 'categories']]\n",
    "dfy_categories['source'] = 'yelp'\n",
    "dfy_categories = dfy_categories[['source', 'site_id', 'categories']]\n",
    "\n",
    "dfy_categories.info()\n",
    "dfy_categories.sample(2)"
   ]
  },
  {
   "cell_type": "markdown",
   "metadata": {},
   "source": [
    "### YELP attributes"
   ]
  },
  {
   "cell_type": "code",
   "execution_count": 22,
   "metadata": {},
   "outputs": [
    {
     "name": "stdout",
     "output_type": "stream",
     "text": [
      "(1206820, 2)\n"
     ]
    },
    {
     "data": {
      "text/html": [
       "<div>\n",
       "<style scoped>\n",
       "    .dataframe tbody tr th:only-of-type {\n",
       "        vertical-align: middle;\n",
       "    }\n",
       "\n",
       "    .dataframe tbody tr th {\n",
       "        vertical-align: top;\n",
       "    }\n",
       "\n",
       "    .dataframe thead th {\n",
       "        text-align: right;\n",
       "    }\n",
       "</style>\n",
       "<table border=\"1\" class=\"dataframe\">\n",
       "  <thead>\n",
       "    <tr style=\"text-align: right;\">\n",
       "      <th></th>\n",
       "      <th>business_id</th>\n",
       "      <th>attributes</th>\n",
       "    </tr>\n",
       "  </thead>\n",
       "  <tbody>\n",
       "    <tr>\n",
       "      <th>83686</th>\n",
       "      <td>_p76U5dXBYtNDyJV4u2uYw</td>\n",
       "      <td>Alcohol</td>\n",
       "    </tr>\n",
       "    <tr>\n",
       "      <th>58695</th>\n",
       "      <td>HaS3s5CxmzZYw2vuqpI32w</td>\n",
       "      <td>BusinessParking</td>\n",
       "    </tr>\n",
       "  </tbody>\n",
       "</table>\n",
       "</div>"
      ],
      "text/plain": [
       "                  business_id       attributes\n",
       "83686  _p76U5dXBYtNDyJV4u2uYw          Alcohol\n",
       "58695  HaS3s5CxmzZYw2vuqpI32w  BusinessParking"
      ]
     },
     "execution_count": 22,
     "metadata": {},
     "output_type": "execute_result"
    }
   ],
   "source": [
    "dfy_attributes = yelp_site_attributes.copy()\n",
    "\n",
    "print(dfy_attributes.shape)\n",
    "dfy_attributes.sample(2)"
   ]
  },
  {
   "cell_type": "markdown",
   "metadata": {},
   "source": [
    "## Datasets GOOGLE\n",
    "------------------------------------------------------------------------------------------------------"
   ]
  },
  {
   "cell_type": "markdown",
   "metadata": {},
   "source": [
    "### GOOGLE reviews"
   ]
  },
  {
   "cell_type": "code",
   "execution_count": 23,
   "metadata": {},
   "outputs": [
    {
     "name": "stdout",
     "output_type": "stream",
     "text": [
      "<class 'pandas.core.frame.DataFrame'>\n",
      "RangeIndex: 4346287 entries, 0 to 4346286\n",
      "Data columns (total 7 columns):\n",
      " #   Column           Dtype         \n",
      "---  ------           -----         \n",
      " 0   user_id          float64       \n",
      " 1   gmap_id          object        \n",
      " 2   state            object        \n",
      " 3   datetime         datetime64[ns]\n",
      " 4   rating           int64         \n",
      " 5   vader_polarity   float64       \n",
      " 6   vader_sentiment  int64         \n",
      "dtypes: datetime64[ns](1), float64(2), int64(2), object(2)\n",
      "memory usage: 232.1+ MB\n",
      "None\n"
     ]
    },
    {
     "data": {
      "text/html": [
       "<div>\n",
       "<style scoped>\n",
       "    .dataframe tbody tr th:only-of-type {\n",
       "        vertical-align: middle;\n",
       "    }\n",
       "\n",
       "    .dataframe tbody tr th {\n",
       "        vertical-align: top;\n",
       "    }\n",
       "\n",
       "    .dataframe thead th {\n",
       "        text-align: right;\n",
       "    }\n",
       "</style>\n",
       "<table border=\"1\" class=\"dataframe\">\n",
       "  <thead>\n",
       "    <tr style=\"text-align: right;\">\n",
       "      <th></th>\n",
       "      <th>user_id</th>\n",
       "      <th>gmap_id</th>\n",
       "      <th>state</th>\n",
       "      <th>datetime</th>\n",
       "      <th>rating</th>\n",
       "      <th>vader_polarity</th>\n",
       "      <th>vader_sentiment</th>\n",
       "    </tr>\n",
       "  </thead>\n",
       "  <tbody>\n",
       "    <tr>\n",
       "      <th>1003043</th>\n",
       "      <td>1.150035e+20</td>\n",
       "      <td>0x8809b1250638ee23:0x5c3b681dcdbd4037</td>\n",
       "      <td>IL</td>\n",
       "      <td>2020-08-31 05:13:01.038</td>\n",
       "      <td>5</td>\n",
       "      <td>0.6588</td>\n",
       "      <td>1</td>\n",
       "    </tr>\n",
       "    <tr>\n",
       "      <th>2876427</th>\n",
       "      <td>1.073786e+20</td>\n",
       "      <td>0x89aae09a6a7cddf1:0x9a82252680b16da0</td>\n",
       "      <td>NC</td>\n",
       "      <td>2017-11-22 05:44:26.744</td>\n",
       "      <td>4</td>\n",
       "      <td>0.2382</td>\n",
       "      <td>1</td>\n",
       "    </tr>\n",
       "  </tbody>\n",
       "</table>\n",
       "</div>"
      ],
      "text/plain": [
       "              user_id                                gmap_id state  \\\n",
       "1003043  1.150035e+20  0x8809b1250638ee23:0x5c3b681dcdbd4037    IL   \n",
       "2876427  1.073786e+20  0x89aae09a6a7cddf1:0x9a82252680b16da0    NC   \n",
       "\n",
       "                       datetime  rating  vader_polarity  vader_sentiment  \n",
       "1003043 2020-08-31 05:13:01.038       5          0.6588                1  \n",
       "2876427 2017-11-22 05:44:26.744       4          0.2382                1  "
      ]
     },
     "execution_count": 23,
     "metadata": {},
     "output_type": "execute_result"
    }
   ],
   "source": [
    "print(google_reviews.info())\n",
    "google_reviews.sample(2)"
   ]
  },
  {
   "cell_type": "code",
   "execution_count": 24,
   "metadata": {},
   "outputs": [],
   "source": [
    "dfg_reviews = google_reviews\n",
    "dfg_reviews['source'] = 'google'\n",
    "dfg_reviews['month'] = dfg_reviews['datetime'].dt.month\n",
    "dfg_reviews['year'] = dfg_reviews['datetime'].dt.year\n",
    "dfg_reviews = dfg_reviews[['source', 'gmap_id','user_id', 'datetime', 'month', 'year', 'rating', 'vader_polarity', 'vader_sentiment']]\n",
    "dfg_reviews = dfg_reviews.rename(columns={'gmap_id': 'site_id', 'vader_polarity':'polarity', 'vader_sentiment':'sentiment'})"
   ]
  },
  {
   "cell_type": "code",
   "execution_count": 25,
   "metadata": {},
   "outputs": [
    {
     "data": {
      "text/html": [
       "<div>\n",
       "<style scoped>\n",
       "    .dataframe tbody tr th:only-of-type {\n",
       "        vertical-align: middle;\n",
       "    }\n",
       "\n",
       "    .dataframe tbody tr th {\n",
       "        vertical-align: top;\n",
       "    }\n",
       "\n",
       "    .dataframe thead th {\n",
       "        text-align: right;\n",
       "    }\n",
       "</style>\n",
       "<table border=\"1\" class=\"dataframe\">\n",
       "  <thead>\n",
       "    <tr style=\"text-align: right;\">\n",
       "      <th></th>\n",
       "      <th>source</th>\n",
       "      <th>site_id</th>\n",
       "      <th>user_id</th>\n",
       "      <th>datetime</th>\n",
       "      <th>month</th>\n",
       "      <th>year</th>\n",
       "      <th>rating</th>\n",
       "      <th>polarity</th>\n",
       "      <th>sentiment</th>\n",
       "    </tr>\n",
       "  </thead>\n",
       "  <tbody>\n",
       "    <tr>\n",
       "      <th>178406</th>\n",
       "      <td>google</td>\n",
       "      <td>0x87d428cff3f3adbb:0x77119ffc33f8fdd4</td>\n",
       "      <td>1.069978e+20</td>\n",
       "      <td>2020-12-08 18:17:40.789</td>\n",
       "      <td>12</td>\n",
       "      <td>2020</td>\n",
       "      <td>5</td>\n",
       "      <td>0.8070</td>\n",
       "      <td>1</td>\n",
       "    </tr>\n",
       "    <tr>\n",
       "      <th>307737</th>\n",
       "      <td>google</td>\n",
       "      <td>0x80dcaf45a49656df:0x99d7cac698af187d</td>\n",
       "      <td>1.079063e+20</td>\n",
       "      <td>2019-05-21 20:58:39.554</td>\n",
       "      <td>5</td>\n",
       "      <td>2019</td>\n",
       "      <td>5</td>\n",
       "      <td>0.9289</td>\n",
       "      <td>1</td>\n",
       "    </tr>\n",
       "  </tbody>\n",
       "</table>\n",
       "</div>"
      ],
      "text/plain": [
       "        source                                site_id       user_id  \\\n",
       "178406  google  0x87d428cff3f3adbb:0x77119ffc33f8fdd4  1.069978e+20   \n",
       "307737  google  0x80dcaf45a49656df:0x99d7cac698af187d  1.079063e+20   \n",
       "\n",
       "                      datetime  month  year  rating  polarity  sentiment  \n",
       "178406 2020-12-08 18:17:40.789     12  2020       5    0.8070          1  \n",
       "307737 2019-05-21 20:58:39.554      5  2019       5    0.9289          1  "
      ]
     },
     "execution_count": 25,
     "metadata": {},
     "output_type": "execute_result"
    }
   ],
   "source": [
    "dfg_reviews.sample(2)"
   ]
  },
  {
   "cell_type": "markdown",
   "metadata": {},
   "source": [
    "### GOOGLE restaurants"
   ]
  },
  {
   "cell_type": "code",
   "execution_count": 26,
   "metadata": {},
   "outputs": [
    {
     "name": "stdout",
     "output_type": "stream",
     "text": [
      "<class 'pandas.core.frame.DataFrame'>\n",
      "Index: 223485 entries, 2 to 274996\n",
      "Data columns (total 12 columns):\n",
      " #   Column          Non-Null Count   Dtype  \n",
      "---  ------          --------------   -----  \n",
      " 0   name            223485 non-null  object \n",
      " 1   address_full    223485 non-null  object \n",
      " 2   gmap_id         223485 non-null  object \n",
      " 3   latitude        223485 non-null  float64\n",
      " 4   longitude       223485 non-null  float64\n",
      " 5   avg_rating      223485 non-null  float64\n",
      " 6   num_of_reviews  223485 non-null  int64  \n",
      " 7   price           223485 non-null  float64\n",
      " 8   address         223485 non-null  object \n",
      " 9   city            223485 non-null  object \n",
      " 10  postal_code     223485 non-null  object \n",
      " 11  state           223485 non-null  object \n",
      "dtypes: float64(4), int64(1), object(7)\n",
      "memory usage: 22.2+ MB\n",
      "None\n"
     ]
    },
    {
     "data": {
      "text/html": [
       "<div>\n",
       "<style scoped>\n",
       "    .dataframe tbody tr th:only-of-type {\n",
       "        vertical-align: middle;\n",
       "    }\n",
       "\n",
       "    .dataframe tbody tr th {\n",
       "        vertical-align: top;\n",
       "    }\n",
       "\n",
       "    .dataframe thead th {\n",
       "        text-align: right;\n",
       "    }\n",
       "</style>\n",
       "<table border=\"1\" class=\"dataframe\">\n",
       "  <thead>\n",
       "    <tr style=\"text-align: right;\">\n",
       "      <th></th>\n",
       "      <th>name</th>\n",
       "      <th>address_full</th>\n",
       "      <th>gmap_id</th>\n",
       "      <th>latitude</th>\n",
       "      <th>longitude</th>\n",
       "      <th>avg_rating</th>\n",
       "      <th>num_of_reviews</th>\n",
       "      <th>price</th>\n",
       "      <th>address</th>\n",
       "      <th>city</th>\n",
       "      <th>postal_code</th>\n",
       "      <th>state</th>\n",
       "    </tr>\n",
       "  </thead>\n",
       "  <tbody>\n",
       "    <tr>\n",
       "      <th>197650</th>\n",
       "      <td>Dunkin'</td>\n",
       "      <td>Dunkin', 1024 Main Rd, Holden, ME 04429</td>\n",
       "      <td>0x4cae5251343d8da3:0x487fcff814185c3c</td>\n",
       "      <td>44.736935</td>\n",
       "      <td>-68.627736</td>\n",
       "      <td>3.9</td>\n",
       "      <td>28</td>\n",
       "      <td>1.0</td>\n",
       "      <td>1024 Main Rd</td>\n",
       "      <td>Holden</td>\n",
       "      <td>4429</td>\n",
       "      <td>ME</td>\n",
       "    </tr>\n",
       "    <tr>\n",
       "      <th>134503</th>\n",
       "      <td>Super Wings &amp; Philly</td>\n",
       "      <td>Super Wings &amp; Philly, 6855 Wilson Blvd Unit 24...</td>\n",
       "      <td>0x88e5b8a1d24f8a55:0x561fa0b5be8ccad6</td>\n",
       "      <td>30.271459</td>\n",
       "      <td>-81.756705</td>\n",
       "      <td>4.4</td>\n",
       "      <td>187</td>\n",
       "      <td>1.3</td>\n",
       "      <td>6855 Wilson Blvd Unit 24</td>\n",
       "      <td>Jacksonville</td>\n",
       "      <td>32210</td>\n",
       "      <td>FL</td>\n",
       "    </tr>\n",
       "  </tbody>\n",
       "</table>\n",
       "</div>"
      ],
      "text/plain": [
       "                        name  \\\n",
       "197650               Dunkin'   \n",
       "134503  Super Wings & Philly   \n",
       "\n",
       "                                             address_full  \\\n",
       "197650            Dunkin', 1024 Main Rd, Holden, ME 04429   \n",
       "134503  Super Wings & Philly, 6855 Wilson Blvd Unit 24...   \n",
       "\n",
       "                                      gmap_id   latitude  longitude  \\\n",
       "197650  0x4cae5251343d8da3:0x487fcff814185c3c  44.736935 -68.627736   \n",
       "134503  0x88e5b8a1d24f8a55:0x561fa0b5be8ccad6  30.271459 -81.756705   \n",
       "\n",
       "        avg_rating  num_of_reviews  price                   address  \\\n",
       "197650         3.9              28    1.0              1024 Main Rd   \n",
       "134503         4.4             187    1.3  6855 Wilson Blvd Unit 24   \n",
       "\n",
       "                city postal_code state  \n",
       "197650        Holden        4429    ME  \n",
       "134503  Jacksonville       32210    FL  "
      ]
     },
     "execution_count": 26,
     "metadata": {},
     "output_type": "execute_result"
    }
   ],
   "source": [
    "print(google_rest.info())\n",
    "google_rest.sample(2)"
   ]
  },
  {
   "cell_type": "code",
   "execution_count": 27,
   "metadata": {},
   "outputs": [],
   "source": [
    "dfg_rest = google_rest\n",
    "dfg_rest['source'] = 'google'\n",
    "dfg_rest = dfg_rest[['source','gmap_id', 'name', 'state', 'city', 'postal_code', 'price', 'avg_rating', 'num_of_reviews']]\n",
    "dfg_rest = dfg_rest.rename(columns={'gmap_id': 'site_id', 'avg_rating':'rating_avg', 'num_of_reviews':'reviews_count'})\n",
    "\n",
    "# Agregado de fecha de inicio de acitividad\n",
    "dfg_rest_date_start = dfg_reviews.groupby('site_id')['datetime'].min().reset_index()\n",
    "dfg_rest = pd.merge(dfg_rest, dfg_rest_date_start, how='left', on=['site_id'])\n",
    "dfg_rest = dfg_rest.rename(columns={'datetime': 'date_start'})\n",
    "\n",
    "dfg_rest['year'] = dfg_rest['date_start'].dt.year\n",
    "dfg_rest['month'] = dfg_rest['date_start'].dt.month\n",
    "\n",
    "dfg_rest['state_city'] = dfg_rest['state'].str.cat(dfg_rest['city'], sep=' - ')\n",
    "dfg_rest['city_postalcode'] = dfg_rest['city'].str.cat(dfg_rest['postal_code'], sep=' - ')\n",
    "dfg_rest['state_city_postalcode'] = dfg_rest['state'].str.cat(dfy_rest['city'], sep=' - ').str.cat(dfg_rest['postal_code'], sep=' - ')\n"
   ]
  },
  {
   "cell_type": "code",
   "execution_count": 28,
   "metadata": {},
   "outputs": [
    {
     "name": "stdout",
     "output_type": "stream",
     "text": [
      "<class 'pandas.core.frame.DataFrame'>\n",
      "RangeIndex: 223485 entries, 0 to 223484\n",
      "Data columns (total 15 columns):\n",
      " #   Column                 Non-Null Count   Dtype         \n",
      "---  ------                 --------------   -----         \n",
      " 0   source                 223485 non-null  object        \n",
      " 1   site_id                223485 non-null  object        \n",
      " 2   name                   223485 non-null  object        \n",
      " 3   state                  223485 non-null  object        \n",
      " 4   city                   223485 non-null  object        \n",
      " 5   postal_code            223485 non-null  object        \n",
      " 6   price                  223485 non-null  float64       \n",
      " 7   rating_avg             223485 non-null  float64       \n",
      " 8   reviews_count          223485 non-null  int64         \n",
      " 9   date_start             134644 non-null  datetime64[ns]\n",
      " 10  year                   134644 non-null  float64       \n",
      " 11  month                  134644 non-null  float64       \n",
      " 12  state_city             223485 non-null  object        \n",
      " 13  city_postalcode        223485 non-null  object        \n",
      " 14  state_city_postalcode  211084 non-null  object        \n",
      "dtypes: datetime64[ns](1), float64(4), int64(1), object(9)\n",
      "memory usage: 25.6+ MB\n",
      "None\n"
     ]
    },
    {
     "data": {
      "text/html": [
       "<div>\n",
       "<style scoped>\n",
       "    .dataframe tbody tr th:only-of-type {\n",
       "        vertical-align: middle;\n",
       "    }\n",
       "\n",
       "    .dataframe tbody tr th {\n",
       "        vertical-align: top;\n",
       "    }\n",
       "\n",
       "    .dataframe thead th {\n",
       "        text-align: right;\n",
       "    }\n",
       "</style>\n",
       "<table border=\"1\" class=\"dataframe\">\n",
       "  <thead>\n",
       "    <tr style=\"text-align: right;\">\n",
       "      <th></th>\n",
       "      <th>source</th>\n",
       "      <th>site_id</th>\n",
       "      <th>name</th>\n",
       "      <th>state</th>\n",
       "      <th>city</th>\n",
       "      <th>postal_code</th>\n",
       "      <th>price</th>\n",
       "      <th>rating_avg</th>\n",
       "      <th>reviews_count</th>\n",
       "      <th>date_start</th>\n",
       "      <th>year</th>\n",
       "      <th>month</th>\n",
       "      <th>state_city</th>\n",
       "      <th>city_postalcode</th>\n",
       "      <th>state_city_postalcode</th>\n",
       "    </tr>\n",
       "  </thead>\n",
       "  <tbody>\n",
       "    <tr>\n",
       "      <th>92768</th>\n",
       "      <td>google</td>\n",
       "      <td>0x89c6c798844658d3:0x94a06943be1b543b</td>\n",
       "      <td>Wingstop</td>\n",
       "      <td>PA</td>\n",
       "      <td>Philadelphia</td>\n",
       "      <td>19104</td>\n",
       "      <td>2.0</td>\n",
       "      <td>3.3</td>\n",
       "      <td>8</td>\n",
       "      <td>NaT</td>\n",
       "      <td>NaN</td>\n",
       "      <td>NaN</td>\n",
       "      <td>PA - Philadelphia</td>\n",
       "      <td>Philadelphia - 19104</td>\n",
       "      <td>PA - Saint Petersburg - 19104</td>\n",
       "    </tr>\n",
       "    <tr>\n",
       "      <th>48090</th>\n",
       "      <td>google</td>\n",
       "      <td>0x808fcf3afbfab6ff:0xc4f7e30bd497daf9</td>\n",
       "      <td>The Pizza Box</td>\n",
       "      <td>CA</td>\n",
       "      <td>Milpitas</td>\n",
       "      <td>95035</td>\n",
       "      <td>1.0</td>\n",
       "      <td>4.2</td>\n",
       "      <td>118</td>\n",
       "      <td>NaT</td>\n",
       "      <td>NaN</td>\n",
       "      <td>NaN</td>\n",
       "      <td>CA - Milpitas</td>\n",
       "      <td>Milpitas - 95035</td>\n",
       "      <td>CA - Santa Barbara - 95035</td>\n",
       "    </tr>\n",
       "  </tbody>\n",
       "</table>\n",
       "</div>"
      ],
      "text/plain": [
       "       source                                site_id           name state  \\\n",
       "92768  google  0x89c6c798844658d3:0x94a06943be1b543b       Wingstop    PA   \n",
       "48090  google  0x808fcf3afbfab6ff:0xc4f7e30bd497daf9  The Pizza Box    CA   \n",
       "\n",
       "               city postal_code  price  rating_avg  reviews_count date_start  \\\n",
       "92768  Philadelphia       19104    2.0         3.3              8        NaT   \n",
       "48090      Milpitas       95035    1.0         4.2            118        NaT   \n",
       "\n",
       "       year  month         state_city       city_postalcode  \\\n",
       "92768   NaN    NaN  PA - Philadelphia  Philadelphia - 19104   \n",
       "48090   NaN    NaN      CA - Milpitas      Milpitas - 95035   \n",
       "\n",
       "               state_city_postalcode  \n",
       "92768  PA - Saint Petersburg - 19104  \n",
       "48090     CA - Santa Barbara - 95035  "
      ]
     },
     "execution_count": 28,
     "metadata": {},
     "output_type": "execute_result"
    }
   ],
   "source": [
    "print(dfg_rest.info())\n",
    "dfg_rest.sample(2)"
   ]
  },
  {
   "cell_type": "markdown",
   "metadata": {},
   "source": [
    "### GOOGLE user (creación de dataset)"
   ]
  },
  {
   "cell_type": "code",
   "execution_count": 29,
   "metadata": {},
   "outputs": [
    {
     "data": {
      "text/html": [
       "<div>\n",
       "<style scoped>\n",
       "    .dataframe tbody tr th:only-of-type {\n",
       "        vertical-align: middle;\n",
       "    }\n",
       "\n",
       "    .dataframe tbody tr th {\n",
       "        vertical-align: top;\n",
       "    }\n",
       "\n",
       "    .dataframe thead th {\n",
       "        text-align: right;\n",
       "    }\n",
       "</style>\n",
       "<table border=\"1\" class=\"dataframe\">\n",
       "  <thead>\n",
       "    <tr style=\"text-align: right;\">\n",
       "      <th></th>\n",
       "      <th>user_id</th>\n",
       "      <th>reviews_count</th>\n",
       "      <th>date_start</th>\n",
       "      <th>rating_avg</th>\n",
       "      <th>year</th>\n",
       "      <th>month</th>\n",
       "      <th>source</th>\n",
       "    </tr>\n",
       "  </thead>\n",
       "  <tbody>\n",
       "    <tr>\n",
       "      <th>2076451</th>\n",
       "      <td>1.144888e+20</td>\n",
       "      <td>1</td>\n",
       "      <td>2017-12-30 17:52:15.402</td>\n",
       "      <td>5.0</td>\n",
       "      <td>2017</td>\n",
       "      <td>12</td>\n",
       "      <td>google</td>\n",
       "    </tr>\n",
       "    <tr>\n",
       "      <th>1186444</th>\n",
       "      <td>1.083573e+20</td>\n",
       "      <td>2</td>\n",
       "      <td>2017-03-14 06:53:50.347</td>\n",
       "      <td>5.0</td>\n",
       "      <td>2017</td>\n",
       "      <td>3</td>\n",
       "      <td>google</td>\n",
       "    </tr>\n",
       "  </tbody>\n",
       "</table>\n",
       "</div>"
      ],
      "text/plain": [
       "              user_id  reviews_count              date_start  rating_avg  \\\n",
       "2076451  1.144888e+20              1 2017-12-30 17:52:15.402         5.0   \n",
       "1186444  1.083573e+20              2 2017-03-14 06:53:50.347         5.0   \n",
       "\n",
       "         year  month  source  \n",
       "2076451  2017     12  google  \n",
       "1186444  2017      3  google  "
      ]
     },
     "execution_count": 29,
     "metadata": {},
     "output_type": "execute_result"
    }
   ],
   "source": [
    "dfg_user = dfg_reviews.groupby(['user_id']).agg({'site_id': 'count', 'datetime': 'min', 'rating': 'mean'}).reset_index()\n",
    "dfg_user = dfg_user.rename(columns={'site_id':'reviews_count', 'datetime':'date_start', 'rating':'rating_avg'})\n",
    "dfg_user['year'] = dfg_user['date_start'].dt.year\n",
    "dfg_user['month'] = dfg_user['date_start'].dt.month\n",
    "\n",
    "dfg_user['source'] = 'google'\n",
    "dfg_user.sample(2)\n"
   ]
  },
  {
   "cell_type": "markdown",
   "metadata": {},
   "source": [
    "### GOOGLE checkins (creación de dataset)"
   ]
  },
  {
   "cell_type": "code",
   "execution_count": null,
   "metadata": {},
   "outputs": [],
   "source": [
    "dfy_checkins = yelp_checkins[['business_id', 'date']]\n",
    "dfy_checkins = dfy_checkins.rename(columns={'business_id':'site_id', 'date':'datetime'})\n",
    "\n",
    "#dfy_checkins['datetime'] = pd.to_datetime(dfy_checkins['date'])\n",
    "dfy_checkins['year'] = dfy_checkins['datetime'].dt.year\n",
    "dfy_checkins['month'] = dfy_checkins['datetime'].dt.month\n",
    "\n",
    "dfy_checkins['source'] = 'yelp'\n",
    "\n",
    "dfy_checkins = dfy_checkins[['source', 'site_id', 'datetime', 'year', 'month']]"
   ]
  },
  {
   "cell_type": "code",
   "execution_count": 30,
   "metadata": {},
   "outputs": [],
   "source": [
    "dfg_checkins = dfg_reviews[['source', 'site_id', 'datetime', 'year', 'month']]"
   ]
  },
  {
   "cell_type": "code",
   "execution_count": 31,
   "metadata": {},
   "outputs": [
    {
     "name": "stdout",
     "output_type": "stream",
     "text": [
      "<class 'pandas.core.frame.DataFrame'>\n",
      "RangeIndex: 4346287 entries, 0 to 4346286\n",
      "Data columns (total 5 columns):\n",
      " #   Column    Dtype         \n",
      "---  ------    -----         \n",
      " 0   source    object        \n",
      " 1   site_id   object        \n",
      " 2   datetime  datetime64[ns]\n",
      " 3   year      int32         \n",
      " 4   month     int32         \n",
      "dtypes: datetime64[ns](1), int32(2), object(2)\n",
      "memory usage: 132.6+ MB\n",
      "None\n"
     ]
    },
    {
     "data": {
      "text/html": [
       "<div>\n",
       "<style scoped>\n",
       "    .dataframe tbody tr th:only-of-type {\n",
       "        vertical-align: middle;\n",
       "    }\n",
       "\n",
       "    .dataframe tbody tr th {\n",
       "        vertical-align: top;\n",
       "    }\n",
       "\n",
       "    .dataframe thead th {\n",
       "        text-align: right;\n",
       "    }\n",
       "</style>\n",
       "<table border=\"1\" class=\"dataframe\">\n",
       "  <thead>\n",
       "    <tr style=\"text-align: right;\">\n",
       "      <th></th>\n",
       "      <th>source</th>\n",
       "      <th>site_id</th>\n",
       "      <th>datetime</th>\n",
       "      <th>year</th>\n",
       "      <th>month</th>\n",
       "    </tr>\n",
       "  </thead>\n",
       "  <tbody>\n",
       "    <tr>\n",
       "      <th>3108216</th>\n",
       "      <td>google</td>\n",
       "      <td>0x87b6630df0c667d1:0xca5b660c4b64a67a</td>\n",
       "      <td>2020-07-21 15:32:40.448</td>\n",
       "      <td>2020</td>\n",
       "      <td>7</td>\n",
       "    </tr>\n",
       "    <tr>\n",
       "      <th>770586</th>\n",
       "      <td>google</td>\n",
       "      <td>0x88c2ce6c7b7053fb:0x87756709cc7965d</td>\n",
       "      <td>2019-07-09 10:16:55.763</td>\n",
       "      <td>2019</td>\n",
       "      <td>7</td>\n",
       "    </tr>\n",
       "  </tbody>\n",
       "</table>\n",
       "</div>"
      ],
      "text/plain": [
       "         source                                site_id  \\\n",
       "3108216  google  0x87b6630df0c667d1:0xca5b660c4b64a67a   \n",
       "770586   google   0x88c2ce6c7b7053fb:0x87756709cc7965d   \n",
       "\n",
       "                       datetime  year  month  \n",
       "3108216 2020-07-21 15:32:40.448  2020      7  \n",
       "770586  2019-07-09 10:16:55.763  2019      7  "
      ]
     },
     "execution_count": 31,
     "metadata": {},
     "output_type": "execute_result"
    }
   ],
   "source": [
    "print(dfg_checkins.info())\n",
    "dfg_checkins.sample(2)"
   ]
  },
  {
   "cell_type": "markdown",
   "metadata": {},
   "source": [
    "### GOOGLE categories"
   ]
  },
  {
   "cell_type": "code",
   "execution_count": 32,
   "metadata": {},
   "outputs": [
    {
     "name": "stdout",
     "output_type": "stream",
     "text": [
      "<class 'pandas.core.frame.DataFrame'>\n",
      "Index: 626995 entries, 2 to 274996\n",
      "Data columns (total 2 columns):\n",
      " #   Column    Non-Null Count   Dtype \n",
      "---  ------    --------------   ----- \n",
      " 0   site_id   626995 non-null  object\n",
      " 1   category  626995 non-null  object\n",
      "dtypes: object(2)\n",
      "memory usage: 14.4+ MB\n"
     ]
    },
    {
     "data": {
      "text/html": [
       "<div>\n",
       "<style scoped>\n",
       "    .dataframe tbody tr th:only-of-type {\n",
       "        vertical-align: middle;\n",
       "    }\n",
       "\n",
       "    .dataframe tbody tr th {\n",
       "        vertical-align: top;\n",
       "    }\n",
       "\n",
       "    .dataframe thead th {\n",
       "        text-align: right;\n",
       "    }\n",
       "</style>\n",
       "<table border=\"1\" class=\"dataframe\">\n",
       "  <thead>\n",
       "    <tr style=\"text-align: right;\">\n",
       "      <th></th>\n",
       "      <th>site_id</th>\n",
       "      <th>category</th>\n",
       "    </tr>\n",
       "  </thead>\n",
       "  <tbody>\n",
       "    <tr>\n",
       "      <th>241843</th>\n",
       "      <td>0x88e7717413597a6d:0xa14bde0db63328c4</td>\n",
       "      <td>Takeout Restaurant</td>\n",
       "    </tr>\n",
       "    <tr>\n",
       "      <th>49206</th>\n",
       "      <td>0x885b4168de571f7f:0xf602f21374fca703</td>\n",
       "      <td>Takeout Restaurant</td>\n",
       "    </tr>\n",
       "  </tbody>\n",
       "</table>\n",
       "</div>"
      ],
      "text/plain": [
       "                                      site_id            category\n",
       "241843  0x88e7717413597a6d:0xa14bde0db63328c4  Takeout Restaurant\n",
       "49206   0x885b4168de571f7f:0xf602f21374fca703  Takeout Restaurant"
      ]
     },
     "execution_count": 32,
     "metadata": {},
     "output_type": "execute_result"
    }
   ],
   "source": [
    "google_site_categories.info()\n",
    "google_site_categories.sample(2)"
   ]
  },
  {
   "cell_type": "code",
   "execution_count": 33,
   "metadata": {},
   "outputs": [
    {
     "name": "stdout",
     "output_type": "stream",
     "text": [
      "<class 'pandas.core.frame.DataFrame'>\n",
      "Index: 626995 entries, 2 to 274996\n",
      "Data columns (total 3 columns):\n",
      " #   Column      Non-Null Count   Dtype \n",
      "---  ------      --------------   ----- \n",
      " 0   source      626995 non-null  object\n",
      " 1   site_id     626995 non-null  object\n",
      " 2   categories  626995 non-null  object\n",
      "dtypes: object(3)\n",
      "memory usage: 19.1+ MB\n"
     ]
    },
    {
     "data": {
      "text/html": [
       "<div>\n",
       "<style scoped>\n",
       "    .dataframe tbody tr th:only-of-type {\n",
       "        vertical-align: middle;\n",
       "    }\n",
       "\n",
       "    .dataframe tbody tr th {\n",
       "        vertical-align: top;\n",
       "    }\n",
       "\n",
       "    .dataframe thead th {\n",
       "        text-align: right;\n",
       "    }\n",
       "</style>\n",
       "<table border=\"1\" class=\"dataframe\">\n",
       "  <thead>\n",
       "    <tr style=\"text-align: right;\">\n",
       "      <th></th>\n",
       "      <th>source</th>\n",
       "      <th>site_id</th>\n",
       "      <th>categories</th>\n",
       "    </tr>\n",
       "  </thead>\n",
       "  <tbody>\n",
       "    <tr>\n",
       "      <th>142931</th>\n",
       "      <td>google</td>\n",
       "      <td>0x86254ac7e6a108bf:0x7c9cf805b25c7a5</td>\n",
       "      <td>Cajun restaurant</td>\n",
       "    </tr>\n",
       "    <tr>\n",
       "      <th>228244</th>\n",
       "      <td>google</td>\n",
       "      <td>0x88c2ebef96f84e4d:0xe0dbabbdfaf42dd1</td>\n",
       "      <td>Chinese restaurant</td>\n",
       "    </tr>\n",
       "  </tbody>\n",
       "</table>\n",
       "</div>"
      ],
      "text/plain": [
       "        source                                site_id          categories\n",
       "142931  google   0x86254ac7e6a108bf:0x7c9cf805b25c7a5    Cajun restaurant\n",
       "228244  google  0x88c2ebef96f84e4d:0xe0dbabbdfaf42dd1  Chinese restaurant"
      ]
     },
     "execution_count": 33,
     "metadata": {},
     "output_type": "execute_result"
    }
   ],
   "source": [
    "dfg_categories = google_site_categories.copy()\n",
    "\n",
    "dfg_categories.rename(columns={'category': 'categories'}, inplace=True)\n",
    "dfg_categories['source'] = 'google'\n",
    "dfg_categories = dfg_categories[['source', 'site_id', 'categories']]\n",
    "\n",
    "dfg_categories.info()\n",
    "dfg_categories.sample(2)"
   ]
  },
  {
   "cell_type": "markdown",
   "metadata": {},
   "source": [
    "## Datasets COMBINADOS\n",
    "------------------------------------------------------------------------------------------------------"
   ]
  },
  {
   "cell_type": "markdown",
   "metadata": {},
   "source": [
    "### Dataset RESTAURANTS"
   ]
  },
  {
   "cell_type": "code",
   "execution_count": 34,
   "metadata": {},
   "outputs": [
    {
     "name": "stdout",
     "output_type": "stream",
     "text": [
      "<class 'pandas.core.frame.DataFrame'>\n",
      "Index: 342834 entries, 3 to 223484\n",
      "Data columns (total 15 columns):\n",
      " #   Column                 Non-Null Count   Dtype         \n",
      "---  ------                 --------------   -----         \n",
      " 0   source                 342834 non-null  object        \n",
      " 1   site_id                342834 non-null  object        \n",
      " 2   name                   342834 non-null  object        \n",
      " 3   state                  342834 non-null  object        \n",
      " 4   city                   342834 non-null  object        \n",
      " 5   postal_code            342834 non-null  object        \n",
      " 6   price                  342834 non-null  float64       \n",
      " 7   rating_avg             342834 non-null  float64       \n",
      " 8   reviews_count          342834 non-null  int64         \n",
      " 9   date_start             247726 non-null  datetime64[ns]\n",
      " 10  year                   247726 non-null  float64       \n",
      " 11  month                  247726 non-null  float64       \n",
      " 12  state_city             342834 non-null  object        \n",
      " 13  city_postalcode        342834 non-null  object        \n",
      " 14  state_city_postalcode  330433 non-null  object        \n",
      "dtypes: datetime64[ns](1), float64(4), int64(1), object(9)\n",
      "memory usage: 41.8+ MB\n",
      "None\n"
     ]
    },
    {
     "data": {
      "text/html": [
       "<div>\n",
       "<style scoped>\n",
       "    .dataframe tbody tr th:only-of-type {\n",
       "        vertical-align: middle;\n",
       "    }\n",
       "\n",
       "    .dataframe tbody tr th {\n",
       "        vertical-align: top;\n",
       "    }\n",
       "\n",
       "    .dataframe thead th {\n",
       "        text-align: right;\n",
       "    }\n",
       "</style>\n",
       "<table border=\"1\" class=\"dataframe\">\n",
       "  <thead>\n",
       "    <tr style=\"text-align: right;\">\n",
       "      <th></th>\n",
       "      <th>source</th>\n",
       "      <th>site_id</th>\n",
       "      <th>name</th>\n",
       "      <th>state</th>\n",
       "      <th>city</th>\n",
       "      <th>postal_code</th>\n",
       "      <th>price</th>\n",
       "      <th>rating_avg</th>\n",
       "      <th>reviews_count</th>\n",
       "      <th>date_start</th>\n",
       "      <th>year</th>\n",
       "      <th>month</th>\n",
       "      <th>state_city</th>\n",
       "      <th>city_postalcode</th>\n",
       "      <th>state_city_postalcode</th>\n",
       "    </tr>\n",
       "  </thead>\n",
       "  <tbody>\n",
       "    <tr>\n",
       "      <th>120256</th>\n",
       "      <td>google</td>\n",
       "      <td>0x87d8d3065c8d12f7:0xefe6a92e683bdd6d</td>\n",
       "      <td>Shack Breakfast &amp; Lunch</td>\n",
       "      <td>MO</td>\n",
       "      <td>Valley Park</td>\n",
       "      <td>63122</td>\n",
       "      <td>1.25</td>\n",
       "      <td>4.3</td>\n",
       "      <td>6</td>\n",
       "      <td>NaT</td>\n",
       "      <td>NaN</td>\n",
       "      <td>NaN</td>\n",
       "      <td>MO - Valley Park</td>\n",
       "      <td>Valley Park - 63122</td>\n",
       "      <td>MO - Carmel - 63122</td>\n",
       "    </tr>\n",
       "    <tr>\n",
       "      <th>72345</th>\n",
       "      <td>google</td>\n",
       "      <td>0x89c67a228b04301f:0xfbaaceb06179411a</td>\n",
       "      <td>Sebastiano's Italian Restaurant And Pizzeria</td>\n",
       "      <td>PA</td>\n",
       "      <td>Reading</td>\n",
       "      <td>19606</td>\n",
       "      <td>2.00</td>\n",
       "      <td>4.6</td>\n",
       "      <td>306</td>\n",
       "      <td>2015-01-27 21:16:01.403</td>\n",
       "      <td>2015.0</td>\n",
       "      <td>1.0</td>\n",
       "      <td>PA - Reading</td>\n",
       "      <td>Reading - 19606</td>\n",
       "      <td>PA - Swansea - 19606</td>\n",
       "    </tr>\n",
       "  </tbody>\n",
       "</table>\n",
       "</div>"
      ],
      "text/plain": [
       "        source                                site_id  \\\n",
       "120256  google  0x87d8d3065c8d12f7:0xefe6a92e683bdd6d   \n",
       "72345   google  0x89c67a228b04301f:0xfbaaceb06179411a   \n",
       "\n",
       "                                                name state         city  \\\n",
       "120256                       Shack Breakfast & Lunch    MO  Valley Park   \n",
       "72345   Sebastiano's Italian Restaurant And Pizzeria    PA      Reading   \n",
       "\n",
       "       postal_code  price  rating_avg  reviews_count              date_start  \\\n",
       "120256       63122   1.25         4.3              6                     NaT   \n",
       "72345        19606   2.00         4.6            306 2015-01-27 21:16:01.403   \n",
       "\n",
       "          year  month        state_city      city_postalcode  \\\n",
       "120256     NaN    NaN  MO - Valley Park  Valley Park - 63122   \n",
       "72345   2015.0    1.0      PA - Reading      Reading - 19606   \n",
       "\n",
       "       state_city_postalcode  \n",
       "120256   MO - Carmel - 63122  \n",
       "72345   PA - Swansea - 19606  "
      ]
     },
     "execution_count": 34,
     "metadata": {},
     "output_type": "execute_result"
    }
   ],
   "source": [
    "# Filtrado\n",
    "dfy_rest = dfy_rest[dfy_rest['site_id'].isin(dfgy_rest_uniques['business_id'])]\n",
    "# Union\n",
    "dfgy_rest = pd.concat([dfy_rest, dfg_rest])\n",
    "\n",
    "print(dfgy_rest.info())\n",
    "dfgy_rest.sample(2)"
   ]
  },
  {
   "cell_type": "markdown",
   "metadata": {},
   "source": [
    "### Dataset USER"
   ]
  },
  {
   "cell_type": "code",
   "execution_count": 35,
   "metadata": {},
   "outputs": [
    {
     "name": "stdout",
     "output_type": "stream",
     "text": [
      "<class 'pandas.core.frame.DataFrame'>\n",
      "Index: 4756911 entries, 0 to 2651313\n",
      "Data columns (total 7 columns):\n",
      " #   Column         Dtype         \n",
      "---  ------         -----         \n",
      " 0   user_id        object        \n",
      " 1   reviews_count  int64         \n",
      " 2   date_start     datetime64[ns]\n",
      " 3   rating_avg     float64       \n",
      " 4   year           int32         \n",
      " 5   month          int32         \n",
      " 6   source         object        \n",
      "dtypes: datetime64[ns](1), float64(1), int32(2), int64(1), object(2)\n",
      "memory usage: 254.0+ MB\n",
      "None\n"
     ]
    },
    {
     "data": {
      "text/html": [
       "<div>\n",
       "<style scoped>\n",
       "    .dataframe tbody tr th:only-of-type {\n",
       "        vertical-align: middle;\n",
       "    }\n",
       "\n",
       "    .dataframe tbody tr th {\n",
       "        vertical-align: top;\n",
       "    }\n",
       "\n",
       "    .dataframe thead th {\n",
       "        text-align: right;\n",
       "    }\n",
       "</style>\n",
       "<table border=\"1\" class=\"dataframe\">\n",
       "  <thead>\n",
       "    <tr style=\"text-align: right;\">\n",
       "      <th></th>\n",
       "      <th>user_id</th>\n",
       "      <th>reviews_count</th>\n",
       "      <th>date_start</th>\n",
       "      <th>rating_avg</th>\n",
       "      <th>year</th>\n",
       "      <th>month</th>\n",
       "      <th>source</th>\n",
       "    </tr>\n",
       "  </thead>\n",
       "  <tbody>\n",
       "    <tr>\n",
       "      <th>873748</th>\n",
       "      <td>l4OEq08MVHmBFbXL_AUnkA</td>\n",
       "      <td>8</td>\n",
       "      <td>2013-05-13 19:40:51.000</td>\n",
       "      <td>4.13</td>\n",
       "      <td>2013</td>\n",
       "      <td>5</td>\n",
       "      <td>yelp</td>\n",
       "    </tr>\n",
       "    <tr>\n",
       "      <th>1910681</th>\n",
       "      <td>113346720525963739136.0</td>\n",
       "      <td>1</td>\n",
       "      <td>2020-07-25 12:40:00.107</td>\n",
       "      <td>3.00</td>\n",
       "      <td>2020</td>\n",
       "      <td>7</td>\n",
       "      <td>google</td>\n",
       "    </tr>\n",
       "  </tbody>\n",
       "</table>\n",
       "</div>"
      ],
      "text/plain": [
       "                         user_id  reviews_count              date_start  \\\n",
       "873748    l4OEq08MVHmBFbXL_AUnkA              8 2013-05-13 19:40:51.000   \n",
       "1910681  113346720525963739136.0              1 2020-07-25 12:40:00.107   \n",
       "\n",
       "         rating_avg  year  month  source  \n",
       "873748         4.13  2013      5    yelp  \n",
       "1910681        3.00  2020      7  google  "
      ]
     },
     "execution_count": 35,
     "metadata": {},
     "output_type": "execute_result"
    }
   ],
   "source": [
    "dfgy_user = pd.concat([dfy_user, dfg_user])\n",
    "\n",
    "print(dfgy_user.info())\n",
    "dfgy_user.sample(2)"
   ]
  },
  {
   "cell_type": "markdown",
   "metadata": {},
   "source": [
    "### Dataset CHECKINS"
   ]
  },
  {
   "cell_type": "code",
   "execution_count": 36,
   "metadata": {},
   "outputs": [
    {
     "name": "stdout",
     "output_type": "stream",
     "text": [
      "<class 'pandas.core.frame.DataFrame'>\n",
      "Index: 28129090 entries, 0 to 4346286\n",
      "Data columns (total 5 columns):\n",
      " #   Column    Dtype         \n",
      "---  ------    -----         \n",
      " 0   source    object        \n",
      " 1   site_id   object        \n",
      " 2   datetime  datetime64[ns]\n",
      " 3   year      int32         \n",
      " 4   month     int32         \n",
      "dtypes: datetime64[ns](1), int32(2), object(2)\n",
      "memory usage: 1.0+ GB\n",
      "None\n"
     ]
    },
    {
     "data": {
      "text/html": [
       "<div>\n",
       "<style scoped>\n",
       "    .dataframe tbody tr th:only-of-type {\n",
       "        vertical-align: middle;\n",
       "    }\n",
       "\n",
       "    .dataframe tbody tr th {\n",
       "        vertical-align: top;\n",
       "    }\n",
       "\n",
       "    .dataframe thead th {\n",
       "        text-align: right;\n",
       "    }\n",
       "</style>\n",
       "<table border=\"1\" class=\"dataframe\">\n",
       "  <thead>\n",
       "    <tr style=\"text-align: right;\">\n",
       "      <th></th>\n",
       "      <th>source</th>\n",
       "      <th>site_id</th>\n",
       "      <th>datetime</th>\n",
       "      <th>year</th>\n",
       "      <th>month</th>\n",
       "    </tr>\n",
       "  </thead>\n",
       "  <tbody>\n",
       "    <tr>\n",
       "      <th>24401257</th>\n",
       "      <td>yelp</td>\n",
       "      <td>qFVYd-IZ0dXIuMB4CeeGeg</td>\n",
       "      <td>2019-02-28 21:26:09</td>\n",
       "      <td>2019</td>\n",
       "      <td>2</td>\n",
       "    </tr>\n",
       "    <tr>\n",
       "      <th>21127091</th>\n",
       "      <td>yelp</td>\n",
       "      <td>ipZ7neK1bjBAUrCqyCvB_Q</td>\n",
       "      <td>2013-08-15 21:46:51</td>\n",
       "      <td>2013</td>\n",
       "      <td>8</td>\n",
       "    </tr>\n",
       "  </tbody>\n",
       "</table>\n",
       "</div>"
      ],
      "text/plain": [
       "         source                 site_id            datetime  year  month\n",
       "24401257   yelp  qFVYd-IZ0dXIuMB4CeeGeg 2019-02-28 21:26:09  2019      2\n",
       "21127091   yelp  ipZ7neK1bjBAUrCqyCvB_Q 2013-08-15 21:46:51  2013      8"
      ]
     },
     "execution_count": 36,
     "metadata": {},
     "output_type": "execute_result"
    }
   ],
   "source": [
    "# Filtrado\n",
    "dfy_checkins = dfy_checkins[dfy_checkins['site_id'].isin(dfgy_rest_uniques['business_id'])]\n",
    "\n",
    "# Union\n",
    "dfgy_checkins = pd.concat([dfy_checkins, dfg_checkins])\n",
    "\n",
    "print(dfgy_checkins.info())\n",
    "dfgy_checkins.sample(2)"
   ]
  },
  {
   "cell_type": "markdown",
   "metadata": {},
   "source": [
    "### Dataset REVIEWS"
   ]
  },
  {
   "cell_type": "code",
   "execution_count": 37,
   "metadata": {},
   "outputs": [
    {
     "name": "stdout",
     "output_type": "stream",
     "text": [
      "<class 'pandas.core.frame.DataFrame'>\n",
      "Index: 5204599 entries, 0 to 4346286\n",
      "Data columns (total 9 columns):\n",
      " #   Column     Dtype         \n",
      "---  ------     -----         \n",
      " 0   source     object        \n",
      " 1   site_id    object        \n",
      " 2   user_id    object        \n",
      " 3   datetime   datetime64[ns]\n",
      " 4   month      int32         \n",
      " 5   year       int32         \n",
      " 6   rating     float64       \n",
      " 7   polarity   float64       \n",
      " 8   sentiment  int64         \n",
      "dtypes: datetime64[ns](1), float64(2), int32(2), int64(1), object(3)\n",
      "memory usage: 357.4+ MB\n",
      "None\n"
     ]
    },
    {
     "data": {
      "text/html": [
       "<div>\n",
       "<style scoped>\n",
       "    .dataframe tbody tr th:only-of-type {\n",
       "        vertical-align: middle;\n",
       "    }\n",
       "\n",
       "    .dataframe tbody tr th {\n",
       "        vertical-align: top;\n",
       "    }\n",
       "\n",
       "    .dataframe thead th {\n",
       "        text-align: right;\n",
       "    }\n",
       "</style>\n",
       "<table border=\"1\" class=\"dataframe\">\n",
       "  <thead>\n",
       "    <tr style=\"text-align: right;\">\n",
       "      <th></th>\n",
       "      <th>source</th>\n",
       "      <th>site_id</th>\n",
       "      <th>user_id</th>\n",
       "      <th>datetime</th>\n",
       "      <th>month</th>\n",
       "      <th>year</th>\n",
       "      <th>rating</th>\n",
       "      <th>polarity</th>\n",
       "      <th>sentiment</th>\n",
       "    </tr>\n",
       "  </thead>\n",
       "  <tbody>\n",
       "    <tr>\n",
       "      <th>710313</th>\n",
       "      <td>google</td>\n",
       "      <td>0x88c2c719aa56d153:0xeec2683bfef363f5</td>\n",
       "      <td>103143409321251192832.0</td>\n",
       "      <td>2019-07-24 21:09:34.826</td>\n",
       "      <td>7</td>\n",
       "      <td>2019</td>\n",
       "      <td>5.0</td>\n",
       "      <td>0.0000</td>\n",
       "      <td>0</td>\n",
       "    </tr>\n",
       "    <tr>\n",
       "      <th>3840723</th>\n",
       "      <td>google</td>\n",
       "      <td>0x8640c3d0f24bf367:0x9db82341874406a1</td>\n",
       "      <td>116200147309468073984.0</td>\n",
       "      <td>2019-12-26 20:17:38.020</td>\n",
       "      <td>12</td>\n",
       "      <td>2019</td>\n",
       "      <td>5.0</td>\n",
       "      <td>0.9313</td>\n",
       "      <td>1</td>\n",
       "    </tr>\n",
       "  </tbody>\n",
       "</table>\n",
       "</div>"
      ],
      "text/plain": [
       "         source                                site_id  \\\n",
       "710313   google  0x88c2c719aa56d153:0xeec2683bfef363f5   \n",
       "3840723  google  0x8640c3d0f24bf367:0x9db82341874406a1   \n",
       "\n",
       "                         user_id                datetime  month  year  rating  \\\n",
       "710313   103143409321251192832.0 2019-07-24 21:09:34.826      7  2019     5.0   \n",
       "3840723  116200147309468073984.0 2019-12-26 20:17:38.020     12  2019     5.0   \n",
       "\n",
       "         polarity  sentiment  \n",
       "710313     0.0000          0  \n",
       "3840723    0.9313          1  "
      ]
     },
     "execution_count": 37,
     "metadata": {},
     "output_type": "execute_result"
    }
   ],
   "source": [
    "# Filtrado\n",
    "dfy_reviews = dfy_reviews[dfy_reviews['site_id'].isin(dfgy_rest_uniques['business_id'])]\n",
    "\n",
    "# Union\n",
    "dfgy_reviews = pd.concat([dfy_reviews, dfg_reviews])\n",
    "\n",
    "print(dfgy_reviews.info())\n",
    "dfgy_reviews.sample(2)"
   ]
  },
  {
   "cell_type": "markdown",
   "metadata": {},
   "source": [
    "### Dataset CATEGORIES"
   ]
  },
  {
   "cell_type": "code",
   "execution_count": 38,
   "metadata": {},
   "outputs": [
    {
     "name": "stdout",
     "output_type": "stream",
     "text": [
      "<class 'pandas.core.frame.DataFrame'>\n",
      "Index: 744630 entries, 0 to 274996\n",
      "Data columns (total 3 columns):\n",
      " #   Column      Non-Null Count   Dtype \n",
      "---  ------      --------------   ----- \n",
      " 0   source      744630 non-null  object\n",
      " 1   site_id     744630 non-null  object\n",
      " 2   categories  744630 non-null  object\n",
      "dtypes: object(3)\n",
      "memory usage: 22.7+ MB\n",
      "None\n"
     ]
    },
    {
     "data": {
      "text/html": [
       "<div>\n",
       "<style scoped>\n",
       "    .dataframe tbody tr th:only-of-type {\n",
       "        vertical-align: middle;\n",
       "    }\n",
       "\n",
       "    .dataframe tbody tr th {\n",
       "        vertical-align: top;\n",
       "    }\n",
       "\n",
       "    .dataframe thead th {\n",
       "        text-align: right;\n",
       "    }\n",
       "</style>\n",
       "<table border=\"1\" class=\"dataframe\">\n",
       "  <thead>\n",
       "    <tr style=\"text-align: right;\">\n",
       "      <th></th>\n",
       "      <th>source</th>\n",
       "      <th>site_id</th>\n",
       "      <th>categories</th>\n",
       "    </tr>\n",
       "  </thead>\n",
       "  <tbody>\n",
       "    <tr>\n",
       "      <th>115517</th>\n",
       "      <td>google</td>\n",
       "      <td>0x888e8fe36272ff59:0xe142190f13039348</td>\n",
       "      <td>Gas station</td>\n",
       "    </tr>\n",
       "    <tr>\n",
       "      <th>125946</th>\n",
       "      <td>yelp</td>\n",
       "      <td>ukfAtVvdBD41s-yJ6gOx3w</td>\n",
       "      <td>Food Delivery Services</td>\n",
       "    </tr>\n",
       "  </tbody>\n",
       "</table>\n",
       "</div>"
      ],
      "text/plain": [
       "        source                                site_id              categories\n",
       "115517  google  0x888e8fe36272ff59:0xe142190f13039348             Gas station\n",
       "125946    yelp                 ukfAtVvdBD41s-yJ6gOx3w  Food Delivery Services"
      ]
     },
     "execution_count": 38,
     "metadata": {},
     "output_type": "execute_result"
    }
   ],
   "source": [
    "# Filtrado\n",
    "dfy_categories = dfy_categories[dfy_categories['site_id'].isin(dfgy_rest_uniques['business_id'])]\n",
    "\n",
    "# Union\n",
    "dfgy_categories = pd.concat([dfy_categories, dfg_categories])\n",
    "\n",
    "print(dfgy_categories.info())\n",
    "dfgy_categories.sample(2)"
   ]
  },
  {
   "cell_type": "markdown",
   "metadata": {},
   "source": [
    "# Análisis de datos\n",
    "========================================================================================================="
   ]
  },
  {
   "cell_type": "markdown",
   "metadata": {},
   "source": [
    "## Análisis de plantel de restaurantes (oferentes)"
   ]
  },
  {
   "cell_type": "code",
   "execution_count": 39,
   "metadata": {},
   "outputs": [
    {
     "data": {
      "image/png": "[encoded data removed]",
      "text/plain": [
       "<Figure size 1400x400 with 1 Axes>"
      ]
     },
     "metadata": {},
     "output_type": "display_data"
    }
   ],
   "source": [
    "rest_evolution = dfgy_rest.groupby(['year']).agg({'site_id': 'count'}).reset_index()\n",
    "rest_evolution = rest_evolution.loc[(rest_evolution['year'] >= 2010) & (rest_evolution['year'] <= 2021)]\n",
    "\n",
    "plt.figure(figsize=(14, 4))\n",
    "sns.lineplot(data=rest_evolution, x='year', y='site_id')\n",
    "plt.title('Evolución de cantidad de locales por año')\n",
    "plt.xlabel('Año')\n",
    "plt.ylabel('Cantidad de locales')\n",
    "plt.grid(True)"
   ]
  },
  {
   "cell_type": "markdown",
   "metadata": {},
   "source": [
    "Conclusiones:\n",
    "* El gráfico muestra la cantidad de locales registrados en yelp y google a lo largo del tiempo, medido en años\n",
    "* Se observan claramente las fases de:\n",
    "    * Nacimiento, en 2010\n",
    "    * Evolución y desarrollo, entre 2012 y 2014\n",
    "    * Posicionamiento y estabilización en el mercado, entre 2015 y 2019 \n",
    "    * Involución, en 2020 -- esto último causado por el covid19"
   ]
  },
  {
   "cell_type": "markdown",
   "metadata": {},
   "source": [
    "## Análisis de performance de restaurantes"
   ]
  },
  {
   "cell_type": "code",
   "execution_count": 40,
   "metadata": {},
   "outputs": [
    {
     "data": {
      "image/png": "[encoded data removed]",
      "text/plain": [
       "<Figure size 1400x400 with 1 Axes>"
      ]
     },
     "metadata": {},
     "output_type": "display_data"
    }
   ],
   "source": [
    "rest_performance = dfgy_rest.groupby(['year']).agg({'rating_avg': 'mean'}).reset_index()\n",
    "rest_performance = rest_performance.loc[(rest_performance['year'] >= 2010) & (rest_performance['year'] <= 2021)]\n",
    "\n",
    "plt.figure(figsize=(14, 4))\n",
    "sns.lineplot(data=rest_performance, x='year', y='rating_avg')\n",
    "plt.title('Evolución de performance de locales por año')\n",
    "plt.xlabel('Año')\n",
    "plt.ylabel('Performance')\n",
    "plt.grid(True)"
   ]
  },
  {
   "cell_type": "markdown",
   "metadata": {},
   "source": [
    "Conclusión:\n",
    "* Se muestra el rating promedio a lo largo del tiempo de todos los locales registrados\n",
    "* Se observa una clara tendencia a la mejora del rating, lo cual se traduce en el involucramiento de los oferentes para cuidar su clientela. \n",
    "* Esta tendencia tiene un alto impacto social, ya que contribuye a instalar la mentalidad de satisfacción del cliente"
   ]
  },
  {
   "cell_type": "markdown",
   "metadata": {},
   "source": [
    "## Análisis de plantel de usuarios (clientes)"
   ]
  },
  {
   "cell_type": "code",
   "execution_count": 41,
   "metadata": {},
   "outputs": [
    {
     "data": {
      "image/png": "[encoded data removed]",
      "text/plain": [
       "<Figure size 1400x400 with 1 Axes>"
      ]
     },
     "metadata": {},
     "output_type": "display_data"
    }
   ],
   "source": [
    "user_evolution = dfgy_user.groupby(['year']).agg({'user_id': 'count'}).reset_index()\n",
    "user_evolution = user_evolution.loc[(user_evolution['year'] >= 2010) & (user_evolution['year'] <= 2021)]\n",
    "\n",
    "plt.figure(figsize=(14, 4))\n",
    "sns.lineplot(data=user_evolution, x='year', y='user_id')\n",
    "plt.title('Evolución de cantidad de usuarios por año')\n",
    "plt.xlabel('Año')\n",
    "plt.ylabel('Cantidad de usuarios')\n",
    "plt.grid(True)"
   ]
  },
  {
   "cell_type": "markdown",
   "metadata": {},
   "source": [
    "Conclusión:\n",
    "* Se muestran a lo largo del tiempo, la cantidad de usuarios registrados en yelp y google\n",
    "* Se observa una clara tendencia de aumento de usuarios\n",
    "* Se observa una clara disminución a partir de 2019, esto último causado por el fenómeno de covid19"
   ]
  },
  {
   "cell_type": "markdown",
   "metadata": {},
   "source": [
    "## Análisis de demanda"
   ]
  },
  {
   "cell_type": "code",
   "execution_count": 42,
   "metadata": {},
   "outputs": [
    {
     "data": {
      "image/png": "[encoded data removed]",
      "text/plain": [
       "<Figure size 1400x400 with 1 Axes>"
      ]
     },
     "metadata": {},
     "output_type": "display_data"
    }
   ],
   "source": [
    "checkins_evolution = dfgy_checkins.groupby(['year']).agg({'datetime': 'count'}).reset_index()\n",
    "checkins_evolution = checkins_evolution.loc[(checkins_evolution['year'] >= 2010) & (checkins_evolution['year'] <= 2021)]\n",
    "\n",
    "plt.figure(figsize=(14, 4))\n",
    "sns.lineplot(data=checkins_evolution, x='year', y='datetime')\n",
    "plt.title('Evolución de cantidad de checkins por año')\n",
    "plt.xlabel('Año')\n",
    "plt.ylabel('Cantidad de checkins')\n",
    "plt.grid(True)"
   ]
  },
  {
   "cell_type": "markdown",
   "metadata": {},
   "source": [
    "Conclusiones:\n",
    "* El gráfico muestra la cantidad de check-ins registrados en yelp a lo largo del tiempo, medido en años\n",
    "* La baja de actividad a partir del 2015 puede deberse a la fuerte entrada del mercado de delivery"
   ]
  },
  {
   "cell_type": "markdown",
   "metadata": {},
   "source": [
    "## Análisis de preferencias de usuario"
   ]
  },
  {
   "cell_type": "markdown",
   "metadata": {},
   "source": [
    "### Categorías top"
   ]
  },
  {
   "cell_type": "code",
   "execution_count": 43,
   "metadata": {},
   "outputs": [
    {
     "data": {
      "text/html": [
       "<div>\n",
       "<style scoped>\n",
       "    .dataframe tbody tr th:only-of-type {\n",
       "        vertical-align: middle;\n",
       "    }\n",
       "\n",
       "    .dataframe tbody tr th {\n",
       "        vertical-align: top;\n",
       "    }\n",
       "\n",
       "    .dataframe thead th {\n",
       "        text-align: right;\n",
       "    }\n",
       "</style>\n",
       "<table border=\"1\" class=\"dataframe\">\n",
       "  <thead>\n",
       "    <tr style=\"text-align: right;\">\n",
       "      <th></th>\n",
       "      <th>Id</th>\n",
       "      <th>source</th>\n",
       "      <th>categories</th>\n",
       "      <th>supracategory</th>\n",
       "      <th>category_edited</th>\n",
       "      <th>category_edited2</th>\n",
       "      <th>category_edited3</th>\n",
       "      <th>category_edited4</th>\n",
       "    </tr>\n",
       "  </thead>\n",
       "  <tbody>\n",
       "    <tr>\n",
       "      <th>0</th>\n",
       "      <td>1</td>\n",
       "      <td>yelp</td>\n",
       "      <td>Restaurants</td>\n",
       "      <td>general</td>\n",
       "      <td>Restaurants</td>\n",
       "      <td>Restaurants</td>\n",
       "      <td>restaurants</td>\n",
       "      <td>restaurant</td>\n",
       "    </tr>\n",
       "    <tr>\n",
       "      <th>1</th>\n",
       "      <td>2</td>\n",
       "      <td>yelp</td>\n",
       "      <td>Food</td>\n",
       "      <td>general</td>\n",
       "      <td>Food</td>\n",
       "      <td>Food</td>\n",
       "      <td>food</td>\n",
       "      <td>food</td>\n",
       "    </tr>\n",
       "    <tr>\n",
       "      <th>2</th>\n",
       "      <td>3</td>\n",
       "      <td>yelp</td>\n",
       "      <td>Burgers</td>\n",
       "      <td>burger</td>\n",
       "      <td>Burgers</td>\n",
       "      <td>Burgers</td>\n",
       "      <td>burgers</td>\n",
       "      <td>burgers</td>\n",
       "    </tr>\n",
       "    <tr>\n",
       "      <th>3</th>\n",
       "      <td>4</td>\n",
       "      <td>yelp</td>\n",
       "      <td>Fast Food</td>\n",
       "      <td>fast food</td>\n",
       "      <td>Fast Food</td>\n",
       "      <td>Fast Food</td>\n",
       "      <td>fast food</td>\n",
       "      <td>fast food</td>\n",
       "    </tr>\n",
       "    <tr>\n",
       "      <th>4</th>\n",
       "      <td>5</td>\n",
       "      <td>yelp</td>\n",
       "      <td>Sandwiches</td>\n",
       "      <td>burger</td>\n",
       "      <td>Sandwiches</td>\n",
       "      <td>Sandwiches</td>\n",
       "      <td>sandwiches</td>\n",
       "      <td>sandwiches</td>\n",
       "    </tr>\n",
       "    <tr>\n",
       "      <th>...</th>\n",
       "      <td>...</td>\n",
       "      <td>...</td>\n",
       "      <td>...</td>\n",
       "      <td>...</td>\n",
       "      <td>...</td>\n",
       "      <td>...</td>\n",
       "      <td>...</td>\n",
       "      <td>...</td>\n",
       "    </tr>\n",
       "    <tr>\n",
       "      <th>444</th>\n",
       "      <td>445</td>\n",
       "      <td>google</td>\n",
       "      <td>Yakiniku restaurant</td>\n",
       "      <td>regional</td>\n",
       "      <td>Yakiniku</td>\n",
       "      <td>Yakiniku</td>\n",
       "      <td>yakiniku</td>\n",
       "      <td>yakiniku</td>\n",
       "    </tr>\n",
       "    <tr>\n",
       "      <th>445</th>\n",
       "      <td>446</td>\n",
       "      <td>google</td>\n",
       "      <td>Yakisoba Restaurant</td>\n",
       "      <td>regional</td>\n",
       "      <td>Yakisoba</td>\n",
       "      <td>Yakisoba</td>\n",
       "      <td>yakisoba</td>\n",
       "      <td>yakisoba</td>\n",
       "    </tr>\n",
       "    <tr>\n",
       "      <th>446</th>\n",
       "      <td>447</td>\n",
       "      <td>google</td>\n",
       "      <td>Yakitori restaurant</td>\n",
       "      <td>regional</td>\n",
       "      <td>Yakitori</td>\n",
       "      <td>Yakitori</td>\n",
       "      <td>yakitori</td>\n",
       "      <td>yakitori</td>\n",
       "    </tr>\n",
       "    <tr>\n",
       "      <th>447</th>\n",
       "      <td>448</td>\n",
       "      <td>google</td>\n",
       "      <td>Yemenite restaurant</td>\n",
       "      <td>regional</td>\n",
       "      <td>Yemenite</td>\n",
       "      <td>Yemenite</td>\n",
       "      <td>yemenite</td>\n",
       "      <td>yemenite</td>\n",
       "    </tr>\n",
       "    <tr>\n",
       "      <th>448</th>\n",
       "      <td>449</td>\n",
       "      <td>google</td>\n",
       "      <td>Yucatan restaurant</td>\n",
       "      <td>regional</td>\n",
       "      <td>Yucatan</td>\n",
       "      <td>Yucatan</td>\n",
       "      <td>yucatan</td>\n",
       "      <td>yucatan</td>\n",
       "    </tr>\n",
       "  </tbody>\n",
       "</table>\n",
       "<p>449 rows × 8 columns</p>\n",
       "</div>"
      ],
      "text/plain": [
       "      Id  source           categories supracategory category_edited  \\\n",
       "0      1    yelp          Restaurants       general     Restaurants   \n",
       "1      2    yelp                 Food       general            Food   \n",
       "2      3    yelp              Burgers        burger         Burgers   \n",
       "3      4    yelp            Fast Food     fast food       Fast Food   \n",
       "4      5    yelp           Sandwiches        burger      Sandwiches   \n",
       "..   ...     ...                  ...           ...             ...   \n",
       "444  445  google  Yakiniku restaurant      regional       Yakiniku    \n",
       "445  446  google  Yakisoba Restaurant      regional       Yakisoba    \n",
       "446  447  google  Yakitori restaurant      regional       Yakitori    \n",
       "447  448  google  Yemenite restaurant      regional       Yemenite    \n",
       "448  449  google   Yucatan restaurant      regional        Yucatan    \n",
       "\n",
       "    category_edited2 category_edited3 category_edited4  \n",
       "0        Restaurants      restaurants       restaurant  \n",
       "1               Food             food             food  \n",
       "2            Burgers          burgers          burgers  \n",
       "3          Fast Food        fast food        fast food  \n",
       "4         Sandwiches       sandwiches       sandwiches  \n",
       "..               ...              ...              ...  \n",
       "444         Yakiniku         yakiniku         yakiniku  \n",
       "445         Yakisoba         yakisoba         yakisoba  \n",
       "446         Yakitori         yakitori         yakitori  \n",
       "447         Yemenite         yemenite         yemenite  \n",
       "448          Yucatan          yucatan          yucatan  \n",
       "\n",
       "[449 rows x 8 columns]"
      ]
     },
     "execution_count": 43,
     "metadata": {},
     "output_type": "execute_result"
    }
   ],
   "source": [
    "dfgy_categories_food_edited = pd.read_csv('dataset_gy_categories_food_edited.csv')\n",
    "dfgy_categories_food_edited"
   ]
  },
  {
   "cell_type": "code",
   "execution_count": 44,
   "metadata": {},
   "outputs": [
    {
     "data": {
      "text/html": [
       "<div>\n",
       "<style scoped>\n",
       "    .dataframe tbody tr th:only-of-type {\n",
       "        vertical-align: middle;\n",
       "    }\n",
       "\n",
       "    .dataframe tbody tr th {\n",
       "        vertical-align: top;\n",
       "    }\n",
       "\n",
       "    .dataframe thead th {\n",
       "        text-align: right;\n",
       "    }\n",
       "</style>\n",
       "<table border=\"1\" class=\"dataframe\">\n",
       "  <thead>\n",
       "    <tr style=\"text-align: right;\">\n",
       "      <th></th>\n",
       "      <th>source_x</th>\n",
       "      <th>site_id</th>\n",
       "      <th>categories</th>\n",
       "      <th>Id</th>\n",
       "      <th>source_y</th>\n",
       "      <th>supracategory</th>\n",
       "      <th>category_edited</th>\n",
       "      <th>category_edited2</th>\n",
       "      <th>category_edited3</th>\n",
       "      <th>category_edited4</th>\n",
       "    </tr>\n",
       "  </thead>\n",
       "  <tbody>\n",
       "    <tr>\n",
       "      <th>0</th>\n",
       "      <td>yelp</td>\n",
       "      <td>MTSW4McQd7CbVtyjqoe9mw</td>\n",
       "      <td>Food</td>\n",
       "      <td>2</td>\n",
       "      <td>yelp</td>\n",
       "      <td>general</td>\n",
       "      <td>Food</td>\n",
       "      <td>Food</td>\n",
       "      <td>food</td>\n",
       "      <td>food</td>\n",
       "    </tr>\n",
       "    <tr>\n",
       "      <th>1</th>\n",
       "      <td>yelp</td>\n",
       "      <td>mWMc6_wTdE0EUBKIGXDVfA</td>\n",
       "      <td>Food</td>\n",
       "      <td>2</td>\n",
       "      <td>yelp</td>\n",
       "      <td>general</td>\n",
       "      <td>Food</td>\n",
       "      <td>Food</td>\n",
       "      <td>food</td>\n",
       "      <td>food</td>\n",
       "    </tr>\n",
       "    <tr>\n",
       "      <th>2</th>\n",
       "      <td>yelp</td>\n",
       "      <td>CF33F8-E6oudUQ46HnavjQ</td>\n",
       "      <td>Food</td>\n",
       "      <td>2</td>\n",
       "      <td>yelp</td>\n",
       "      <td>general</td>\n",
       "      <td>Food</td>\n",
       "      <td>Food</td>\n",
       "      <td>food</td>\n",
       "      <td>food</td>\n",
       "    </tr>\n",
       "    <tr>\n",
       "      <th>3</th>\n",
       "      <td>yelp</td>\n",
       "      <td>bBDDEgkFA1Otx9Lfe7BZUQ</td>\n",
       "      <td>Food</td>\n",
       "      <td>2</td>\n",
       "      <td>yelp</td>\n",
       "      <td>general</td>\n",
       "      <td>Food</td>\n",
       "      <td>Food</td>\n",
       "      <td>food</td>\n",
       "      <td>food</td>\n",
       "    </tr>\n",
       "    <tr>\n",
       "      <th>4</th>\n",
       "      <td>yelp</td>\n",
       "      <td>eEOYSgkmpB90uNA7lDOMRA</td>\n",
       "      <td>Food</td>\n",
       "      <td>2</td>\n",
       "      <td>yelp</td>\n",
       "      <td>general</td>\n",
       "      <td>Food</td>\n",
       "      <td>Food</td>\n",
       "      <td>food</td>\n",
       "      <td>food</td>\n",
       "    </tr>\n",
       "    <tr>\n",
       "      <th>...</th>\n",
       "      <td>...</td>\n",
       "      <td>...</td>\n",
       "      <td>...</td>\n",
       "      <td>...</td>\n",
       "      <td>...</td>\n",
       "      <td>...</td>\n",
       "      <td>...</td>\n",
       "      <td>...</td>\n",
       "      <td>...</td>\n",
       "      <td>...</td>\n",
       "    </tr>\n",
       "    <tr>\n",
       "      <th>549791</th>\n",
       "      <td>google</td>\n",
       "      <td>0x80ec1fd3d42c9afb:0x90a7b30788182fc4</td>\n",
       "      <td>Sfiha restaurant</td>\n",
       "      <td>373</td>\n",
       "      <td>google</td>\n",
       "      <td>regional</td>\n",
       "      <td>Sfiha</td>\n",
       "      <td>Sfiha</td>\n",
       "      <td>sfiha</td>\n",
       "      <td>sfiha</td>\n",
       "    </tr>\n",
       "    <tr>\n",
       "      <th>549792</th>\n",
       "      <td>google</td>\n",
       "      <td>0x87e4f11cdb194ced:0x9f69c8ed25a28eb2</td>\n",
       "      <td>Mutton barbecue restaurant</td>\n",
       "      <td>312</td>\n",
       "      <td>google</td>\n",
       "      <td>regional</td>\n",
       "      <td>Mutton barbecue</td>\n",
       "      <td>Mutton barbecue</td>\n",
       "      <td>mutton barbecue</td>\n",
       "      <td>mutton barbecue</td>\n",
       "    </tr>\n",
       "    <tr>\n",
       "      <th>549793</th>\n",
       "      <td>google</td>\n",
       "      <td>0x89c2f9331071005d:0x308aad6c8c05becd</td>\n",
       "      <td>Mutton barbecue restaurant</td>\n",
       "      <td>312</td>\n",
       "      <td>google</td>\n",
       "      <td>regional</td>\n",
       "      <td>Mutton barbecue</td>\n",
       "      <td>Mutton barbecue</td>\n",
       "      <td>mutton barbecue</td>\n",
       "      <td>mutton barbecue</td>\n",
       "    </tr>\n",
       "    <tr>\n",
       "      <th>549794</th>\n",
       "      <td>google</td>\n",
       "      <td>0x80deaa0b093ecaa5:0xca75dfda7eacf203</td>\n",
       "      <td>Steamboat restaurant</td>\n",
       "      <td>398</td>\n",
       "      <td>google</td>\n",
       "      <td>regional</td>\n",
       "      <td>Steamboat</td>\n",
       "      <td>Steamboat</td>\n",
       "      <td>steamboat</td>\n",
       "      <td>steamboat</td>\n",
       "    </tr>\n",
       "    <tr>\n",
       "      <th>549795</th>\n",
       "      <td>google</td>\n",
       "      <td>0x8085808ff899b48d:0xe3766e273c9a594</td>\n",
       "      <td>Sundanese restaurant</td>\n",
       "      <td>402</td>\n",
       "      <td>google</td>\n",
       "      <td>regional</td>\n",
       "      <td>Sundanese</td>\n",
       "      <td>Sundanese</td>\n",
       "      <td>sundanese</td>\n",
       "      <td>sundanese</td>\n",
       "    </tr>\n",
       "  </tbody>\n",
       "</table>\n",
       "<p>549796 rows × 10 columns</p>\n",
       "</div>"
      ],
      "text/plain": [
       "       source_x                                site_id  \\\n",
       "0          yelp                 MTSW4McQd7CbVtyjqoe9mw   \n",
       "1          yelp                 mWMc6_wTdE0EUBKIGXDVfA   \n",
       "2          yelp                 CF33F8-E6oudUQ46HnavjQ   \n",
       "3          yelp                 bBDDEgkFA1Otx9Lfe7BZUQ   \n",
       "4          yelp                 eEOYSgkmpB90uNA7lDOMRA   \n",
       "...         ...                                    ...   \n",
       "549791   google  0x80ec1fd3d42c9afb:0x90a7b30788182fc4   \n",
       "549792   google  0x87e4f11cdb194ced:0x9f69c8ed25a28eb2   \n",
       "549793   google  0x89c2f9331071005d:0x308aad6c8c05becd   \n",
       "549794   google  0x80deaa0b093ecaa5:0xca75dfda7eacf203   \n",
       "549795   google   0x8085808ff899b48d:0xe3766e273c9a594   \n",
       "\n",
       "                        categories   Id source_y supracategory  \\\n",
       "0                             Food    2     yelp       general   \n",
       "1                             Food    2     yelp       general   \n",
       "2                             Food    2     yelp       general   \n",
       "3                             Food    2     yelp       general   \n",
       "4                             Food    2     yelp       general   \n",
       "...                            ...  ...      ...           ...   \n",
       "549791            Sfiha restaurant  373   google      regional   \n",
       "549792  Mutton barbecue restaurant  312   google      regional   \n",
       "549793  Mutton barbecue restaurant  312   google      regional   \n",
       "549794        Steamboat restaurant  398   google      regional   \n",
       "549795        Sundanese restaurant  402   google      regional   \n",
       "\n",
       "         category_edited category_edited2 category_edited3 category_edited4  \n",
       "0                   Food             Food             food             food  \n",
       "1                   Food             Food             food             food  \n",
       "2                   Food             Food             food             food  \n",
       "3                   Food             Food             food             food  \n",
       "4                   Food             Food             food             food  \n",
       "...                  ...              ...              ...              ...  \n",
       "549791            Sfiha             Sfiha            sfiha            sfiha  \n",
       "549792  Mutton barbecue   Mutton barbecue  mutton barbecue  mutton barbecue  \n",
       "549793  Mutton barbecue   Mutton barbecue  mutton barbecue  mutton barbecue  \n",
       "549794        Steamboat         Steamboat        steamboat        steamboat  \n",
       "549795        Sundanese         Sundanese        sundanese        sundanese  \n",
       "\n",
       "[549796 rows x 10 columns]"
      ]
     },
     "execution_count": 44,
     "metadata": {},
     "output_type": "execute_result"
    }
   ],
   "source": [
    "dfgy_categories_final = pd.merge(dfgy_categories, dfgy_categories_food_edited, on='categories')\n",
    "dfgy_categories_final"
   ]
  },
  {
   "cell_type": "code",
   "execution_count": 45,
   "metadata": {},
   "outputs": [
    {
     "data": {
      "text/plain": [
       "Text(0, 0.5, 'SUPRA-Categoría')"
      ]
     },
     "execution_count": 45,
     "metadata": {},
     "output_type": "execute_result"
    },
    {
     "data": {
      "image/png": "[encoded data removed]",
      "text/plain": [
       "<Figure size 1400x600 with 1 Axes>"
      ]
     },
     "metadata": {},
     "output_type": "display_data"
    }
   ],
   "source": [
    "dfgy_categories_count = dfgy_categories_final.groupby('supracategory')['site_id'].count().reset_index()\n",
    "dfgy_categories_count.rename(columns={'site_id':'categories_count'}, inplace=True)\n",
    "dfgy_categories_count.sort_values('categories_count', ascending=False, inplace=True)\n",
    "\n",
    "plt.figure(figsize=(14, 6))\n",
    "sns.barplot(x=\"categories_count\", y=\"supracategory\", data=dfgy_categories_count.head(20))\n",
    "plt.title('Preferencias de usuario por SUPRA-categoría')\n",
    "plt.ylabel('SUPRA-Categoría')"
   ]
  },
  {
   "cell_type": "markdown",
   "metadata": {},
   "source": [
    "Conclusión:\n",
    "* Se muestran las \"supra-categorías\" más buscadas\n",
    "* La característica denominada \"supra-categoría\" se ha incorporado en el modelo para ahondar en el conocimiento del usuario\n",
    "* Se observa que la supra-categoría de \"beverages\" que contiene bares y pubs, contiene a un tipo de producto que puede ser de interés para los clientes"
   ]
  },
  {
   "cell_type": "code",
   "execution_count": 46,
   "metadata": {},
   "outputs": [
    {
     "data": {
      "text/plain": [
       "Text(0, 0.5, 'Categoría')"
      ]
     },
     "execution_count": 46,
     "metadata": {},
     "output_type": "execute_result"
    },
    {
     "data": {
      "image/png": "[encoded data removed]",
      "text/plain": [
       "<Figure size 1400x600 with 1 Axes>"
      ]
     },
     "metadata": {},
     "output_type": "display_data"
    }
   ],
   "source": [
    "dfgy_categories_count = dfgy_categories_final.groupby('category_edited4')['site_id'].count().reset_index()\n",
    "dfgy_categories_count.rename(columns={'site_id':'categories_count'}, inplace=True)\n",
    "dfgy_categories_count.sort_values('categories_count', ascending=False, inplace=True)\n",
    "\n",
    "plt.figure(figsize=(14, 6))\n",
    "sns.barplot(x=\"categories_count\", y=\"category_edited4\", data=dfgy_categories_count.head(20))\n",
    "plt.title('Preferencias de usuario por categoría')\n",
    "plt.ylabel('Categoría')"
   ]
  },
  {
   "cell_type": "markdown",
   "metadata": {},
   "source": [
    "### Atributos top"
   ]
  },
  {
   "cell_type": "code",
   "execution_count": 47,
   "metadata": {},
   "outputs": [
    {
     "data": {
      "text/plain": [
       "Text(0, 0.5, 'Atributos')"
      ]
     },
     "execution_count": 47,
     "metadata": {},
     "output_type": "execute_result"
    },
    {
     "data": {
      "image/png": "[encoded data removed]",
      "text/plain": [
       "<Figure size 1400x600 with 1 Axes>"
      ]
     },
     "metadata": {},
     "output_type": "display_data"
    }
   ],
   "source": [
    "dfy_attributes_count = dfy_attributes.groupby('attributes')['business_id'].count().reset_index()\n",
    "dfy_attributes_count.rename(columns={'business_id': 'attributes_count'}, inplace=True)\n",
    "dfy_attributes_count.sort_values('attributes_count', ascending=False, inplace=True)\n",
    "dfy_attributes_count\n",
    "\n",
    "\n",
    "plt.figure(figsize=(14, 6))\n",
    "sns.barplot(x=\"attributes_count\", y=\"attributes\", data=dfy_attributes_count.head(20))\n",
    "plt.title('Preferencias de usuario por atributos')\n",
    "plt.ylabel('Atributos')"
   ]
  },
  {
   "cell_type": "markdown",
   "metadata": {},
   "source": [
    "Conclusión:\n",
    "* Se observan los atributos más valorados por el mercado de USA\n",
    "* El atributo líder es el que facilita el pago con tarjetas de crédito\n",
    "* Resulta de gran interés para la clientela que el establecimiento cuente con parking"
   ]
  },
  {
   "cell_type": "markdown",
   "metadata": {},
   "source": [
    "### Marcas top"
   ]
  },
  {
   "cell_type": "code",
   "execution_count": 48,
   "metadata": {},
   "outputs": [],
   "source": [
    "dfgy_names_top = pd.merge(dfgy_checkins, dfgy_rest[['site_id', 'name']], how='left', on='site_id')\n",
    "dfgy_names_top = dfgy_names_top.groupby('name')['site_id'].count().reset_index()"
   ]
  },
  {
   "cell_type": "code",
   "execution_count": 49,
   "metadata": {},
   "outputs": [
    {
     "data": {
      "text/plain": [
       "Text(0, 0.5, 'Marca')"
      ]
     },
     "execution_count": 49,
     "metadata": {},
     "output_type": "execute_result"
    },
    {
     "data": {
      "image/png": "[encoded data removed]",
      "text/plain": [
       "<Figure size 1400x600 with 1 Axes>"
      ]
     },
     "metadata": {},
     "output_type": "display_data"
    }
   ],
   "source": [
    "dfgy_names_top.rename(columns={'site_id': 'name_count'}, inplace=True)\n",
    "dfgy_names_top = dfgy_names_top.sort_values('name_count', ascending=False)\n",
    "\n",
    "plt.figure(figsize=(14, 6))\n",
    "sns.barplot(x=\"name_count\", y=\"name\", data=dfgy_names_top.head(20))\n",
    "plt.title('Preferencias de usuario por marca')\n",
    "plt.ylabel('Marca')"
   ]
  },
  {
   "cell_type": "markdown",
   "metadata": {},
   "source": [
    "Conclusiones:\n",
    "* Las dos marcas líderes como \"Reading Terminal Market\" y \"Datz\" ofrecen no solamente una experiencia gastronómica, sino un espacio social y de distensión. \"Reading Terminal Market\" es un espacio de paseo de compras y adyacentemente cuenta con un mercado gastronómico. Esta variable debe tenerse dentro de los atributos considerados para un sistema de recomendación\n",
    "* Las dos marcas que le siguen son cafeterías, y luego sigue una marca de comidas rápidas (\"McDonalds), para continuar con otros mercados de comida que ofrecen paseos\n",
    "* Lo notable de esto es que no hay ningún restaurante tradicional dentro de las primeras diez marcas "
   ]
  },
  {
   "cell_type": "markdown",
   "metadata": {},
   "source": [
    "### Locaciones top"
   ]
  },
  {
   "cell_type": "code",
   "execution_count": 50,
   "metadata": {},
   "outputs": [],
   "source": [
    "checkin_locations = pd.merge(dfgy_checkins, dfgy_rest[['site_id', 'state_city_postalcode']], on='site_id', how='inner')"
   ]
  },
  {
   "cell_type": "code",
   "execution_count": 51,
   "metadata": {},
   "outputs": [],
   "source": [
    "checkin_locations = checkin_locations.loc[(checkin_locations['year'] >= 2010) & (checkin_locations['year'] <= 2021)]"
   ]
  },
  {
   "cell_type": "code",
   "execution_count": 52,
   "metadata": {},
   "outputs": [
    {
     "data": {
      "text/html": [
       "<div>\n",
       "<style scoped>\n",
       "    .dataframe tbody tr th:only-of-type {\n",
       "        vertical-align: middle;\n",
       "    }\n",
       "\n",
       "    .dataframe tbody tr th {\n",
       "        vertical-align: top;\n",
       "    }\n",
       "\n",
       "    .dataframe thead th {\n",
       "        text-align: right;\n",
       "    }\n",
       "</style>\n",
       "<table border=\"1\" class=\"dataframe\">\n",
       "  <thead>\n",
       "    <tr style=\"text-align: right;\">\n",
       "      <th></th>\n",
       "      <th>source</th>\n",
       "      <th>site_id</th>\n",
       "      <th>datetime</th>\n",
       "      <th>year</th>\n",
       "      <th>month</th>\n",
       "      <th>state_city_postalcode</th>\n",
       "    </tr>\n",
       "  </thead>\n",
       "  <tbody>\n",
       "    <tr>\n",
       "      <th>25848480</th>\n",
       "      <td>yelp</td>\n",
       "      <td>Iw8uqNPxviwcgxtruAx_LA</td>\n",
       "      <td>2016-04-15 21:52:56</td>\n",
       "      <td>2016</td>\n",
       "      <td>4</td>\n",
       "      <td>PA - Philadelphia - 19102</td>\n",
       "    </tr>\n",
       "    <tr>\n",
       "      <th>74159105</th>\n",
       "      <td>yelp</td>\n",
       "      <td>sfOsBQzmxnqal8N_PfwpJQ</td>\n",
       "      <td>2019-02-17 02:18:06</td>\n",
       "      <td>2019</td>\n",
       "      <td>2</td>\n",
       "      <td>AZ - Tucson - 85713</td>\n",
       "    </tr>\n",
       "  </tbody>\n",
       "</table>\n",
       "</div>"
      ],
      "text/plain": [
       "         source                 site_id            datetime  year  month  \\\n",
       "25848480   yelp  Iw8uqNPxviwcgxtruAx_LA 2016-04-15 21:52:56  2016      4   \n",
       "74159105   yelp  sfOsBQzmxnqal8N_PfwpJQ 2019-02-17 02:18:06  2019      2   \n",
       "\n",
       "              state_city_postalcode  \n",
       "25848480  PA - Philadelphia - 19102  \n",
       "74159105        AZ - Tucson - 85713  "
      ]
     },
     "execution_count": 52,
     "metadata": {},
     "output_type": "execute_result"
    }
   ],
   "source": [
    "checkin_locations.sample(2)"
   ]
  },
  {
   "cell_type": "code",
   "execution_count": 53,
   "metadata": {},
   "outputs": [
    {
     "data": {
      "text/html": [
       "<div>\n",
       "<style scoped>\n",
       "    .dataframe tbody tr th:only-of-type {\n",
       "        vertical-align: middle;\n",
       "    }\n",
       "\n",
       "    .dataframe tbody tr th {\n",
       "        vertical-align: top;\n",
       "    }\n",
       "\n",
       "    .dataframe thead th {\n",
       "        text-align: right;\n",
       "    }\n",
       "</style>\n",
       "<table border=\"1\" class=\"dataframe\">\n",
       "  <thead>\n",
       "    <tr style=\"text-align: right;\">\n",
       "      <th></th>\n",
       "      <th>state_city_postalcode</th>\n",
       "      <th>checkins_count</th>\n",
       "    </tr>\n",
       "  </thead>\n",
       "  <tbody>\n",
       "    <tr>\n",
       "      <th>81756</th>\n",
       "      <td>PA - Philadelphia - 19107</td>\n",
       "      <td>5418950</td>\n",
       "    </tr>\n",
       "    <tr>\n",
       "      <th>37098</th>\n",
       "      <td>LA - New Orleans - 70130</td>\n",
       "      <td>4070500</td>\n",
       "    </tr>\n",
       "    <tr>\n",
       "      <th>10153</th>\n",
       "      <td>CA - Santa Barbara - 93101</td>\n",
       "      <td>2950218</td>\n",
       "    </tr>\n",
       "    <tr>\n",
       "      <th>81753</th>\n",
       "      <td>PA - Philadelphia - 19103</td>\n",
       "      <td>2018347</td>\n",
       "    </tr>\n",
       "    <tr>\n",
       "      <th>87402</th>\n",
       "      <td>TN - Nashville - 37203</td>\n",
       "      <td>1571728</td>\n",
       "    </tr>\n",
       "    <tr>\n",
       "      <th>37085</th>\n",
       "      <td>LA - New Orleans - 70116</td>\n",
       "      <td>1446594</td>\n",
       "    </tr>\n",
       "    <tr>\n",
       "      <th>81791</th>\n",
       "      <td>PA - Philadelphia - 19147</td>\n",
       "      <td>1340205</td>\n",
       "    </tr>\n",
       "    <tr>\n",
       "      <th>37084</th>\n",
       "      <td>LA - New Orleans - 70115</td>\n",
       "      <td>1308229</td>\n",
       "    </tr>\n",
       "    <tr>\n",
       "      <th>81755</th>\n",
       "      <td>PA - Philadelphia - 19106</td>\n",
       "      <td>1273744</td>\n",
       "    </tr>\n",
       "    <tr>\n",
       "      <th>32124</th>\n",
       "      <td>IN - Indianapolis - 46204</td>\n",
       "      <td>1241412</td>\n",
       "    </tr>\n",
       "  </tbody>\n",
       "</table>\n",
       "</div>"
      ],
      "text/plain": [
       "            state_city_postalcode  checkins_count\n",
       "81756   PA - Philadelphia - 19107         5418950\n",
       "37098    LA - New Orleans - 70130         4070500\n",
       "10153  CA - Santa Barbara - 93101         2950218\n",
       "81753   PA - Philadelphia - 19103         2018347\n",
       "87402      TN - Nashville - 37203         1571728\n",
       "37085    LA - New Orleans - 70116         1446594\n",
       "81791   PA - Philadelphia - 19147         1340205\n",
       "37084    LA - New Orleans - 70115         1308229\n",
       "81755   PA - Philadelphia - 19106         1273744\n",
       "32124   IN - Indianapolis - 46204         1241412"
      ]
     },
     "execution_count": 53,
     "metadata": {},
     "output_type": "execute_result"
    }
   ],
   "source": [
    "locations_top = checkin_locations.groupby(['state_city_postalcode']).agg({'datetime':'count'})\n",
    "locations_top.rename(columns={'datetime':'checkins_count'}, inplace=True)\n",
    "locations_top = locations_top.reset_index()\n",
    "locations_top = locations_top.sort_values(by='checkins_count', ascending=False)\n",
    "\n",
    "locations_top.head(10)"
   ]
  },
  {
   "cell_type": "code",
   "execution_count": 54,
   "metadata": {},
   "outputs": [
    {
     "data": {
      "text/plain": [
       "Text(0, 0.5, 'Locación')"
      ]
     },
     "execution_count": 54,
     "metadata": {},
     "output_type": "execute_result"
    },
    {
     "data": {
      "image/png": "[encoded data removed]",
      "text/plain": [
       "<Figure size 1400x600 with 1 Axes>"
      ]
     },
     "metadata": {},
     "output_type": "display_data"
    }
   ],
   "source": [
    "plt.figure(figsize=(14, 6))\n",
    "sns.barplot(x=\"checkins_count\", y=\"state_city_postalcode\", data=locations_top.head(10))\n",
    "plt.title('Preferencias de usuario por locación')\n",
    "plt.ylabel('Locación')"
   ]
  },
  {
   "cell_type": "markdown",
   "metadata": {},
   "source": [
    "Conclusiones:\n",
    "* El gráfico de barras horizontales muestra la cantidad acumulada de check-ins, por locación (Estado - Ciudad - Código postal)\n",
    "* Las locaciones líderes se encuentran en las ciudades de Philadelphia, New Orleans y Santa Barbara"
   ]
  },
  {
   "cell_type": "code",
   "execution_count": 55,
   "metadata": {},
   "outputs": [
    {
     "data": {
      "image/png": "[encoded data removed]",
      "text/plain": [
       "<Figure size 1200x800 with 2 Axes>"
      ]
     },
     "metadata": {},
     "output_type": "display_data"
    }
   ],
   "source": [
    "locations_top10 = locations_top.head(20)\n",
    "locations_top_evol = pd.merge(checkin_locations, locations_top10, on='state_city_postalcode')\n",
    "locations_top_evol_map = locations_top_evol.pivot_table(index='state_city_postalcode', columns='year', values='checkins_count', aggfunc='max')\n",
    "\n",
    "plt.figure(figsize=(12, 8))\n",
    "sns.heatmap(locations_top_evol_map, cmap='YlOrRd', linewidths=0.5, linecolor='gray')\n",
    "plt.title('Evolución de preferencias de locación')\n",
    "plt.xlabel('Año')\n",
    "plt.ylabel('Locación')\n",
    "plt.yticks(rotation=0)\n",
    "plt.show()"
   ]
  },
  {
   "cell_type": "markdown",
   "metadata": {},
   "source": [
    "Conclusiones:\n",
    "* El mapa de calor muestra la evolución anual de los check-ins, por locación\n",
    "* Se muestran las 20 locaciones más visitadas\n",
    "* Las ciudades de Philadelphia, New Orleans y Santa Bárbara lideran el podio en diversos sitios"
   ]
  },
  {
   "cell_type": "markdown",
   "metadata": {},
   "source": [
    "## Análisis de participación del usuario"
   ]
  },
  {
   "cell_type": "markdown",
   "metadata": {},
   "source": [
    "### Involucramiento"
   ]
  },
  {
   "cell_type": "code",
   "execution_count": 56,
   "metadata": {},
   "outputs": [
    {
     "data": {
      "text/html": [
       "<div>\n",
       "<style scoped>\n",
       "    .dataframe tbody tr th:only-of-type {\n",
       "        vertical-align: middle;\n",
       "    }\n",
       "\n",
       "    .dataframe tbody tr th {\n",
       "        vertical-align: top;\n",
       "    }\n",
       "\n",
       "    .dataframe thead th {\n",
       "        text-align: right;\n",
       "    }\n",
       "</style>\n",
       "<table border=\"1\" class=\"dataframe\">\n",
       "  <thead>\n",
       "    <tr style=\"text-align: right;\">\n",
       "      <th></th>\n",
       "      <th>year</th>\n",
       "      <th>reviews_count</th>\n",
       "      <th>users_count</th>\n",
       "      <th>sites_count</th>\n",
       "      <th>reviews_per_user</th>\n",
       "      <th>reviews_per_site</th>\n",
       "    </tr>\n",
       "  </thead>\n",
       "  <tbody>\n",
       "    <tr>\n",
       "      <th>8</th>\n",
       "      <td>2010</td>\n",
       "      <td>20627</td>\n",
       "      <td>12087</td>\n",
       "      <td>8892</td>\n",
       "      <td>1.706544</td>\n",
       "      <td>2.319726</td>\n",
       "    </tr>\n",
       "    <tr>\n",
       "      <th>9</th>\n",
       "      <td>2011</td>\n",
       "      <td>36781</td>\n",
       "      <td>22105</td>\n",
       "      <td>14868</td>\n",
       "      <td>1.663922</td>\n",
       "      <td>2.473836</td>\n",
       "    </tr>\n",
       "    <tr>\n",
       "      <th>10</th>\n",
       "      <td>2012</td>\n",
       "      <td>47374</td>\n",
       "      <td>30459</td>\n",
       "      <td>20147</td>\n",
       "      <td>1.555337</td>\n",
       "      <td>2.351417</td>\n",
       "    </tr>\n",
       "    <tr>\n",
       "      <th>11</th>\n",
       "      <td>2013</td>\n",
       "      <td>64513</td>\n",
       "      <td>42954</td>\n",
       "      <td>25244</td>\n",
       "      <td>1.501909</td>\n",
       "      <td>2.555578</td>\n",
       "    </tr>\n",
       "    <tr>\n",
       "      <th>12</th>\n",
       "      <td>2014</td>\n",
       "      <td>85133</td>\n",
       "      <td>60275</td>\n",
       "      <td>30285</td>\n",
       "      <td>1.412410</td>\n",
       "      <td>2.811062</td>\n",
       "    </tr>\n",
       "    <tr>\n",
       "      <th>13</th>\n",
       "      <td>2015</td>\n",
       "      <td>131421</td>\n",
       "      <td>96712</td>\n",
       "      <td>45792</td>\n",
       "      <td>1.358890</td>\n",
       "      <td>2.869955</td>\n",
       "    </tr>\n",
       "    <tr>\n",
       "      <th>14</th>\n",
       "      <td>2016</td>\n",
       "      <td>300939</td>\n",
       "      <td>224901</td>\n",
       "      <td>80914</td>\n",
       "      <td>1.338095</td>\n",
       "      <td>3.719245</td>\n",
       "    </tr>\n",
       "    <tr>\n",
       "      <th>15</th>\n",
       "      <td>2017</td>\n",
       "      <td>666497</td>\n",
       "      <td>526146</td>\n",
       "      <td>107830</td>\n",
       "      <td>1.266753</td>\n",
       "      <td>6.180998</td>\n",
       "    </tr>\n",
       "    <tr>\n",
       "      <th>16</th>\n",
       "      <td>2018</td>\n",
       "      <td>1037783</td>\n",
       "      <td>828240</td>\n",
       "      <td>119870</td>\n",
       "      <td>1.252998</td>\n",
       "      <td>8.657571</td>\n",
       "    </tr>\n",
       "    <tr>\n",
       "      <th>17</th>\n",
       "      <td>2019</td>\n",
       "      <td>1284198</td>\n",
       "      <td>998926</td>\n",
       "      <td>125015</td>\n",
       "      <td>1.285579</td>\n",
       "      <td>10.272351</td>\n",
       "    </tr>\n",
       "    <tr>\n",
       "      <th>18</th>\n",
       "      <td>2020</td>\n",
       "      <td>782814</td>\n",
       "      <td>647227</td>\n",
       "      <td>117638</td>\n",
       "      <td>1.209489</td>\n",
       "      <td>6.654431</td>\n",
       "    </tr>\n",
       "    <tr>\n",
       "      <th>19</th>\n",
       "      <td>2021</td>\n",
       "      <td>595164</td>\n",
       "      <td>499215</td>\n",
       "      <td>107152</td>\n",
       "      <td>1.192200</td>\n",
       "      <td>5.554390</td>\n",
       "    </tr>\n",
       "  </tbody>\n",
       "</table>\n",
       "</div>"
      ],
      "text/plain": [
       "    year  reviews_count  users_count  sites_count  reviews_per_user  \\\n",
       "8   2010          20627        12087         8892          1.706544   \n",
       "9   2011          36781        22105        14868          1.663922   \n",
       "10  2012          47374        30459        20147          1.555337   \n",
       "11  2013          64513        42954        25244          1.501909   \n",
       "12  2014          85133        60275        30285          1.412410   \n",
       "13  2015         131421        96712        45792          1.358890   \n",
       "14  2016         300939       224901        80914          1.338095   \n",
       "15  2017         666497       526146       107830          1.266753   \n",
       "16  2018        1037783       828240       119870          1.252998   \n",
       "17  2019        1284198       998926       125015          1.285579   \n",
       "18  2020         782814       647227       117638          1.209489   \n",
       "19  2021         595164       499215       107152          1.192200   \n",
       "\n",
       "    reviews_per_site  \n",
       "8           2.319726  \n",
       "9           2.473836  \n",
       "10          2.351417  \n",
       "11          2.555578  \n",
       "12          2.811062  \n",
       "13          2.869955  \n",
       "14          3.719245  \n",
       "15          6.180998  \n",
       "16          8.657571  \n",
       "17         10.272351  \n",
       "18          6.654431  \n",
       "19          5.554390  "
      ]
     },
     "execution_count": 56,
     "metadata": {},
     "output_type": "execute_result"
    }
   ],
   "source": [
    "customer_engagement = dfgy_reviews.groupby(['year']).agg({'datetime':'nunique', 'user_id':'nunique', 'site_id':'nunique'}).reset_index()\n",
    "customer_engagement.rename(columns={'datetime':'reviews_count', 'user_id':'users_count', 'site_id':'sites_count'}, inplace=True)\n",
    "customer_engagement['reviews_per_user'] = customer_engagement['reviews_count'] / customer_engagement['users_count']\n",
    "customer_engagement['reviews_per_site'] = customer_engagement['reviews_count'] / customer_engagement['sites_count']\n",
    "\n",
    "customer_engagement = customer_engagement.loc[(customer_engagement['year'] >= 2010) & (customer_engagement['year'] <= 2021)]\n",
    "customer_engagement['year'] = customer_engagement['year'].astype(int)\n",
    "\n",
    "customer_engagement"
   ]
  },
  {
   "cell_type": "code",
   "execution_count": 57,
   "metadata": {},
   "outputs": [
    {
     "data": {
      "image/png": "[encoded data removed]",
      "text/plain": [
       "<Figure size 1400x600 with 1 Axes>"
      ]
     },
     "metadata": {},
     "output_type": "display_data"
    }
   ],
   "source": [
    "plt.figure(figsize=(14, 6))\n",
    "\n",
    "sns.lineplot(customer_engagement, x='year', y='reviews_per_user', label='Reviews per user')\n",
    "sns.lineplot(customer_engagement, x='year', y='reviews_per_site', label='Reviews per site')\n",
    "\n",
    "plt.title('Evolución de Cantidad de Reseñas por Año')\n",
    "plt.xlabel('Año')\n",
    "plt.ylabel('Reseñas')\n",
    "plt.legend()\n",
    "plt.grid(True)\n",
    "\n",
    "plt.show()"
   ]
  },
  {
   "cell_type": "markdown",
   "metadata": {},
   "source": [
    "Conclusión:\n",
    "* Se muestran los promedios de reseñas por usuario y por local, respectivamente\n",
    "* Se observa una leve tendencia a disminuir la cantidad de reseñas promedio por usuario\n",
    "* Se obswerva una amplica tendencia a recibir más reseñas por local"
   ]
  },
  {
   "cell_type": "markdown",
   "metadata": {},
   "source": [
    "### Satisfacción"
   ]
  },
  {
   "cell_type": "code",
   "execution_count": 58,
   "metadata": {},
   "outputs": [
    {
     "data": {
      "text/html": [
       "<div>\n",
       "<style scoped>\n",
       "    .dataframe tbody tr th:only-of-type {\n",
       "        vertical-align: middle;\n",
       "    }\n",
       "\n",
       "    .dataframe tbody tr th {\n",
       "        vertical-align: top;\n",
       "    }\n",
       "\n",
       "    .dataframe thead th {\n",
       "        text-align: right;\n",
       "    }\n",
       "</style>\n",
       "<table border=\"1\" class=\"dataframe\">\n",
       "  <thead>\n",
       "    <tr style=\"text-align: right;\">\n",
       "      <th></th>\n",
       "      <th>year</th>\n",
       "      <th>rating</th>\n",
       "      <th>polarity</th>\n",
       "    </tr>\n",
       "  </thead>\n",
       "  <tbody>\n",
       "    <tr>\n",
       "      <th>8</th>\n",
       "      <td>2010</td>\n",
       "      <td>3.735321</td>\n",
       "      <td>0.731112</td>\n",
       "    </tr>\n",
       "    <tr>\n",
       "      <th>9</th>\n",
       "      <td>2011</td>\n",
       "      <td>3.731456</td>\n",
       "      <td>0.696383</td>\n",
       "    </tr>\n",
       "    <tr>\n",
       "      <th>10</th>\n",
       "      <td>2012</td>\n",
       "      <td>3.764233</td>\n",
       "      <td>0.682346</td>\n",
       "    </tr>\n",
       "    <tr>\n",
       "      <th>11</th>\n",
       "      <td>2013</td>\n",
       "      <td>3.759461</td>\n",
       "      <td>0.674966</td>\n",
       "    </tr>\n",
       "    <tr>\n",
       "      <th>12</th>\n",
       "      <td>2014</td>\n",
       "      <td>3.784492</td>\n",
       "      <td>0.662731</td>\n",
       "    </tr>\n",
       "    <tr>\n",
       "      <th>13</th>\n",
       "      <td>2015</td>\n",
       "      <td>3.816047</td>\n",
       "      <td>0.620421</td>\n",
       "    </tr>\n",
       "    <tr>\n",
       "      <th>14</th>\n",
       "      <td>2016</td>\n",
       "      <td>3.968633</td>\n",
       "      <td>0.562695</td>\n",
       "    </tr>\n",
       "    <tr>\n",
       "      <th>15</th>\n",
       "      <td>2017</td>\n",
       "      <td>4.101837</td>\n",
       "      <td>0.544397</td>\n",
       "    </tr>\n",
       "    <tr>\n",
       "      <th>16</th>\n",
       "      <td>2018</td>\n",
       "      <td>4.156560</td>\n",
       "      <td>0.544914</td>\n",
       "    </tr>\n",
       "    <tr>\n",
       "      <th>17</th>\n",
       "      <td>2019</td>\n",
       "      <td>4.201568</td>\n",
       "      <td>0.547265</td>\n",
       "    </tr>\n",
       "    <tr>\n",
       "      <th>18</th>\n",
       "      <td>2020</td>\n",
       "      <td>4.260636</td>\n",
       "      <td>0.570824</td>\n",
       "    </tr>\n",
       "    <tr>\n",
       "      <th>19</th>\n",
       "      <td>2021</td>\n",
       "      <td>4.236981</td>\n",
       "      <td>0.587254</td>\n",
       "    </tr>\n",
       "  </tbody>\n",
       "</table>\n",
       "</div>"
      ],
      "text/plain": [
       "    year    rating  polarity\n",
       "8   2010  3.735321  0.731112\n",
       "9   2011  3.731456  0.696383\n",
       "10  2012  3.764233  0.682346\n",
       "11  2013  3.759461  0.674966\n",
       "12  2014  3.784492  0.662731\n",
       "13  2015  3.816047  0.620421\n",
       "14  2016  3.968633  0.562695\n",
       "15  2017  4.101837  0.544397\n",
       "16  2018  4.156560  0.544914\n",
       "17  2019  4.201568  0.547265\n",
       "18  2020  4.260636  0.570824\n",
       "19  2021  4.236981  0.587254"
      ]
     },
     "execution_count": 58,
     "metadata": {},
     "output_type": "execute_result"
    }
   ],
   "source": [
    "customer_satisfaction = dfgy_reviews.groupby(['year']).agg({'rating':'mean', 'polarity':'mean'}).reset_index()\n",
    "customer_satisfaction = customer_satisfaction.loc[(customer_satisfaction['year'] >= 2010) & (customer_satisfaction['year'] <= 2021)]\n",
    "\n",
    "customer_satisfaction"
   ]
  },
  {
   "cell_type": "code",
   "execution_count": 59,
   "metadata": {},
   "outputs": [
    {
     "data": {
      "image/png": "[encoded data removed]",
      "text/plain": [
       "<Figure size 1200x600 with 2 Axes>"
      ]
     },
     "metadata": {},
     "output_type": "display_data"
    }
   ],
   "source": [
    "plt.figure(figsize=(12, 6))\n",
    "\n",
    "ax1 = sns.lineplot(data=customer_satisfaction, x='year', y='rating', color='blue', marker='o', label='Rating')\n",
    "\n",
    "plt.xlabel('Año')\n",
    "ax1.set_ylabel('Rating', color='blue')\n",
    "plt.title('Evolución de Rating y Polarity por Año')\n",
    "plt.grid(True)\n",
    "\n",
    "ax2 = ax1.twinx()\n",
    "sns.lineplot(data=customer_satisfaction, x='year', y='polarity', color='red', marker='s', label='Polarity', ax=ax2)\n",
    "ax2.set_ylabel('Polarity', color='red')\n",
    "\n",
    "ax1.legend(loc='lower left')\n",
    "ax2.legend(loc='upper left')\n",
    "\n",
    "plt.show()"
   ]
  },
  {
   "cell_type": "markdown",
   "metadata": {},
   "source": [
    "Concllusión:\n",
    "* Se muestra la evolución anual de promedios de rating y polaridad del análisis de sentimientos preliminar\n",
    "* SE observa claramente la mejora de la satisfacción del cliente a lo largo del tiempo\n",
    "* Se observa una disminución e inicio de estabilización de la polaridad, lo cual es un indicador de una participación activa y proactiva del usuario en las reseñas"
   ]
  },
  {
   "cell_type": "markdown",
   "metadata": {},
   "source": [
    "# Conclusiones\n",
    "===================================================================================================================================="
   ]
  },
  {
   "cell_type": "markdown",
   "metadata": {},
   "source": [
    "## FASE DE ETL (EXTRACTION, TRANSFORMATION AND LOAD OF DATA)"
   ]
  },
  {
   "cell_type": "markdown",
   "metadata": {},
   "source": [
    "Debido a la gran cantidad de información y necesidad de procesamiento, la fase de ETL se realizó en cinco archivos diferentes:\n",
    "* DS_PjFinal_yelp1_sites_checkins_users\n",
    "* DS_PjFinal_yelp2_reviews\n",
    "* DS_PjFinal_google1_sites\n",
    "* DS_PjFinal_google2_reviews\n",
    "* DS_PjFinal_ETL_SitesUniques"
   ]
  },
  {
   "cell_type": "markdown",
   "metadata": {},
   "source": [
    "### Diagrama simple de estructura de datos"
   ]
  },
  {
   "cell_type": "markdown",
   "metadata": {},
   "source": [
    "<div style=\"text-align:center;\">\n",
    "    <img src=\"/Users/Juan/Documents/Academics/DataScience/PjFinal/DataStructureSimple.png\" alt=\"Texto alternativo\" width=\"1000\" height=\"1000\">\n",
    "</div>"
   ]
  },
  {
   "cell_type": "markdown",
   "metadata": {},
   "source": [
    "### Diagrama completo de estructura de datos"
   ]
  },
  {
   "cell_type": "markdown",
   "metadata": {},
   "source": [
    "<div style=\"text-align:center;\">\n",
    "    <img src=\"/Users/Juan/Documents/Academics/DataScience/PjFinal/DataStructureComplete.png\" alt=\"Texto alternativo\" width=\"1000\" height=\"1000\">\n",
    "</div>"
   ]
  },
  {
   "cell_type": "markdown",
   "metadata": {},
   "source": [
    "## FASE DE EDA (EXPLORATORY DATA ANALYSIS) "
   ]
  },
  {
   "cell_type": "markdown",
   "metadata": {},
   "source": [
    "El EDA se ha basado en el análisis de oferta y demanda del dataset conjunto de Yelp y Google, así como el análisis de preferencias de usuarios, en función de conocer los primeros datos del mercado y buscar oportunidades y soluciones para propuesta del modelo de machine learning a presentar como prooducto final."
   ]
  },
  {
   "cell_type": "markdown",
   "metadata": {},
   "source": [
    "### FASE DE PRE-PROCESAMIENTO DE DATOS"
   ]
  },
  {
   "cell_type": "markdown",
   "metadata": {},
   "source": [
    "El pre-procesamiento de datos consistió en las siguientes tareas:\n",
    "* Gestión de tipos de datos\n",
    "* Gestión de valores nulos\n",
    "* Gestión de valores duplicados\n",
    "* Gestión de características: eliminación de campos innecesarios y agregado de campos auxiliares \n",
    "\n",
    "Observaciones respecto al pre-procesamiento de datos:\n",
    "* Se ha utilizado un dataset de códigos postales para corregir el dataset original de \"business\", ya que se detectó un error en el dataset original. \n",
    "* No se encontraron grandes cantidades de valores nulos, y no se encontraron duplicados que afecten a los datos. \n",
    "* Se modificaron algunos tipos de datos, sobre todo de aquellos campos de valor tipo \"fecha\"\n",
    "* Se agregaron algunas características o campos auxiliares para facilitar el posterior agrupamiento y visualización de datos\n",
    "* En particular, las modificaciones específicas que se han realizado son las siguientes:\n",
    "    * Corrección de zip codes\n",
    "    * Creación de precios en \n",
    "    * Creación de campo de \"supracategorías\" para agrupamiento de categorías de comida\n",
    "    * Creación de listado único de restaurantes, combinando listado de ambas fuentes (Yelp y Google)"
   ]
  },
  {
   "cell_type": "markdown",
   "metadata": {},
   "source": [
    "### FASE DE ANALISIS DE DATOS"
   ]
  },
  {
   "cell_type": "markdown",
   "metadata": {},
   "source": [
    "Respecto al análisis de datos, se ha considerado estudiar el mercado a través de la oferta y demanda, y las preferencias del usuario. \n",
    "* Para valorizar la oferta, se ha considerado la cantidad de locales registrados en yelp\n",
    "* Para valorizar la demanda, se ha considerado la cantidad de check-ins registrados\n",
    "* Para conocer las preferencias del usuario, se consideran también los check-ins agrupados por categorías, marcas y locaciones"
   ]
  },
  {
   "cell_type": "markdown",
   "metadata": {},
   "source": [
    "### CONSIDERACIONES PARA EL PRODUCTO FINAL"
   ]
  },
  {
   "cell_type": "markdown",
   "metadata": {},
   "source": [
    "El interés específico de este análisis deviene en la definición de inputs y outputs a considerar en el modelo de Machine Learning, para luego definir los KPIs del proyecto, dashboard y producto final a presentar al cliente.\n",
    "\n",
    "Inputs a considerar:\n",
    "* Supra-categorías de comida\n",
    "* Categorías de comida\n",
    "* Atributos\n",
    "* Marcas\n",
    "* Locaciones (estado, ciudad y código postal)\n",
    "* Precio\n",
    "\n",
    "Outputs a considerar:\n",
    "* Proyección de ventas\n",
    "* Proyección de check-ins\n",
    "* Proyección de cantidad de reseñas\n",
    "* Proyección de valoracióin de reseñas\n",
    "* Proyección de satisfacción del cliente\n",
    "* Proyección de performance del site"
   ]
  }
 ],
 "metadata": {
  "kernelspec": {
   "display_name": "Python 3",
   "language": "python",
   "name": "python3"
  },
  "language_info": {
   "codemirror_mode": {
    "name": "ipython",
    "version": 3
   },
   "file_extension": ".py",
   "mimetype": "text/x-python",
   "name": "python",
   "nbconvert_exporter": "python",
   "pygments_lexer": "ipython3",
   "version": "3.12.0"
  }
 },
 "nbformat": 4,
 "nbformat_minor": 2
}
