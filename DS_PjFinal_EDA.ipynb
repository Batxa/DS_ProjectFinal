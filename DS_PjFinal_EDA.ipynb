{
 "cells": [
  {
   "cell_type": "markdown",
   "metadata": {},
   "source": [
    "# Introducción, objetivos y contenido\n",
    "===================================================================================================================================="
   ]
  },
  {
   "cell_type": "markdown",
   "metadata": {},
   "source": [
    "* Importación de librerías\n",
    "* Carga de datos\n",
    "    * Dataset de restaurantes unívocos\n",
    "    * Dataset de YELP\n",
    "        * Restaurants\n",
    "        * User\n",
    "        * Checkins\n",
    "        * Reviews\n",
    "        * Tips\n",
    "        * Categorías y atributos\n",
    "    * Dataset de GOOGLE\n",
    "        * Restaurantes\n",
    "        * Reviews\n",
    "        * Categorías\n",
    "* Preprocesamiento: gestión final de tipos de datos, valores nulos y duplicados, características\n",
    "    * Datasets de YELP\n",
    "    * Datasets de GOOGLE\n",
    "    * Datasets COMBINADOS\n",
    "        * Restaurants\n",
    "        * User\n",
    "        * Checkins\n",
    "        * Reviews\n",
    "        * Categorías\n",
    "* Análisis de datos\n",
    "    * Análisis de plantel de restaurantes (oferentes)\n",
    "    * Análisis de performance de restaurantes\n",
    "    * Análisis de plantel de usuarios (clientes)\n",
    "    * Análisis de demanda\n",
    "    * Análisis de preferencias de usuario\n",
    "        * Categorías top\n",
    "        * Atributos\n",
    "        * Marcas top\n",
    "        * Locaciones top\n",
    "    * Análisis de participación del usuario\n",
    "        * Involucramiento\n",
    "        * Satisfacción\n",
    "* Conclusiones"
   ]
  },
  {
   "cell_type": "markdown",
   "metadata": {},
   "source": [
    "# Importación de librerías\n",
    "===================================================================================================================================="
   ]
  },
  {
   "cell_type": "code",
   "execution_count": 1,
   "metadata": {},
   "outputs": [],
   "source": [
    "import pandas as pd\n",
    "import numpy as np\n",
    "\n",
    "import math\n",
    "import seaborn as sns\n",
    "import matplotlib as mpl\n",
    "import matplotlib.pyplot as plt\n",
    "\n",
    "#from vaderSentiment.vaderSentiment import SentimentIntensityAnalyzer"
   ]
  },
  {
   "cell_type": "markdown",
   "metadata": {},
   "source": [
    "# Carga de datos\n",
    "========================================================================================================="
   ]
  },
  {
   "cell_type": "markdown",
   "metadata": {},
   "source": [
    "## Dataset de restaurantes unívocos\n",
    "------------------------------------------------------------------------------------------------------"
   ]
  },
  {
   "cell_type": "code",
   "execution_count": 2,
   "metadata": {},
   "outputs": [],
   "source": [
    "# Listado unívoco de locales de ambos datasets\n",
    "dfgy_rest_uniques = pd.read_parquet('dfgy_rest_uniques.parquet')"
   ]
  },
  {
   "cell_type": "markdown",
   "metadata": {},
   "source": [
    "## Datasets de YELP\n",
    "------------------------------------------------------------------------------------------------------"
   ]
  },
  {
   "cell_type": "code",
   "execution_count": 3,
   "metadata": {},
   "outputs": [],
   "source": [
    "# Yelp\n",
    "yelp_rest = pd.read_parquet('dfy_rest.parquet')\n",
    "yelp_user = pd.read_parquet('dfy_user.parquet')\n",
    "yelp_checkins = pd.read_parquet('dfy_checkins.parquet')"
   ]
  },
  {
   "cell_type": "code",
   "execution_count": 4,
   "metadata": {},
   "outputs": [],
   "source": [
    "# Review\n",
    "yelp_reviews = pd.read_parquet('dfy_reviews.parquet')"
   ]
  },
  {
   "cell_type": "code",
   "execution_count": 5,
   "metadata": {},
   "outputs": [],
   "source": [
    "# Tips\n",
    "yelp_tips = pd.read_parquet('dfy_tips.parquet')"
   ]
  },
  {
   "cell_type": "code",
   "execution_count": 6,
   "metadata": {},
   "outputs": [],
   "source": [
    "# Categorías y atributos\n",
    "yelp_site_categories = pd.read_parquet('dfy_site_categories.parquet')\n",
    "yelp_site_attributes = pd.read_parquet('dfy_attributes.parquet')"
   ]
  },
  {
   "cell_type": "markdown",
   "metadata": {},
   "source": [
    "## Datasets de GOOGLE\n",
    "------------------------------------------------------------------------------------------------------"
   ]
  },
  {
   "cell_type": "code",
   "execution_count": 7,
   "metadata": {},
   "outputs": [],
   "source": [
    "# Restaurants\n",
    "google_rest = pd.read_parquet('dfg_rest.parquet')"
   ]
  },
  {
   "cell_type": "code",
   "execution_count": 8,
   "metadata": {},
   "outputs": [],
   "source": [
    "# Reviews\n",
    "google_reviews = pd.read_parquet('dfg_reviews.parquet')"
   ]
  },
  {
   "cell_type": "code",
   "execution_count": 9,
   "metadata": {},
   "outputs": [],
   "source": [
    "# Categorías y atributos\n",
    "google_site_categories = pd.read_parquet('dfg_site_categories.parquet')"
   ]
  },
  {
   "cell_type": "markdown",
   "metadata": {},
   "source": [
    "# Preprocesamiento\n",
    "========================================================================================================="
   ]
  },
  {
   "cell_type": "markdown",
   "metadata": {},
   "source": [
    "## Datasets de YELP\n",
    "------------------------------------------------------------------------------------------------------"
   ]
  },
  {
   "cell_type": "markdown",
   "metadata": {},
   "source": [
    "### YELP reviews"
   ]
  },
  {
   "cell_type": "code",
   "execution_count": 10,
   "metadata": {},
   "outputs": [
    {
     "name": "stdout",
     "output_type": "stream",
     "text": [
      "<class 'pandas.core.frame.DataFrame'>\n",
      "RangeIndex: 1000000 entries, 0 to 999999\n",
      "Data columns (total 14 columns):\n",
      " #   Column       Non-Null Count    Dtype         \n",
      "---  ------       --------------    -----         \n",
      " 0   review_id    1000000 non-null  object        \n",
      " 1   user_id      1000000 non-null  object        \n",
      " 2   business_id  1000000 non-null  object        \n",
      " 3   stars        1000000 non-null  float64       \n",
      " 4   useful       1000000 non-null  int64         \n",
      " 5   funny        1000000 non-null  int64         \n",
      " 6   cool         1000000 non-null  int64         \n",
      " 7   text         1000000 non-null  object        \n",
      " 8   date         1000000 non-null  datetime64[ns]\n",
      " 9   year         1000000 non-null  int32         \n",
      " 10  month        1000000 non-null  int32         \n",
      " 11  year_month   1000000 non-null  object        \n",
      " 12  polarity     1000000 non-null  float64       \n",
      " 13  sentiment    1000000 non-null  int64         \n",
      "dtypes: datetime64[ns](1), float64(2), int32(2), int64(4), object(5)\n",
      "memory usage: 99.2+ MB\n",
      "None\n"
     ]
    },
    {
     "data": {
      "text/html": [
       "<div>\n",
       "<style scoped>\n",
       "    .dataframe tbody tr th:only-of-type {\n",
       "        vertical-align: middle;\n",
       "    }\n",
       "\n",
       "    .dataframe tbody tr th {\n",
       "        vertical-align: top;\n",
       "    }\n",
       "\n",
       "    .dataframe thead th {\n",
       "        text-align: right;\n",
       "    }\n",
       "</style>\n",
       "<table border=\"1\" class=\"dataframe\">\n",
       "  <thead>\n",
       "    <tr style=\"text-align: right;\">\n",
       "      <th></th>\n",
       "      <th>review_id</th>\n",
       "      <th>user_id</th>\n",
       "      <th>business_id</th>\n",
       "      <th>stars</th>\n",
       "      <th>useful</th>\n",
       "      <th>funny</th>\n",
       "      <th>cool</th>\n",
       "      <th>text</th>\n",
       "      <th>date</th>\n",
       "      <th>year</th>\n",
       "      <th>month</th>\n",
       "      <th>year_month</th>\n",
       "      <th>polarity</th>\n",
       "      <th>sentiment</th>\n",
       "    </tr>\n",
       "  </thead>\n",
       "  <tbody>\n",
       "    <tr>\n",
       "      <th>168831</th>\n",
       "      <td>6FbpKwW2eRQwIOW0B5d2Rg</td>\n",
       "      <td>lu1GHhhuaigzDp7PWXsnJw</td>\n",
       "      <td>6ajnOk0GcY9xbb5Ocaw8Gw</td>\n",
       "      <td>5.0</td>\n",
       "      <td>0</td>\n",
       "      <td>0</td>\n",
       "      <td>0</td>\n",
       "      <td>By far the best antipasto dish I ever ate! Sal...</td>\n",
       "      <td>2017-11-20 23:25:09</td>\n",
       "      <td>2017</td>\n",
       "      <td>11</td>\n",
       "      <td>1711</td>\n",
       "      <td>0.6988</td>\n",
       "      <td>1</td>\n",
       "    </tr>\n",
       "    <tr>\n",
       "      <th>57035</th>\n",
       "      <td>kqAOpA1fJCf3TM17JTrk3Q</td>\n",
       "      <td>5J9N4ol0ho5_oDB7x4JrKg</td>\n",
       "      <td>s-Ff-8M5-AR-5jl59lCj1w</td>\n",
       "      <td>3.0</td>\n",
       "      <td>1</td>\n",
       "      <td>1</td>\n",
       "      <td>2</td>\n",
       "      <td>A nice, roomy, wide open mega sports bar. A fe...</td>\n",
       "      <td>2019-07-23 21:18:21</td>\n",
       "      <td>2019</td>\n",
       "      <td>7</td>\n",
       "      <td>1907</td>\n",
       "      <td>0.9571</td>\n",
       "      <td>1</td>\n",
       "    </tr>\n",
       "  </tbody>\n",
       "</table>\n",
       "</div>"
      ],
      "text/plain": [
       "                     review_id                 user_id  \\\n",
       "168831  6FbpKwW2eRQwIOW0B5d2Rg  lu1GHhhuaigzDp7PWXsnJw   \n",
       "57035   kqAOpA1fJCf3TM17JTrk3Q  5J9N4ol0ho5_oDB7x4JrKg   \n",
       "\n",
       "                   business_id  stars  useful  funny  cool  \\\n",
       "168831  6ajnOk0GcY9xbb5Ocaw8Gw    5.0       0      0     0   \n",
       "57035   s-Ff-8M5-AR-5jl59lCj1w    3.0       1      1     2   \n",
       "\n",
       "                                                     text                date  \\\n",
       "168831  By far the best antipasto dish I ever ate! Sal... 2017-11-20 23:25:09   \n",
       "57035   A nice, roomy, wide open mega sports bar. A fe... 2019-07-23 21:18:21   \n",
       "\n",
       "        year  month year_month  polarity  sentiment  \n",
       "168831  2017     11       1711    0.6988          1  \n",
       "57035   2019      7       1907    0.9571          1  "
      ]
     },
     "execution_count": 10,
     "metadata": {},
     "output_type": "execute_result"
    }
   ],
   "source": [
    "print(yelp_reviews.info())\n",
    "yelp_reviews.sample(2)"
   ]
  },
  {
   "cell_type": "code",
   "execution_count": 11,
   "metadata": {},
   "outputs": [
    {
     "name": "stdout",
     "output_type": "stream",
     "text": [
      "<class 'pandas.core.frame.DataFrame'>\n",
      "RangeIndex: 1000000 entries, 0 to 999999\n",
      "Data columns (total 9 columns):\n",
      " #   Column     Non-Null Count    Dtype         \n",
      "---  ------     --------------    -----         \n",
      " 0   source     1000000 non-null  object        \n",
      " 1   site_id    1000000 non-null  object        \n",
      " 2   user_id    1000000 non-null  object        \n",
      " 3   datetime   1000000 non-null  datetime64[ns]\n",
      " 4   month      1000000 non-null  int32         \n",
      " 5   year       1000000 non-null  int32         \n",
      " 6   rating     1000000 non-null  float64       \n",
      " 7   polarity   1000000 non-null  float64       \n",
      " 8   sentiment  1000000 non-null  int64         \n",
      "dtypes: datetime64[ns](1), float64(2), int32(2), int64(1), object(3)\n",
      "memory usage: 61.0+ MB\n",
      "None\n"
     ]
    },
    {
     "data": {
      "text/html": [
       "<div>\n",
       "<style scoped>\n",
       "    .dataframe tbody tr th:only-of-type {\n",
       "        vertical-align: middle;\n",
       "    }\n",
       "\n",
       "    .dataframe tbody tr th {\n",
       "        vertical-align: top;\n",
       "    }\n",
       "\n",
       "    .dataframe thead th {\n",
       "        text-align: right;\n",
       "    }\n",
       "</style>\n",
       "<table border=\"1\" class=\"dataframe\">\n",
       "  <thead>\n",
       "    <tr style=\"text-align: right;\">\n",
       "      <th></th>\n",
       "      <th>source</th>\n",
       "      <th>site_id</th>\n",
       "      <th>user_id</th>\n",
       "      <th>datetime</th>\n",
       "      <th>month</th>\n",
       "      <th>year</th>\n",
       "      <th>rating</th>\n",
       "      <th>polarity</th>\n",
       "      <th>sentiment</th>\n",
       "    </tr>\n",
       "  </thead>\n",
       "  <tbody>\n",
       "    <tr>\n",
       "      <th>496936</th>\n",
       "      <td>yelp</td>\n",
       "      <td>o1bd3WLl4McflqjDTJTdHQ</td>\n",
       "      <td>APShH9pWLfhipTq7qS8PZg</td>\n",
       "      <td>2017-07-24 19:38:28</td>\n",
       "      <td>7</td>\n",
       "      <td>2017</td>\n",
       "      <td>4.0</td>\n",
       "      <td>0.8685</td>\n",
       "      <td>1</td>\n",
       "    </tr>\n",
       "    <tr>\n",
       "      <th>127990</th>\n",
       "      <td>yelp</td>\n",
       "      <td>x1_HilER7Zuy1QrByHHhxg</td>\n",
       "      <td>HpoUtJa-vxrgb2D4R_3hYQ</td>\n",
       "      <td>2016-02-06 00:19:59</td>\n",
       "      <td>2</td>\n",
       "      <td>2016</td>\n",
       "      <td>4.0</td>\n",
       "      <td>0.9674</td>\n",
       "      <td>1</td>\n",
       "    </tr>\n",
       "  </tbody>\n",
       "</table>\n",
       "</div>"
      ],
      "text/plain": [
       "       source                 site_id                 user_id  \\\n",
       "496936   yelp  o1bd3WLl4McflqjDTJTdHQ  APShH9pWLfhipTq7qS8PZg   \n",
       "127990   yelp  x1_HilER7Zuy1QrByHHhxg  HpoUtJa-vxrgb2D4R_3hYQ   \n",
       "\n",
       "                  datetime  month  year  rating  polarity  sentiment  \n",
       "496936 2017-07-24 19:38:28      7  2017     4.0    0.8685          1  \n",
       "127990 2016-02-06 00:19:59      2  2016     4.0    0.9674          1  "
      ]
     },
     "execution_count": 11,
     "metadata": {},
     "output_type": "execute_result"
    }
   ],
   "source": [
    "dfy_reviews = yelp_reviews.copy()\n",
    "\n",
    "dfy_reviews['source'] = 'yelp'\n",
    "dfy_reviews = dfy_reviews[['source','business_id','user_id', 'date', 'month', 'year', 'stars', 'polarity', 'sentiment']]\n",
    "dfy_reviews = dfy_reviews.rename(columns={'business_id': 'site_id', 'date':'datetime', 'stars':'rating'})\n",
    "\n",
    "print(dfy_reviews.info())\n",
    "dfy_reviews.sample(2)"
   ]
  },
  {
   "cell_type": "markdown",
   "metadata": {},
   "source": [
    "### YELP restaurants"
   ]
  },
  {
   "cell_type": "code",
   "execution_count": 12,
   "metadata": {},
   "outputs": [
    {
     "name": "stdout",
     "output_type": "stream",
     "text": [
      "<class 'pandas.core.frame.DataFrame'>\n",
      "RangeIndex: 212998 entries, 0 to 212997\n",
      "Data columns (total 16 columns):\n",
      " #   Column                 Non-Null Count   Dtype  \n",
      "---  ------                 --------------   -----  \n",
      " 0   business_id            212998 non-null  object \n",
      " 1   name                   212998 non-null  object \n",
      " 2   city                   212998 non-null  object \n",
      " 3   postal_code            212998 non-null  object \n",
      " 4   latitude               212998 non-null  float64\n",
      " 5   longitude              212998 non-null  float64\n",
      " 6   stars                  212998 non-null  float64\n",
      " 7   review_count           212998 non-null  int64  \n",
      " 8   is_open                212998 non-null  int64  \n",
      " 9   state                  212998 non-null  object \n",
      " 10  state_city             212998 non-null  object \n",
      " 11  city_postalcode        212998 non-null  object \n",
      " 12  state_city_postalcode  212998 non-null  object \n",
      " 13  categories             133777 non-null  object \n",
      " 14  food                   133777 non-null  object \n",
      " 15  price                  211084 non-null  float64\n",
      "dtypes: float64(4), int64(2), object(10)\n",
      "memory usage: 26.0+ MB\n",
      "None\n"
     ]
    },
    {
     "data": {
      "text/html": [
       "<div>\n",
       "<style scoped>\n",
       "    .dataframe tbody tr th:only-of-type {\n",
       "        vertical-align: middle;\n",
       "    }\n",
       "\n",
       "    .dataframe tbody tr th {\n",
       "        vertical-align: top;\n",
       "    }\n",
       "\n",
       "    .dataframe thead th {\n",
       "        text-align: right;\n",
       "    }\n",
       "</style>\n",
       "<table border=\"1\" class=\"dataframe\">\n",
       "  <thead>\n",
       "    <tr style=\"text-align: right;\">\n",
       "      <th></th>\n",
       "      <th>business_id</th>\n",
       "      <th>name</th>\n",
       "      <th>city</th>\n",
       "      <th>postal_code</th>\n",
       "      <th>latitude</th>\n",
       "      <th>longitude</th>\n",
       "      <th>stars</th>\n",
       "      <th>review_count</th>\n",
       "      <th>is_open</th>\n",
       "      <th>state</th>\n",
       "      <th>state_city</th>\n",
       "      <th>city_postalcode</th>\n",
       "      <th>state_city_postalcode</th>\n",
       "      <th>categories</th>\n",
       "      <th>food</th>\n",
       "      <th>price</th>\n",
       "    </tr>\n",
       "  </thead>\n",
       "  <tbody>\n",
       "    <tr>\n",
       "      <th>122885</th>\n",
       "      <td>S1qO7k5Ycvosxt11dlgt_Q</td>\n",
       "      <td>Solara-Tec</td>\n",
       "      <td>Tampa</td>\n",
       "      <td>33603</td>\n",
       "      <td>27.990358</td>\n",
       "      <td>-82.484876</td>\n",
       "      <td>4.5</td>\n",
       "      <td>10</td>\n",
       "      <td>0</td>\n",
       "      <td>FL</td>\n",
       "      <td>FL - Tampa</td>\n",
       "      <td>Tampa - 33603</td>\n",
       "      <td>FL - Tampa - 33603</td>\n",
       "      <td>None</td>\n",
       "      <td>None</td>\n",
       "      <td>1.250000</td>\n",
       "    </tr>\n",
       "    <tr>\n",
       "      <th>206607</th>\n",
       "      <td>HjYXFlkfuLbQMfX_Ase-fA</td>\n",
       "      <td>Latitude 39 Apartments</td>\n",
       "      <td>Reno</td>\n",
       "      <td>89521</td>\n",
       "      <td>39.442537</td>\n",
       "      <td>-119.759961</td>\n",
       "      <td>4.0</td>\n",
       "      <td>13</td>\n",
       "      <td>1</td>\n",
       "      <td>NV</td>\n",
       "      <td>NV - Reno</td>\n",
       "      <td>Reno - 89521</td>\n",
       "      <td>NV - Reno - 89521</td>\n",
       "      <td>None</td>\n",
       "      <td>None</td>\n",
       "      <td>1.428571</td>\n",
       "    </tr>\n",
       "    <tr>\n",
       "      <th>165100</th>\n",
       "      <td>nWQ5w5bOYKL2idwZbcvqvw</td>\n",
       "      <td>CrossFit Main Line - Ardmore</td>\n",
       "      <td>Ardmore</td>\n",
       "      <td>19003</td>\n",
       "      <td>40.006007</td>\n",
       "      <td>-75.292744</td>\n",
       "      <td>4.0</td>\n",
       "      <td>5</td>\n",
       "      <td>1</td>\n",
       "      <td>PA</td>\n",
       "      <td>PA - Ardmore</td>\n",
       "      <td>Ardmore - 19003</td>\n",
       "      <td>PA - Ardmore - 19003</td>\n",
       "      <td>None</td>\n",
       "      <td>None</td>\n",
       "      <td>1.200000</td>\n",
       "    </tr>\n",
       "    <tr>\n",
       "      <th>71603</th>\n",
       "      <td>sPFVy3YI8viClkH08SPLeg</td>\n",
       "      <td>McDonald's</td>\n",
       "      <td>Boise</td>\n",
       "      <td>83704</td>\n",
       "      <td>43.620367</td>\n",
       "      <td>-116.304731</td>\n",
       "      <td>2.5</td>\n",
       "      <td>8</td>\n",
       "      <td>1</td>\n",
       "      <td>ID</td>\n",
       "      <td>ID - Boise</td>\n",
       "      <td>Boise - 83704</td>\n",
       "      <td>ID - Boise - 83704</td>\n",
       "      <td>Food</td>\n",
       "      <td>yes</td>\n",
       "      <td>1.285714</td>\n",
       "    </tr>\n",
       "    <tr>\n",
       "      <th>137045</th>\n",
       "      <td>u9Qf_qaesZp0C3-6GT8oKg</td>\n",
       "      <td>Insight Family Eyecare</td>\n",
       "      <td>Wesley Chapel</td>\n",
       "      <td>33544</td>\n",
       "      <td>28.186467</td>\n",
       "      <td>-82.359813</td>\n",
       "      <td>3.0</td>\n",
       "      <td>7</td>\n",
       "      <td>1</td>\n",
       "      <td>FL</td>\n",
       "      <td>FL - Wesley Chapel</td>\n",
       "      <td>Wesley Chapel - 33544</td>\n",
       "      <td>FL - Wesley Chapel - 33544</td>\n",
       "      <td>None</td>\n",
       "      <td>None</td>\n",
       "      <td>1.500000</td>\n",
       "    </tr>\n",
       "  </tbody>\n",
       "</table>\n",
       "</div>"
      ],
      "text/plain": [
       "                   business_id                          name           city  \\\n",
       "122885  S1qO7k5Ycvosxt11dlgt_Q                    Solara-Tec          Tampa   \n",
       "206607  HjYXFlkfuLbQMfX_Ase-fA        Latitude 39 Apartments           Reno   \n",
       "165100  nWQ5w5bOYKL2idwZbcvqvw  CrossFit Main Line - Ardmore        Ardmore   \n",
       "71603   sPFVy3YI8viClkH08SPLeg                    McDonald's          Boise   \n",
       "137045  u9Qf_qaesZp0C3-6GT8oKg        Insight Family Eyecare  Wesley Chapel   \n",
       "\n",
       "       postal_code   latitude   longitude  stars  review_count  is_open state  \\\n",
       "122885       33603  27.990358  -82.484876    4.5            10        0    FL   \n",
       "206607       89521  39.442537 -119.759961    4.0            13        1    NV   \n",
       "165100       19003  40.006007  -75.292744    4.0             5        1    PA   \n",
       "71603        83704  43.620367 -116.304731    2.5             8        1    ID   \n",
       "137045       33544  28.186467  -82.359813    3.0             7        1    FL   \n",
       "\n",
       "                state_city        city_postalcode       state_city_postalcode  \\\n",
       "122885          FL - Tampa          Tampa - 33603          FL - Tampa - 33603   \n",
       "206607           NV - Reno           Reno - 89521           NV - Reno - 89521   \n",
       "165100        PA - Ardmore        Ardmore - 19003        PA - Ardmore - 19003   \n",
       "71603           ID - Boise          Boise - 83704          ID - Boise - 83704   \n",
       "137045  FL - Wesley Chapel  Wesley Chapel - 33544  FL - Wesley Chapel - 33544   \n",
       "\n",
       "       categories  food     price  \n",
       "122885       None  None  1.250000  \n",
       "206607       None  None  1.428571  \n",
       "165100       None  None  1.200000  \n",
       "71603        Food   yes  1.285714  \n",
       "137045       None  None  1.500000  "
      ]
     },
     "execution_count": 12,
     "metadata": {},
     "output_type": "execute_result"
    }
   ],
   "source": [
    "print(yelp_rest.info())\n",
    "yelp_rest.sample(5)"
   ]
  },
  {
   "cell_type": "code",
   "execution_count": 13,
   "metadata": {},
   "outputs": [
    {
     "name": "stdout",
     "output_type": "stream",
     "text": [
      "<class 'pandas.core.frame.DataFrame'>\n",
      "RangeIndex: 211084 entries, 0 to 211083\n",
      "Data columns (total 15 columns):\n",
      " #   Column                 Non-Null Count   Dtype         \n",
      "---  ------                 --------------   -----         \n",
      " 0   source                 211084 non-null  object        \n",
      " 1   site_id                211084 non-null  object        \n",
      " 2   name                   211084 non-null  object        \n",
      " 3   state                  211084 non-null  object        \n",
      " 4   city                   211084 non-null  object        \n",
      " 5   postal_code            211084 non-null  object        \n",
      " 6   price                  211084 non-null  float64       \n",
      " 7   rating_avg             211084 non-null  float64       \n",
      " 8   reviews_count          211084 non-null  int64         \n",
      " 9   date_start             128792 non-null  datetime64[ns]\n",
      " 10  year                   128792 non-null  float64       \n",
      " 11  month                  128792 non-null  float64       \n",
      " 12  state_city             211084 non-null  object        \n",
      " 13  city_postalcode        211084 non-null  object        \n",
      " 14  state_city_postalcode  211084 non-null  object        \n",
      "dtypes: datetime64[ns](1), float64(4), int64(1), object(9)\n",
      "memory usage: 24.2+ MB\n",
      "None\n"
     ]
    },
    {
     "data": {
      "text/html": [
       "<div>\n",
       "<style scoped>\n",
       "    .dataframe tbody tr th:only-of-type {\n",
       "        vertical-align: middle;\n",
       "    }\n",
       "\n",
       "    .dataframe tbody tr th {\n",
       "        vertical-align: top;\n",
       "    }\n",
       "\n",
       "    .dataframe thead th {\n",
       "        text-align: right;\n",
       "    }\n",
       "</style>\n",
       "<table border=\"1\" class=\"dataframe\">\n",
       "  <thead>\n",
       "    <tr style=\"text-align: right;\">\n",
       "      <th></th>\n",
       "      <th>source</th>\n",
       "      <th>site_id</th>\n",
       "      <th>name</th>\n",
       "      <th>state</th>\n",
       "      <th>city</th>\n",
       "      <th>postal_code</th>\n",
       "      <th>price</th>\n",
       "      <th>rating_avg</th>\n",
       "      <th>reviews_count</th>\n",
       "      <th>date_start</th>\n",
       "      <th>year</th>\n",
       "      <th>month</th>\n",
       "      <th>state_city</th>\n",
       "      <th>city_postalcode</th>\n",
       "      <th>state_city_postalcode</th>\n",
       "    </tr>\n",
       "  </thead>\n",
       "  <tbody>\n",
       "    <tr>\n",
       "      <th>10145</th>\n",
       "      <td>yelp</td>\n",
       "      <td>indl78vhU8vTjq_kBJXhaA</td>\n",
       "      <td>Well Crafted Beer Company</td>\n",
       "      <td>PA</td>\n",
       "      <td>Lansdale</td>\n",
       "      <td>19446</td>\n",
       "      <td>1.111111</td>\n",
       "      <td>4.5</td>\n",
       "      <td>65</td>\n",
       "      <td>2018-08-05 01:57:31</td>\n",
       "      <td>2018.0</td>\n",
       "      <td>8.0</td>\n",
       "      <td>PA - Lansdale</td>\n",
       "      <td>Lansdale - 19446</td>\n",
       "      <td>PA - Lansdale - 19446</td>\n",
       "    </tr>\n",
       "    <tr>\n",
       "      <th>24067</th>\n",
       "      <td>yelp</td>\n",
       "      <td>a_E7wF9Kz-Uw4Lo3K3qwvw</td>\n",
       "      <td>ALDI</td>\n",
       "      <td>PA</td>\n",
       "      <td>Bensalem</td>\n",
       "      <td>19020</td>\n",
       "      <td>1.173913</td>\n",
       "      <td>3.5</td>\n",
       "      <td>13</td>\n",
       "      <td>2016-12-04 23:53:09</td>\n",
       "      <td>2016.0</td>\n",
       "      <td>12.0</td>\n",
       "      <td>PA - Bensalem</td>\n",
       "      <td>Bensalem - 19020</td>\n",
       "      <td>PA - Bensalem - 19020</td>\n",
       "    </tr>\n",
       "  </tbody>\n",
       "</table>\n",
       "</div>"
      ],
      "text/plain": [
       "      source                 site_id                       name state  \\\n",
       "10145   yelp  indl78vhU8vTjq_kBJXhaA  Well Crafted Beer Company    PA   \n",
       "24067   yelp  a_E7wF9Kz-Uw4Lo3K3qwvw                       ALDI    PA   \n",
       "\n",
       "           city postal_code     price  rating_avg  reviews_count  \\\n",
       "10145  Lansdale       19446  1.111111         4.5             65   \n",
       "24067  Bensalem       19020  1.173913         3.5             13   \n",
       "\n",
       "               date_start    year  month     state_city   city_postalcode  \\\n",
       "10145 2018-08-05 01:57:31  2018.0    8.0  PA - Lansdale  Lansdale - 19446   \n",
       "24067 2016-12-04 23:53:09  2016.0   12.0  PA - Bensalem  Bensalem - 19020   \n",
       "\n",
       "       state_city_postalcode  \n",
       "10145  PA - Lansdale - 19446  \n",
       "24067  PA - Bensalem - 19020  "
      ]
     },
     "execution_count": 13,
     "metadata": {},
     "output_type": "execute_result"
    }
   ],
   "source": [
    "dfy_rest = yelp_rest\n",
    "\n",
    "dfy_rest['source'] = 'yelp'\n",
    "dfy_rest = dfy_rest[['source','business_id', 'name', 'state', 'city', 'postal_code', 'price', 'stars', 'review_count']]\n",
    "dfy_rest = dfy_rest.rename(columns={'business_id': 'site_id', 'stars':'rating_avg', 'review_count':'reviews_count'})\n",
    "\n",
    "dfy_rest.dropna(subset=['price'], inplace=True)\n",
    "\n",
    "# Agregado de fecha de inicio de acitividad\n",
    "dfy_rest_date_start = dfy_reviews.groupby('site_id')['datetime'].min().reset_index()\n",
    "dfy_rest = pd.merge(dfy_rest, dfy_rest_date_start, how='left', on=['site_id'])\n",
    "dfy_rest = dfy_rest.rename(columns={'datetime': 'date_start'})\n",
    "\n",
    "dfy_rest['year'] = dfy_rest['date_start'].dt.year\n",
    "dfy_rest['month'] = dfy_rest['date_start'].dt.month\n",
    "\n",
    "dfy_rest['state_city'] = dfy_rest['state'].str.cat(dfy_rest['city'], sep=' - ')\n",
    "dfy_rest['city_postalcode'] = dfy_rest['city'].str.cat(dfy_rest['postal_code'], sep=' - ')\n",
    "dfy_rest['state_city_postalcode'] = dfy_rest['state'].str.cat(dfy_rest['city'], sep=' - ').str.cat(dfy_rest['postal_code'], sep=' - ')\n",
    "\n",
    "print(dfy_rest.info())\n",
    "dfy_rest.sample(2)"
   ]
  },
  {
   "cell_type": "code",
   "execution_count": 14,
   "metadata": {},
   "outputs": [
    {
     "name": "stdout",
     "output_type": "stream",
     "text": [
      "<class 'pandas.core.frame.DataFrame'>\n",
      "RangeIndex: 211084 entries, 0 to 211083\n",
      "Data columns (total 15 columns):\n",
      " #   Column                 Non-Null Count   Dtype         \n",
      "---  ------                 --------------   -----         \n",
      " 0   source                 211084 non-null  object        \n",
      " 1   site_id                211084 non-null  object        \n",
      " 2   name                   211084 non-null  object        \n",
      " 3   state                  211084 non-null  object        \n",
      " 4   city                   211084 non-null  object        \n",
      " 5   postal_code            211084 non-null  object        \n",
      " 6   price                  211084 non-null  float64       \n",
      " 7   rating_avg             211084 non-null  float64       \n",
      " 8   reviews_count          211084 non-null  int64         \n",
      " 9   date_start             128792 non-null  datetime64[ns]\n",
      " 10  year                   128792 non-null  float64       \n",
      " 11  month                  128792 non-null  float64       \n",
      " 12  state_city             211084 non-null  object        \n",
      " 13  city_postalcode        211084 non-null  object        \n",
      " 14  state_city_postalcode  211084 non-null  object        \n",
      "dtypes: datetime64[ns](1), float64(4), int64(1), object(9)\n",
      "memory usage: 24.2+ MB\n",
      "None\n"
     ]
    },
    {
     "data": {
      "text/html": [
       "<div>\n",
       "<style scoped>\n",
       "    .dataframe tbody tr th:only-of-type {\n",
       "        vertical-align: middle;\n",
       "    }\n",
       "\n",
       "    .dataframe tbody tr th {\n",
       "        vertical-align: top;\n",
       "    }\n",
       "\n",
       "    .dataframe thead th {\n",
       "        text-align: right;\n",
       "    }\n",
       "</style>\n",
       "<table border=\"1\" class=\"dataframe\">\n",
       "  <thead>\n",
       "    <tr style=\"text-align: right;\">\n",
       "      <th></th>\n",
       "      <th>source</th>\n",
       "      <th>site_id</th>\n",
       "      <th>name</th>\n",
       "      <th>state</th>\n",
       "      <th>city</th>\n",
       "      <th>postal_code</th>\n",
       "      <th>price</th>\n",
       "      <th>rating_avg</th>\n",
       "      <th>reviews_count</th>\n",
       "      <th>date_start</th>\n",
       "      <th>year</th>\n",
       "      <th>month</th>\n",
       "      <th>state_city</th>\n",
       "      <th>city_postalcode</th>\n",
       "      <th>state_city_postalcode</th>\n",
       "    </tr>\n",
       "  </thead>\n",
       "  <tbody>\n",
       "    <tr>\n",
       "      <th>23800</th>\n",
       "      <td>yelp</td>\n",
       "      <td>wXQwMT25odPHQ2LnIksr5Q</td>\n",
       "      <td>Grannies Restaurant</td>\n",
       "      <td>FL</td>\n",
       "      <td>Ruskin</td>\n",
       "      <td>33570</td>\n",
       "      <td>1.000000</td>\n",
       "      <td>3.5</td>\n",
       "      <td>20</td>\n",
       "      <td>2013-07-18 17:48:23</td>\n",
       "      <td>2013.0</td>\n",
       "      <td>7.0</td>\n",
       "      <td>FL - Ruskin</td>\n",
       "      <td>Ruskin - 33570</td>\n",
       "      <td>FL - Ruskin - 33570</td>\n",
       "    </tr>\n",
       "    <tr>\n",
       "      <th>98067</th>\n",
       "      <td>yelp</td>\n",
       "      <td>QjuF7shie3KfnZUE_CMy6A</td>\n",
       "      <td>Cheeseburger Eddie's</td>\n",
       "      <td>LA</td>\n",
       "      <td>Metairie</td>\n",
       "      <td>70006</td>\n",
       "      <td>1.090909</td>\n",
       "      <td>3.0</td>\n",
       "      <td>52</td>\n",
       "      <td>2011-11-28 20:32:53</td>\n",
       "      <td>2011.0</td>\n",
       "      <td>11.0</td>\n",
       "      <td>LA - Metairie</td>\n",
       "      <td>Metairie - 70006</td>\n",
       "      <td>LA - Metairie - 70006</td>\n",
       "    </tr>\n",
       "  </tbody>\n",
       "</table>\n",
       "</div>"
      ],
      "text/plain": [
       "      source                 site_id                  name state      city  \\\n",
       "23800   yelp  wXQwMT25odPHQ2LnIksr5Q   Grannies Restaurant    FL    Ruskin   \n",
       "98067   yelp  QjuF7shie3KfnZUE_CMy6A  Cheeseburger Eddie's    LA  Metairie   \n",
       "\n",
       "      postal_code     price  rating_avg  reviews_count          date_start  \\\n",
       "23800       33570  1.000000         3.5             20 2013-07-18 17:48:23   \n",
       "98067       70006  1.090909         3.0             52 2011-11-28 20:32:53   \n",
       "\n",
       "         year  month     state_city   city_postalcode  state_city_postalcode  \n",
       "23800  2013.0    7.0    FL - Ruskin    Ruskin - 33570    FL - Ruskin - 33570  \n",
       "98067  2011.0   11.0  LA - Metairie  Metairie - 70006  LA - Metairie - 70006  "
      ]
     },
     "execution_count": 14,
     "metadata": {},
     "output_type": "execute_result"
    }
   ],
   "source": [
    "print(dfy_rest.info())\n",
    "dfy_rest.sample(2)"
   ]
  },
  {
   "cell_type": "markdown",
   "metadata": {},
   "source": [
    "### YELP user"
   ]
  },
  {
   "cell_type": "code",
   "execution_count": 15,
   "metadata": {},
   "outputs": [
    {
     "name": "stdout",
     "output_type": "stream",
     "text": [
      "<class 'pandas.core.frame.DataFrame'>\n",
      "RangeIndex: 2105597 entries, 0 to 2105596\n",
      "Data columns (total 11 columns):\n",
      " #   Column         Dtype         \n",
      "---  ------         -----         \n",
      " 0   user_id        object        \n",
      " 1   review_count   int64         \n",
      " 2   fans           int64         \n",
      " 3   yelping_since  datetime64[ns]\n",
      " 4   useful         int64         \n",
      " 5   funny          int64         \n",
      " 6   cool           int64         \n",
      " 7   average_stars  float64       \n",
      " 8   year           int32         \n",
      " 9   month          int32         \n",
      " 10  year_month     object        \n",
      "dtypes: datetime64[ns](1), float64(1), int32(2), int64(5), object(2)\n",
      "memory usage: 160.6+ MB\n",
      "None\n"
     ]
    },
    {
     "data": {
      "text/html": [
       "<div>\n",
       "<style scoped>\n",
       "    .dataframe tbody tr th:only-of-type {\n",
       "        vertical-align: middle;\n",
       "    }\n",
       "\n",
       "    .dataframe tbody tr th {\n",
       "        vertical-align: top;\n",
       "    }\n",
       "\n",
       "    .dataframe thead th {\n",
       "        text-align: right;\n",
       "    }\n",
       "</style>\n",
       "<table border=\"1\" class=\"dataframe\">\n",
       "  <thead>\n",
       "    <tr style=\"text-align: right;\">\n",
       "      <th></th>\n",
       "      <th>user_id</th>\n",
       "      <th>review_count</th>\n",
       "      <th>fans</th>\n",
       "      <th>yelping_since</th>\n",
       "      <th>useful</th>\n",
       "      <th>funny</th>\n",
       "      <th>cool</th>\n",
       "      <th>average_stars</th>\n",
       "      <th>year</th>\n",
       "      <th>month</th>\n",
       "      <th>year_month</th>\n",
       "    </tr>\n",
       "  </thead>\n",
       "  <tbody>\n",
       "    <tr>\n",
       "      <th>1797788</th>\n",
       "      <td>N_idABt7OZnNfIBTC8Caaw</td>\n",
       "      <td>2</td>\n",
       "      <td>0</td>\n",
       "      <td>2009-08-29 05:30:39</td>\n",
       "      <td>6</td>\n",
       "      <td>1</td>\n",
       "      <td>2</td>\n",
       "      <td>4.50</td>\n",
       "      <td>2009</td>\n",
       "      <td>8</td>\n",
       "      <td>0908</td>\n",
       "    </tr>\n",
       "    <tr>\n",
       "      <th>1893196</th>\n",
       "      <td>DLUPBtOXurA9gXnoMbUA7w</td>\n",
       "      <td>3</td>\n",
       "      <td>0</td>\n",
       "      <td>2015-04-04 21:38:54</td>\n",
       "      <td>2</td>\n",
       "      <td>0</td>\n",
       "      <td>1</td>\n",
       "      <td>4.67</td>\n",
       "      <td>2015</td>\n",
       "      <td>4</td>\n",
       "      <td>1504</td>\n",
       "    </tr>\n",
       "  </tbody>\n",
       "</table>\n",
       "</div>"
      ],
      "text/plain": [
       "                        user_id  review_count  fans       yelping_since  \\\n",
       "1797788  N_idABt7OZnNfIBTC8Caaw             2     0 2009-08-29 05:30:39   \n",
       "1893196  DLUPBtOXurA9gXnoMbUA7w             3     0 2015-04-04 21:38:54   \n",
       "\n",
       "         useful  funny  cool  average_stars  year  month year_month  \n",
       "1797788       6      1     2           4.50  2009      8       0908  \n",
       "1893196       2      0     1           4.67  2015      4       1504  "
      ]
     },
     "execution_count": 15,
     "metadata": {},
     "output_type": "execute_result"
    }
   ],
   "source": [
    "dfy_user =yelp_user.copy()\n",
    "print(dfy_user.info())\n",
    "dfy_user.sample(2)"
   ]
  },
  {
   "cell_type": "code",
   "execution_count": 16,
   "metadata": {},
   "outputs": [
    {
     "name": "stdout",
     "output_type": "stream",
     "text": [
      "<class 'pandas.core.frame.DataFrame'>\n",
      "RangeIndex: 2105597 entries, 0 to 2105596\n",
      "Data columns (total 6 columns):\n",
      " #   Column         Dtype         \n",
      "---  ------         -----         \n",
      " 0   user_id        object        \n",
      " 1   reviews_count  int64         \n",
      " 2   date_start     datetime64[ns]\n",
      " 3   rating_avg     float64       \n",
      " 4   year           int32         \n",
      " 5   month          int32         \n",
      "dtypes: datetime64[ns](1), float64(1), int32(2), int64(1), object(1)\n",
      "memory usage: 80.3+ MB\n"
     ]
    },
    {
     "data": {
      "text/html": [
       "<div>\n",
       "<style scoped>\n",
       "    .dataframe tbody tr th:only-of-type {\n",
       "        vertical-align: middle;\n",
       "    }\n",
       "\n",
       "    .dataframe tbody tr th {\n",
       "        vertical-align: top;\n",
       "    }\n",
       "\n",
       "    .dataframe thead th {\n",
       "        text-align: right;\n",
       "    }\n",
       "</style>\n",
       "<table border=\"1\" class=\"dataframe\">\n",
       "  <thead>\n",
       "    <tr style=\"text-align: right;\">\n",
       "      <th></th>\n",
       "      <th>user_id</th>\n",
       "      <th>reviews_count</th>\n",
       "      <th>date_start</th>\n",
       "      <th>rating_avg</th>\n",
       "      <th>year</th>\n",
       "      <th>month</th>\n",
       "    </tr>\n",
       "  </thead>\n",
       "  <tbody>\n",
       "    <tr>\n",
       "      <th>1772237</th>\n",
       "      <td>HbkiufLRWDM4bfq7DAZjgA</td>\n",
       "      <td>22</td>\n",
       "      <td>2015-02-09 04:07:33</td>\n",
       "      <td>4.48</td>\n",
       "      <td>2015</td>\n",
       "      <td>2</td>\n",
       "    </tr>\n",
       "    <tr>\n",
       "      <th>1202124</th>\n",
       "      <td>9Qcbl2IJU5PxUgRRGNlc8Q</td>\n",
       "      <td>2</td>\n",
       "      <td>2011-02-17 00:41:41</td>\n",
       "      <td>3.00</td>\n",
       "      <td>2011</td>\n",
       "      <td>2</td>\n",
       "    </tr>\n",
       "    <tr>\n",
       "      <th>1709031</th>\n",
       "      <td>jKl6wFO0w53T9-GXrdRRnQ</td>\n",
       "      <td>6</td>\n",
       "      <td>2018-10-07 20:51:19</td>\n",
       "      <td>4.50</td>\n",
       "      <td>2018</td>\n",
       "      <td>10</td>\n",
       "    </tr>\n",
       "    <tr>\n",
       "      <th>2065299</th>\n",
       "      <td>Rj0npCu1dn0oV8fhEgxJmQ</td>\n",
       "      <td>534</td>\n",
       "      <td>2011-07-11 02:22:07</td>\n",
       "      <td>4.06</td>\n",
       "      <td>2011</td>\n",
       "      <td>7</td>\n",
       "    </tr>\n",
       "    <tr>\n",
       "      <th>1378521</th>\n",
       "      <td>RvWkmf55fMJoj0u9O2GWUw</td>\n",
       "      <td>8</td>\n",
       "      <td>2014-10-26 20:26:35</td>\n",
       "      <td>3.13</td>\n",
       "      <td>2014</td>\n",
       "      <td>10</td>\n",
       "    </tr>\n",
       "  </tbody>\n",
       "</table>\n",
       "</div>"
      ],
      "text/plain": [
       "                        user_id  reviews_count          date_start  \\\n",
       "1772237  HbkiufLRWDM4bfq7DAZjgA             22 2015-02-09 04:07:33   \n",
       "1202124  9Qcbl2IJU5PxUgRRGNlc8Q              2 2011-02-17 00:41:41   \n",
       "1709031  jKl6wFO0w53T9-GXrdRRnQ              6 2018-10-07 20:51:19   \n",
       "2065299  Rj0npCu1dn0oV8fhEgxJmQ            534 2011-07-11 02:22:07   \n",
       "1378521  RvWkmf55fMJoj0u9O2GWUw              8 2014-10-26 20:26:35   \n",
       "\n",
       "         rating_avg  year  month  \n",
       "1772237        4.48  2015      2  \n",
       "1202124        3.00  2011      2  \n",
       "1709031        4.50  2018     10  \n",
       "2065299        4.06  2011      7  \n",
       "1378521        3.13  2014     10  "
      ]
     },
     "execution_count": 16,
     "metadata": {},
     "output_type": "execute_result"
    }
   ],
   "source": [
    "# Selección de campos\n",
    "dfy_user = dfy_user[['user_id', 'review_count', 'yelping_since', 'average_stars']]\n",
    "dfy_user = dfy_user.rename(columns={'review_count':'reviews_count', 'yelping_since':'date_start', 'average_stars':'rating_avg'})\n",
    "\n",
    "dfy_user['date_start'] = pd.to_datetime(dfy_user['date_start'], errors='coerce')\n",
    "dfy_user.reset_index(drop=True, inplace=True)\n",
    "\n",
    "dfy_user['year'] = dfy_user['date_start'].dt.year\n",
    "dfy_user['month'] = dfy_user['date_start'].dt.month\n",
    "\n",
    "dfy_user.info()\n",
    "dfy_user.sample(5)"
   ]
  },
  {
   "cell_type": "markdown",
   "metadata": {},
   "source": [
    "### YELP checkin"
   ]
  },
  {
   "cell_type": "code",
   "execution_count": 17,
   "metadata": {},
   "outputs": [
    {
     "name": "stdout",
     "output_type": "stream",
     "text": [
      "(36370745, 18)\n"
     ]
    },
    {
     "data": {
      "text/html": [
       "<div>\n",
       "<style scoped>\n",
       "    .dataframe tbody tr th:only-of-type {\n",
       "        vertical-align: middle;\n",
       "    }\n",
       "\n",
       "    .dataframe tbody tr th {\n",
       "        vertical-align: top;\n",
       "    }\n",
       "\n",
       "    .dataframe thead th {\n",
       "        text-align: right;\n",
       "    }\n",
       "</style>\n",
       "<table border=\"1\" class=\"dataframe\">\n",
       "  <thead>\n",
       "    <tr style=\"text-align: right;\">\n",
       "      <th></th>\n",
       "      <th>business_id</th>\n",
       "      <th>date</th>\n",
       "      <th>name</th>\n",
       "      <th>city</th>\n",
       "      <th>postal_code</th>\n",
       "      <th>latitude</th>\n",
       "      <th>longitude</th>\n",
       "      <th>stars</th>\n",
       "      <th>review_count</th>\n",
       "      <th>is_open</th>\n",
       "      <th>state</th>\n",
       "      <th>state_city</th>\n",
       "      <th>city_postalcode</th>\n",
       "      <th>state_city_postalcode</th>\n",
       "      <th>categories</th>\n",
       "      <th>food</th>\n",
       "      <th>year</th>\n",
       "      <th>month</th>\n",
       "    </tr>\n",
       "  </thead>\n",
       "  <tbody>\n",
       "    <tr>\n",
       "      <th>11567805</th>\n",
       "      <td>Izj9SZocemNgqLKi4h8R4w</td>\n",
       "      <td>2019-02-18 14:47:54</td>\n",
       "      <td>Bon Appetit Restaurant</td>\n",
       "      <td>Dunedin</td>\n",
       "      <td>34698</td>\n",
       "      <td>28.013263</td>\n",
       "      <td>-82.793286</td>\n",
       "      <td>3.5</td>\n",
       "      <td>493</td>\n",
       "      <td>1</td>\n",
       "      <td>FL</td>\n",
       "      <td>FL - Dunedin</td>\n",
       "      <td>Dunedin - 34698</td>\n",
       "      <td>FL - Dunedin - 34698</td>\n",
       "      <td>Restaurants</td>\n",
       "      <td>yes</td>\n",
       "      <td>2019</td>\n",
       "      <td>2</td>\n",
       "    </tr>\n",
       "    <tr>\n",
       "      <th>17002862</th>\n",
       "      <td>SmeMEWPwb5vl4m0UbYnugA</td>\n",
       "      <td>2012-01-29 06:07:24</td>\n",
       "      <td>Blue Nile</td>\n",
       "      <td>New Orleans</td>\n",
       "      <td>70116</td>\n",
       "      <td>29.963179</td>\n",
       "      <td>-90.057889</td>\n",
       "      <td>4.0</td>\n",
       "      <td>241</td>\n",
       "      <td>1</td>\n",
       "      <td>LA</td>\n",
       "      <td>LA - New Orleans</td>\n",
       "      <td>New Orleans - 70116</td>\n",
       "      <td>LA - New Orleans - 70116</td>\n",
       "      <td>Bars</td>\n",
       "      <td>yes</td>\n",
       "      <td>2012</td>\n",
       "      <td>1</td>\n",
       "    </tr>\n",
       "  </tbody>\n",
       "</table>\n",
       "</div>"
      ],
      "text/plain": [
       "                     business_id                date                    name  \\\n",
       "11567805  Izj9SZocemNgqLKi4h8R4w 2019-02-18 14:47:54  Bon Appetit Restaurant   \n",
       "17002862  SmeMEWPwb5vl4m0UbYnugA 2012-01-29 06:07:24               Blue Nile   \n",
       "\n",
       "                 city postal_code   latitude  longitude  stars  review_count  \\\n",
       "11567805      Dunedin       34698  28.013263 -82.793286    3.5           493   \n",
       "17002862  New Orleans       70116  29.963179 -90.057889    4.0           241   \n",
       "\n",
       "          is_open state        state_city      city_postalcode  \\\n",
       "11567805        1    FL      FL - Dunedin      Dunedin - 34698   \n",
       "17002862        1    LA  LA - New Orleans  New Orleans - 70116   \n",
       "\n",
       "             state_city_postalcode   categories food  year  month  \n",
       "11567805      FL - Dunedin - 34698  Restaurants  yes  2019      2  \n",
       "17002862  LA - New Orleans - 70116         Bars  yes  2012      1  "
      ]
     },
     "execution_count": 17,
     "metadata": {},
     "output_type": "execute_result"
    }
   ],
   "source": [
    "print(yelp_checkins.shape)\n",
    "yelp_checkins.sample(2)"
   ]
  },
  {
   "cell_type": "code",
   "execution_count": 18,
   "metadata": {},
   "outputs": [
    {
     "name": "stderr",
     "output_type": "stream",
     "text": [
      "/var/folders/0_/sgcsk38j3dx9jkhktbsfmkgh0000gn/T/ipykernel_30575/1695596543.py:2: SettingWithCopyWarning: \n",
      "A value is trying to be set on a copy of a slice from a DataFrame\n",
      "\n",
      "See the caveats in the documentation: https://pandas.pydata.org/pandas-docs/stable/user_guide/indexing.html#returning-a-view-versus-a-copy\n",
      "  dfy_checkins.rename(columns={'business_id':'site_id', 'date':'datetime'}, inplace=True)\n",
      "/var/folders/0_/sgcsk38j3dx9jkhktbsfmkgh0000gn/T/ipykernel_30575/1695596543.py:4: SettingWithCopyWarning: \n",
      "A value is trying to be set on a copy of a slice from a DataFrame.\n",
      "Try using .loc[row_indexer,col_indexer] = value instead\n",
      "\n",
      "See the caveats in the documentation: https://pandas.pydata.org/pandas-docs/stable/user_guide/indexing.html#returning-a-view-versus-a-copy\n",
      "  dfy_checkins['year'] = dfy_checkins['datetime'].dt.year\n",
      "/var/folders/0_/sgcsk38j3dx9jkhktbsfmkgh0000gn/T/ipykernel_30575/1695596543.py:5: SettingWithCopyWarning: \n",
      "A value is trying to be set on a copy of a slice from a DataFrame.\n",
      "Try using .loc[row_indexer,col_indexer] = value instead\n",
      "\n",
      "See the caveats in the documentation: https://pandas.pydata.org/pandas-docs/stable/user_guide/indexing.html#returning-a-view-versus-a-copy\n",
      "  dfy_checkins['month'] = dfy_checkins['datetime'].dt.month\n",
      "/var/folders/0_/sgcsk38j3dx9jkhktbsfmkgh0000gn/T/ipykernel_30575/1695596543.py:7: SettingWithCopyWarning: \n",
      "A value is trying to be set on a copy of a slice from a DataFrame.\n",
      "Try using .loc[row_indexer,col_indexer] = value instead\n",
      "\n",
      "See the caveats in the documentation: https://pandas.pydata.org/pandas-docs/stable/user_guide/indexing.html#returning-a-view-versus-a-copy\n",
      "  dfy_checkins['source'] = 'yelp'\n"
     ]
    }
   ],
   "source": [
    "dfy_checkins = yelp_checkins[['business_id', 'date']]\n",
    "dfy_checkins.rename(columns={'business_id':'site_id', 'date':'datetime'}, inplace=True)\n",
    "\n",
    "dfy_checkins['year'] = dfy_checkins['datetime'].dt.year\n",
    "dfy_checkins['month'] = dfy_checkins['datetime'].dt.month\n",
    "\n",
    "dfy_checkins['source'] = 'yelp'\n",
    "\n",
    "dfy_checkins = dfy_checkins[['source', 'site_id', 'datetime', 'year', 'month']]"
   ]
  },
  {
   "cell_type": "code",
   "execution_count": 19,
   "metadata": {},
   "outputs": [
    {
     "name": "stdout",
     "output_type": "stream",
     "text": [
      "<class 'pandas.core.frame.DataFrame'>\n",
      "Index: 36370745 entries, 0 to 36431299\n",
      "Data columns (total 5 columns):\n",
      " #   Column    Dtype         \n",
      "---  ------    -----         \n",
      " 0   source    object        \n",
      " 1   site_id   object        \n",
      " 2   datetime  datetime64[ns]\n",
      " 3   year      int32         \n",
      " 4   month     int32         \n",
      "dtypes: datetime64[ns](1), int32(2), object(2)\n",
      "memory usage: 1.4+ GB\n",
      "None\n"
     ]
    },
    {
     "data": {
      "text/html": [
       "<div>\n",
       "<style scoped>\n",
       "    .dataframe tbody tr th:only-of-type {\n",
       "        vertical-align: middle;\n",
       "    }\n",
       "\n",
       "    .dataframe tbody tr th {\n",
       "        vertical-align: top;\n",
       "    }\n",
       "\n",
       "    .dataframe thead th {\n",
       "        text-align: right;\n",
       "    }\n",
       "</style>\n",
       "<table border=\"1\" class=\"dataframe\">\n",
       "  <thead>\n",
       "    <tr style=\"text-align: right;\">\n",
       "      <th></th>\n",
       "      <th>source</th>\n",
       "      <th>site_id</th>\n",
       "      <th>datetime</th>\n",
       "      <th>year</th>\n",
       "      <th>month</th>\n",
       "    </tr>\n",
       "  </thead>\n",
       "  <tbody>\n",
       "    <tr>\n",
       "      <th>3754091</th>\n",
       "      <td>yelp</td>\n",
       "      <td>5Z7HXqp22lSiN0Q8iF94hQ</td>\n",
       "      <td>2012-01-14 07:46:35</td>\n",
       "      <td>2012</td>\n",
       "      <td>1</td>\n",
       "    </tr>\n",
       "    <tr>\n",
       "      <th>21594328</th>\n",
       "      <td>yelp</td>\n",
       "      <td>_aZAD5C0maYABO9KgddpPQ</td>\n",
       "      <td>2010-09-12 19:26:10</td>\n",
       "      <td>2010</td>\n",
       "      <td>9</td>\n",
       "    </tr>\n",
       "  </tbody>\n",
       "</table>\n",
       "</div>"
      ],
      "text/plain": [
       "         source                 site_id            datetime  year  month\n",
       "3754091    yelp  5Z7HXqp22lSiN0Q8iF94hQ 2012-01-14 07:46:35  2012      1\n",
       "21594328   yelp  _aZAD5C0maYABO9KgddpPQ 2010-09-12 19:26:10  2010      9"
      ]
     },
     "execution_count": 19,
     "metadata": {},
     "output_type": "execute_result"
    }
   ],
   "source": [
    "print(dfy_checkins.info())\n",
    "dfy_checkins.sample(2)"
   ]
  },
  {
   "cell_type": "markdown",
   "metadata": {},
   "source": [
    "### YELP categories"
   ]
  },
  {
   "cell_type": "code",
   "execution_count": 20,
   "metadata": {},
   "outputs": [
    {
     "name": "stdout",
     "output_type": "stream",
     "text": [
      "<class 'pandas.core.frame.DataFrame'>\n",
      "RangeIndex: 149643 entries, 0 to 149642\n",
      "Data columns (total 3 columns):\n",
      " #   Column      Non-Null Count   Dtype \n",
      "---  ------      --------------   ----- \n",
      " 0   site_id     149643 non-null  object\n",
      " 1   categories  149643 non-null  object\n",
      " 2   food        149643 non-null  object\n",
      "dtypes: object(3)\n",
      "memory usage: 3.4+ MB\n"
     ]
    },
    {
     "data": {
      "text/html": [
       "<div>\n",
       "<style scoped>\n",
       "    .dataframe tbody tr th:only-of-type {\n",
       "        vertical-align: middle;\n",
       "    }\n",
       "\n",
       "    .dataframe tbody tr th {\n",
       "        vertical-align: top;\n",
       "    }\n",
       "\n",
       "    .dataframe thead th {\n",
       "        text-align: right;\n",
       "    }\n",
       "</style>\n",
       "<table border=\"1\" class=\"dataframe\">\n",
       "  <thead>\n",
       "    <tr style=\"text-align: right;\">\n",
       "      <th></th>\n",
       "      <th>site_id</th>\n",
       "      <th>categories</th>\n",
       "      <th>food</th>\n",
       "    </tr>\n",
       "  </thead>\n",
       "  <tbody>\n",
       "    <tr>\n",
       "      <th>127067</th>\n",
       "      <td>BqtxPTy5-b3gBBxGk-2nfg</td>\n",
       "      <td>Desserts</td>\n",
       "      <td>yes</td>\n",
       "    </tr>\n",
       "    <tr>\n",
       "      <th>110876</th>\n",
       "      <td>GiU2GxSq-LV6pw1LWpaWLA</td>\n",
       "      <td>Specialty Food</td>\n",
       "      <td>yes</td>\n",
       "    </tr>\n",
       "  </tbody>\n",
       "</table>\n",
       "</div>"
      ],
      "text/plain": [
       "                       site_id      categories food\n",
       "127067  BqtxPTy5-b3gBBxGk-2nfg        Desserts  yes\n",
       "110876  GiU2GxSq-LV6pw1LWpaWLA  Specialty Food  yes"
      ]
     },
     "execution_count": 20,
     "metadata": {},
     "output_type": "execute_result"
    }
   ],
   "source": [
    "yelp_site_categories.info()\n",
    "yelp_site_categories.sample(2)"
   ]
  },
  {
   "cell_type": "code",
   "execution_count": 21,
   "metadata": {},
   "outputs": [
    {
     "name": "stdout",
     "output_type": "stream",
     "text": [
      "<class 'pandas.core.frame.DataFrame'>\n",
      "RangeIndex: 149643 entries, 0 to 149642\n",
      "Data columns (total 3 columns):\n",
      " #   Column      Non-Null Count   Dtype \n",
      "---  ------      --------------   ----- \n",
      " 0   source      149643 non-null  object\n",
      " 1   site_id     149643 non-null  object\n",
      " 2   categories  149643 non-null  object\n",
      "dtypes: object(3)\n",
      "memory usage: 3.4+ MB\n"
     ]
    },
    {
     "data": {
      "text/html": [
       "<div>\n",
       "<style scoped>\n",
       "    .dataframe tbody tr th:only-of-type {\n",
       "        vertical-align: middle;\n",
       "    }\n",
       "\n",
       "    .dataframe tbody tr th {\n",
       "        vertical-align: top;\n",
       "    }\n",
       "\n",
       "    .dataframe thead th {\n",
       "        text-align: right;\n",
       "    }\n",
       "</style>\n",
       "<table border=\"1\" class=\"dataframe\">\n",
       "  <thead>\n",
       "    <tr style=\"text-align: right;\">\n",
       "      <th></th>\n",
       "      <th>source</th>\n",
       "      <th>site_id</th>\n",
       "      <th>categories</th>\n",
       "    </tr>\n",
       "  </thead>\n",
       "  <tbody>\n",
       "    <tr>\n",
       "      <th>58397</th>\n",
       "      <td>yelp</td>\n",
       "      <td>6y1SdVxPauHLfCxgf5yZDA</td>\n",
       "      <td>Bars</td>\n",
       "    </tr>\n",
       "    <tr>\n",
       "      <th>36257</th>\n",
       "      <td>yelp</td>\n",
       "      <td>mw-Vn0mmSTYR1ZkQaHdeBQ</td>\n",
       "      <td>Fast Food</td>\n",
       "    </tr>\n",
       "  </tbody>\n",
       "</table>\n",
       "</div>"
      ],
      "text/plain": [
       "      source                 site_id categories\n",
       "58397   yelp  6y1SdVxPauHLfCxgf5yZDA       Bars\n",
       "36257   yelp  mw-Vn0mmSTYR1ZkQaHdeBQ  Fast Food"
      ]
     },
     "execution_count": 21,
     "metadata": {},
     "output_type": "execute_result"
    }
   ],
   "source": [
    "dfy_categories = yelp_site_categories[['site_id', 'categories']]\n",
    "dfy_categories['source'] = 'yelp'\n",
    "dfy_categories = dfy_categories[['source', 'site_id', 'categories']]\n",
    "\n",
    "dfy_categories.info()\n",
    "dfy_categories.sample(2)"
   ]
  },
  {
   "cell_type": "markdown",
   "metadata": {},
   "source": [
    "### YELP attributes"
   ]
  },
  {
   "cell_type": "code",
   "execution_count": 22,
   "metadata": {},
   "outputs": [
    {
     "name": "stdout",
     "output_type": "stream",
     "text": [
      "(1206820, 2)\n"
     ]
    },
    {
     "data": {
      "text/html": [
       "<div>\n",
       "<style scoped>\n",
       "    .dataframe tbody tr th:only-of-type {\n",
       "        vertical-align: middle;\n",
       "    }\n",
       "\n",
       "    .dataframe tbody tr th {\n",
       "        vertical-align: top;\n",
       "    }\n",
       "\n",
       "    .dataframe thead th {\n",
       "        text-align: right;\n",
       "    }\n",
       "</style>\n",
       "<table border=\"1\" class=\"dataframe\">\n",
       "  <thead>\n",
       "    <tr style=\"text-align: right;\">\n",
       "      <th></th>\n",
       "      <th>business_id</th>\n",
       "      <th>attributes</th>\n",
       "    </tr>\n",
       "  </thead>\n",
       "  <tbody>\n",
       "    <tr>\n",
       "      <th>35990</th>\n",
       "      <td>Fyw7Nszsz2E6ZKy7gjPtDw</td>\n",
       "      <td>BusinessAcceptsCreditCards</td>\n",
       "    </tr>\n",
       "    <tr>\n",
       "      <th>101791</th>\n",
       "      <td>wvgaFGDyD3nTYZubTahH2A</td>\n",
       "      <td>RestaurantsPriceRange2</td>\n",
       "    </tr>\n",
       "  </tbody>\n",
       "</table>\n",
       "</div>"
      ],
      "text/plain": [
       "                   business_id                  attributes\n",
       "35990   Fyw7Nszsz2E6ZKy7gjPtDw  BusinessAcceptsCreditCards\n",
       "101791  wvgaFGDyD3nTYZubTahH2A      RestaurantsPriceRange2"
      ]
     },
     "execution_count": 22,
     "metadata": {},
     "output_type": "execute_result"
    }
   ],
   "source": [
    "dfy_attributes = yelp_site_attributes.copy()\n",
    "\n",
    "print(dfy_attributes.shape)\n",
    "dfy_attributes.sample(2)"
   ]
  },
  {
   "cell_type": "markdown",
   "metadata": {},
   "source": [
    "## Datasets GOOGLE\n",
    "------------------------------------------------------------------------------------------------------"
   ]
  },
  {
   "cell_type": "markdown",
   "metadata": {},
   "source": [
    "### GOOGLE reviews"
   ]
  },
  {
   "cell_type": "code",
   "execution_count": 23,
   "metadata": {},
   "outputs": [
    {
     "name": "stdout",
     "output_type": "stream",
     "text": [
      "<class 'pandas.core.frame.DataFrame'>\n",
      "RangeIndex: 4346287 entries, 0 to 4346286\n",
      "Data columns (total 7 columns):\n",
      " #   Column           Dtype         \n",
      "---  ------           -----         \n",
      " 0   user_id          float64       \n",
      " 1   gmap_id          object        \n",
      " 2   state            object        \n",
      " 3   datetime         datetime64[ns]\n",
      " 4   rating           int64         \n",
      " 5   vader_polarity   float64       \n",
      " 6   vader_sentiment  int64         \n",
      "dtypes: datetime64[ns](1), float64(2), int64(2), object(2)\n",
      "memory usage: 232.1+ MB\n",
      "None\n"
     ]
    },
    {
     "data": {
      "text/html": [
       "<div>\n",
       "<style scoped>\n",
       "    .dataframe tbody tr th:only-of-type {\n",
       "        vertical-align: middle;\n",
       "    }\n",
       "\n",
       "    .dataframe tbody tr th {\n",
       "        vertical-align: top;\n",
       "    }\n",
       "\n",
       "    .dataframe thead th {\n",
       "        text-align: right;\n",
       "    }\n",
       "</style>\n",
       "<table border=\"1\" class=\"dataframe\">\n",
       "  <thead>\n",
       "    <tr style=\"text-align: right;\">\n",
       "      <th></th>\n",
       "      <th>user_id</th>\n",
       "      <th>gmap_id</th>\n",
       "      <th>state</th>\n",
       "      <th>datetime</th>\n",
       "      <th>rating</th>\n",
       "      <th>vader_polarity</th>\n",
       "      <th>vader_sentiment</th>\n",
       "    </tr>\n",
       "  </thead>\n",
       "  <tbody>\n",
       "    <tr>\n",
       "      <th>202692</th>\n",
       "      <td>1.097204e+20</td>\n",
       "      <td>0x862d3b5e389cd873:0x4fc605afe795e050</td>\n",
       "      <td>AR</td>\n",
       "      <td>2019-06-06 07:59:54.896</td>\n",
       "      <td>5</td>\n",
       "      <td>0.8852</td>\n",
       "      <td>1</td>\n",
       "    </tr>\n",
       "    <tr>\n",
       "      <th>2545665</th>\n",
       "      <td>1.167554e+20</td>\n",
       "      <td>0x89c24f2fdc03129d:0x9cc50b4dddd5a60</td>\n",
       "      <td>NY</td>\n",
       "      <td>2019-12-27 13:38:32.432</td>\n",
       "      <td>5</td>\n",
       "      <td>0.9737</td>\n",
       "      <td>1</td>\n",
       "    </tr>\n",
       "  </tbody>\n",
       "</table>\n",
       "</div>"
      ],
      "text/plain": [
       "              user_id                                gmap_id state  \\\n",
       "202692   1.097204e+20  0x862d3b5e389cd873:0x4fc605afe795e050    AR   \n",
       "2545665  1.167554e+20   0x89c24f2fdc03129d:0x9cc50b4dddd5a60    NY   \n",
       "\n",
       "                       datetime  rating  vader_polarity  vader_sentiment  \n",
       "202692  2019-06-06 07:59:54.896       5          0.8852                1  \n",
       "2545665 2019-12-27 13:38:32.432       5          0.9737                1  "
      ]
     },
     "execution_count": 23,
     "metadata": {},
     "output_type": "execute_result"
    }
   ],
   "source": [
    "print(google_reviews.info())\n",
    "google_reviews.sample(2)"
   ]
  },
  {
   "cell_type": "code",
   "execution_count": 24,
   "metadata": {},
   "outputs": [],
   "source": [
    "dfg_reviews = google_reviews\n",
    "dfg_reviews['source'] = 'google'\n",
    "dfg_reviews['month'] = dfg_reviews['datetime'].dt.month\n",
    "dfg_reviews['year'] = dfg_reviews['datetime'].dt.year\n",
    "dfg_reviews = dfg_reviews[['source', 'gmap_id','user_id', 'datetime', 'month', 'year', 'rating', 'vader_polarity', 'vader_sentiment']]\n",
    "dfg_reviews = dfg_reviews.rename(columns={'gmap_id': 'site_id', 'vader_polarity':'polarity', 'vader_sentiment':'sentiment'})"
   ]
  },
  {
   "cell_type": "code",
   "execution_count": 25,
   "metadata": {},
   "outputs": [
    {
     "data": {
      "text/html": [
       "<div>\n",
       "<style scoped>\n",
       "    .dataframe tbody tr th:only-of-type {\n",
       "        vertical-align: middle;\n",
       "    }\n",
       "\n",
       "    .dataframe tbody tr th {\n",
       "        vertical-align: top;\n",
       "    }\n",
       "\n",
       "    .dataframe thead th {\n",
       "        text-align: right;\n",
       "    }\n",
       "</style>\n",
       "<table border=\"1\" class=\"dataframe\">\n",
       "  <thead>\n",
       "    <tr style=\"text-align: right;\">\n",
       "      <th></th>\n",
       "      <th>source</th>\n",
       "      <th>site_id</th>\n",
       "      <th>user_id</th>\n",
       "      <th>datetime</th>\n",
       "      <th>month</th>\n",
       "      <th>year</th>\n",
       "      <th>rating</th>\n",
       "      <th>polarity</th>\n",
       "      <th>sentiment</th>\n",
       "    </tr>\n",
       "  </thead>\n",
       "  <tbody>\n",
       "    <tr>\n",
       "      <th>2914340</th>\n",
       "      <td>google</td>\n",
       "      <td>0x89acf78a7e1c0259:0x771dde4e8a04d66f</td>\n",
       "      <td>1.050784e+20</td>\n",
       "      <td>2019-01-08 13:53:35.906</td>\n",
       "      <td>1</td>\n",
       "      <td>2019</td>\n",
       "      <td>4</td>\n",
       "      <td>0.7906</td>\n",
       "      <td>1</td>\n",
       "    </tr>\n",
       "    <tr>\n",
       "      <th>3856243</th>\n",
       "      <td>google</td>\n",
       "      <td>0x864e6d7fa845872d:0xa0e11e1554de29c</td>\n",
       "      <td>1.087709e+20</td>\n",
       "      <td>2021-03-06 16:50:35.517</td>\n",
       "      <td>3</td>\n",
       "      <td>2021</td>\n",
       "      <td>5</td>\n",
       "      <td>0.6239</td>\n",
       "      <td>1</td>\n",
       "    </tr>\n",
       "  </tbody>\n",
       "</table>\n",
       "</div>"
      ],
      "text/plain": [
       "         source                                site_id       user_id  \\\n",
       "2914340  google  0x89acf78a7e1c0259:0x771dde4e8a04d66f  1.050784e+20   \n",
       "3856243  google   0x864e6d7fa845872d:0xa0e11e1554de29c  1.087709e+20   \n",
       "\n",
       "                       datetime  month  year  rating  polarity  sentiment  \n",
       "2914340 2019-01-08 13:53:35.906      1  2019       4    0.7906          1  \n",
       "3856243 2021-03-06 16:50:35.517      3  2021       5    0.6239          1  "
      ]
     },
     "execution_count": 25,
     "metadata": {},
     "output_type": "execute_result"
    }
   ],
   "source": [
    "dfg_reviews.sample(2)"
   ]
  },
  {
   "cell_type": "markdown",
   "metadata": {},
   "source": [
    "### GOOGLE restaurants"
   ]
  },
  {
   "cell_type": "code",
   "execution_count": 26,
   "metadata": {},
   "outputs": [
    {
     "name": "stdout",
     "output_type": "stream",
     "text": [
      "<class 'pandas.core.frame.DataFrame'>\n",
      "Index: 223485 entries, 2 to 274996\n",
      "Data columns (total 12 columns):\n",
      " #   Column          Non-Null Count   Dtype  \n",
      "---  ------          --------------   -----  \n",
      " 0   name            223485 non-null  object \n",
      " 1   address_full    223485 non-null  object \n",
      " 2   gmap_id         223485 non-null  object \n",
      " 3   latitude        223485 non-null  float64\n",
      " 4   longitude       223485 non-null  float64\n",
      " 5   avg_rating      223485 non-null  float64\n",
      " 6   num_of_reviews  223485 non-null  int64  \n",
      " 7   price           223485 non-null  float64\n",
      " 8   address         223485 non-null  object \n",
      " 9   city            223485 non-null  object \n",
      " 10  postal_code     223485 non-null  object \n",
      " 11  state           223485 non-null  object \n",
      "dtypes: float64(4), int64(1), object(7)\n",
      "memory usage: 22.2+ MB\n",
      "None\n"
     ]
    },
    {
     "data": {
      "text/html": [
       "<div>\n",
       "<style scoped>\n",
       "    .dataframe tbody tr th:only-of-type {\n",
       "        vertical-align: middle;\n",
       "    }\n",
       "\n",
       "    .dataframe tbody tr th {\n",
       "        vertical-align: top;\n",
       "    }\n",
       "\n",
       "    .dataframe thead th {\n",
       "        text-align: right;\n",
       "    }\n",
       "</style>\n",
       "<table border=\"1\" class=\"dataframe\">\n",
       "  <thead>\n",
       "    <tr style=\"text-align: right;\">\n",
       "      <th></th>\n",
       "      <th>name</th>\n",
       "      <th>address_full</th>\n",
       "      <th>gmap_id</th>\n",
       "      <th>latitude</th>\n",
       "      <th>longitude</th>\n",
       "      <th>avg_rating</th>\n",
       "      <th>num_of_reviews</th>\n",
       "      <th>price</th>\n",
       "      <th>address</th>\n",
       "      <th>city</th>\n",
       "      <th>postal_code</th>\n",
       "      <th>state</th>\n",
       "    </tr>\n",
       "  </thead>\n",
       "  <tbody>\n",
       "    <tr>\n",
       "      <th>44036</th>\n",
       "      <td>Santa Barbara Chicken Ranch</td>\n",
       "      <td>Santa Barbara Chicken Ranch, 149 N Fairview Av...</td>\n",
       "      <td>0x80e940636c444b4d:0x7c867f367a21fa71</td>\n",
       "      <td>34.441786</td>\n",
       "      <td>-119.832707</td>\n",
       "      <td>4.2</td>\n",
       "      <td>218</td>\n",
       "      <td>1.0</td>\n",
       "      <td>149 N Fairview Ave #2304</td>\n",
       "      <td>Goleta</td>\n",
       "      <td>93117</td>\n",
       "      <td>CA</td>\n",
       "    </tr>\n",
       "    <tr>\n",
       "      <th>116032</th>\n",
       "      <td>Burger King</td>\n",
       "      <td>Burger King, 1012 N County Rd 260, Clyde, OH 4...</td>\n",
       "      <td>0x883bcb9c77639acd:0xe2c54818d319085f</td>\n",
       "      <td>41.369218</td>\n",
       "      <td>-82.956396</td>\n",
       "      <td>2.1</td>\n",
       "      <td>67</td>\n",
       "      <td>1.0</td>\n",
       "      <td>1012 N County Rd 260</td>\n",
       "      <td>Clyde</td>\n",
       "      <td>43410</td>\n",
       "      <td>OH</td>\n",
       "    </tr>\n",
       "  </tbody>\n",
       "</table>\n",
       "</div>"
      ],
      "text/plain": [
       "                               name  \\\n",
       "44036   Santa Barbara Chicken Ranch   \n",
       "116032                  Burger King   \n",
       "\n",
       "                                             address_full  \\\n",
       "44036   Santa Barbara Chicken Ranch, 149 N Fairview Av...   \n",
       "116032  Burger King, 1012 N County Rd 260, Clyde, OH 4...   \n",
       "\n",
       "                                      gmap_id   latitude   longitude  \\\n",
       "44036   0x80e940636c444b4d:0x7c867f367a21fa71  34.441786 -119.832707   \n",
       "116032  0x883bcb9c77639acd:0xe2c54818d319085f  41.369218  -82.956396   \n",
       "\n",
       "        avg_rating  num_of_reviews  price                   address    city  \\\n",
       "44036          4.2             218    1.0  149 N Fairview Ave #2304  Goleta   \n",
       "116032         2.1              67    1.0      1012 N County Rd 260   Clyde   \n",
       "\n",
       "       postal_code state  \n",
       "44036        93117    CA  \n",
       "116032       43410    OH  "
      ]
     },
     "execution_count": 26,
     "metadata": {},
     "output_type": "execute_result"
    }
   ],
   "source": [
    "print(google_rest.info())\n",
    "google_rest.sample(2)"
   ]
  },
  {
   "cell_type": "code",
   "execution_count": 27,
   "metadata": {},
   "outputs": [],
   "source": [
    "dfg_rest = google_rest\n",
    "dfg_rest['source'] = 'google'\n",
    "dfg_rest = dfg_rest[['source','gmap_id', 'name', 'state', 'city', 'postal_code', 'price', 'avg_rating', 'num_of_reviews']]\n",
    "dfg_rest = dfg_rest.rename(columns={'gmap_id': 'site_id', 'avg_rating':'rating_avg', 'num_of_reviews':'reviews_count'})\n",
    "\n",
    "# Agregado de fecha de inicio de acitividad\n",
    "dfg_rest_date_start = dfg_reviews.groupby('site_id')['datetime'].min().reset_index()\n",
    "dfg_rest = pd.merge(dfg_rest, dfg_rest_date_start, how='left', on=['site_id'])\n",
    "dfg_rest = dfg_rest.rename(columns={'datetime': 'date_start'})\n",
    "\n",
    "dfg_rest['year'] = dfg_rest['date_start'].dt.year\n",
    "dfg_rest['month'] = dfg_rest['date_start'].dt.month\n",
    "\n",
    "dfg_rest['state_city'] = dfg_rest['state'].str.cat(dfg_rest['city'], sep=' - ')\n",
    "dfg_rest['city_postalcode'] = dfg_rest['city'].str.cat(dfg_rest['postal_code'], sep=' - ')\n",
    "dfg_rest['state_city_postalcode'] = dfg_rest['state'].str.cat(dfy_rest['city'], sep=' - ').str.cat(dfg_rest['postal_code'], sep=' - ')\n"
   ]
  },
  {
   "cell_type": "code",
   "execution_count": 28,
   "metadata": {},
   "outputs": [
    {
     "name": "stdout",
     "output_type": "stream",
     "text": [
      "<class 'pandas.core.frame.DataFrame'>\n",
      "RangeIndex: 223485 entries, 0 to 223484\n",
      "Data columns (total 15 columns):\n",
      " #   Column                 Non-Null Count   Dtype         \n",
      "---  ------                 --------------   -----         \n",
      " 0   source                 223485 non-null  object        \n",
      " 1   site_id                223485 non-null  object        \n",
      " 2   name                   223485 non-null  object        \n",
      " 3   state                  223485 non-null  object        \n",
      " 4   city                   223485 non-null  object        \n",
      " 5   postal_code            223485 non-null  object        \n",
      " 6   price                  223485 non-null  float64       \n",
      " 7   rating_avg             223485 non-null  float64       \n",
      " 8   reviews_count          223485 non-null  int64         \n",
      " 9   date_start             134644 non-null  datetime64[ns]\n",
      " 10  year                   134644 non-null  float64       \n",
      " 11  month                  134644 non-null  float64       \n",
      " 12  state_city             223485 non-null  object        \n",
      " 13  city_postalcode        223485 non-null  object        \n",
      " 14  state_city_postalcode  211084 non-null  object        \n",
      "dtypes: datetime64[ns](1), float64(4), int64(1), object(9)\n",
      "memory usage: 25.6+ MB\n",
      "None\n"
     ]
    },
    {
     "data": {
      "text/html": [
       "<div>\n",
       "<style scoped>\n",
       "    .dataframe tbody tr th:only-of-type {\n",
       "        vertical-align: middle;\n",
       "    }\n",
       "\n",
       "    .dataframe tbody tr th {\n",
       "        vertical-align: top;\n",
       "    }\n",
       "\n",
       "    .dataframe thead th {\n",
       "        text-align: right;\n",
       "    }\n",
       "</style>\n",
       "<table border=\"1\" class=\"dataframe\">\n",
       "  <thead>\n",
       "    <tr style=\"text-align: right;\">\n",
       "      <th></th>\n",
       "      <th>source</th>\n",
       "      <th>site_id</th>\n",
       "      <th>name</th>\n",
       "      <th>state</th>\n",
       "      <th>city</th>\n",
       "      <th>postal_code</th>\n",
       "      <th>price</th>\n",
       "      <th>rating_avg</th>\n",
       "      <th>reviews_count</th>\n",
       "      <th>date_start</th>\n",
       "      <th>year</th>\n",
       "      <th>month</th>\n",
       "      <th>state_city</th>\n",
       "      <th>city_postalcode</th>\n",
       "      <th>state_city_postalcode</th>\n",
       "    </tr>\n",
       "  </thead>\n",
       "  <tbody>\n",
       "    <tr>\n",
       "      <th>163805</th>\n",
       "      <td>google</td>\n",
       "      <td>0x87ded724e776b19d:0xb81b2ba515f7f33b</td>\n",
       "      <td>Indie Eatery</td>\n",
       "      <td>MO</td>\n",
       "      <td>St Peters</td>\n",
       "      <td>63376</td>\n",
       "      <td>1.285714</td>\n",
       "      <td>5.0</td>\n",
       "      <td>107</td>\n",
       "      <td>2018-09-22 15:57:03.445</td>\n",
       "      <td>2018.0</td>\n",
       "      <td>9.0</td>\n",
       "      <td>MO - St Peters</td>\n",
       "      <td>St Peters - 63376</td>\n",
       "      <td>MO - Zionsville - 63376</td>\n",
       "    </tr>\n",
       "    <tr>\n",
       "      <th>43217</th>\n",
       "      <td>google</td>\n",
       "      <td>0x8837282f107ba5ab:0x5196801f2bbf6516</td>\n",
       "      <td>Two Goldens Tavern</td>\n",
       "      <td>OH</td>\n",
       "      <td>Massillon</td>\n",
       "      <td>44647</td>\n",
       "      <td>1.000000</td>\n",
       "      <td>4.3</td>\n",
       "      <td>128</td>\n",
       "      <td>2015-03-25 06:00:17.625</td>\n",
       "      <td>2015.0</td>\n",
       "      <td>3.0</td>\n",
       "      <td>OH - Massillon</td>\n",
       "      <td>Massillon - 44647</td>\n",
       "      <td>OH - Santa Barbara - 44647</td>\n",
       "    </tr>\n",
       "  </tbody>\n",
       "</table>\n",
       "</div>"
      ],
      "text/plain": [
       "        source                                site_id                name  \\\n",
       "163805  google  0x87ded724e776b19d:0xb81b2ba515f7f33b        Indie Eatery   \n",
       "43217   google  0x8837282f107ba5ab:0x5196801f2bbf6516  Two Goldens Tavern   \n",
       "\n",
       "       state       city postal_code     price  rating_avg  reviews_count  \\\n",
       "163805    MO  St Peters       63376  1.285714         5.0            107   \n",
       "43217     OH  Massillon       44647  1.000000         4.3            128   \n",
       "\n",
       "                    date_start    year  month      state_city  \\\n",
       "163805 2018-09-22 15:57:03.445  2018.0    9.0  MO - St Peters   \n",
       "43217  2015-03-25 06:00:17.625  2015.0    3.0  OH - Massillon   \n",
       "\n",
       "          city_postalcode       state_city_postalcode  \n",
       "163805  St Peters - 63376     MO - Zionsville - 63376  \n",
       "43217   Massillon - 44647  OH - Santa Barbara - 44647  "
      ]
     },
     "execution_count": 28,
     "metadata": {},
     "output_type": "execute_result"
    }
   ],
   "source": [
    "print(dfg_rest.info())\n",
    "dfg_rest.sample(2)"
   ]
  },
  {
   "cell_type": "markdown",
   "metadata": {},
   "source": [
    "### GOOGLE user (creación de dataset)"
   ]
  },
  {
   "cell_type": "code",
   "execution_count": 29,
   "metadata": {},
   "outputs": [
    {
     "data": {
      "text/html": [
       "<div>\n",
       "<style scoped>\n",
       "    .dataframe tbody tr th:only-of-type {\n",
       "        vertical-align: middle;\n",
       "    }\n",
       "\n",
       "    .dataframe tbody tr th {\n",
       "        vertical-align: top;\n",
       "    }\n",
       "\n",
       "    .dataframe thead th {\n",
       "        text-align: right;\n",
       "    }\n",
       "</style>\n",
       "<table border=\"1\" class=\"dataframe\">\n",
       "  <thead>\n",
       "    <tr style=\"text-align: right;\">\n",
       "      <th></th>\n",
       "      <th>user_id</th>\n",
       "      <th>reviews_count</th>\n",
       "      <th>date_start</th>\n",
       "      <th>rating_avg</th>\n",
       "      <th>year</th>\n",
       "      <th>month</th>\n",
       "    </tr>\n",
       "  </thead>\n",
       "  <tbody>\n",
       "    <tr>\n",
       "      <th>158554</th>\n",
       "      <td>1.012697e+20</td>\n",
       "      <td>1</td>\n",
       "      <td>2016-10-10 18:28:31.930</td>\n",
       "      <td>5.0</td>\n",
       "      <td>2016</td>\n",
       "      <td>10</td>\n",
       "    </tr>\n",
       "    <tr>\n",
       "      <th>1015481</th>\n",
       "      <td>1.071825e+20</td>\n",
       "      <td>5</td>\n",
       "      <td>2019-05-09 13:21:40.875</td>\n",
       "      <td>4.4</td>\n",
       "      <td>2019</td>\n",
       "      <td>5</td>\n",
       "    </tr>\n",
       "  </tbody>\n",
       "</table>\n",
       "</div>"
      ],
      "text/plain": [
       "              user_id  reviews_count              date_start  rating_avg  \\\n",
       "158554   1.012697e+20              1 2016-10-10 18:28:31.930         5.0   \n",
       "1015481  1.071825e+20              5 2019-05-09 13:21:40.875         4.4   \n",
       "\n",
       "         year  month  \n",
       "158554   2016     10  \n",
       "1015481  2019      5  "
      ]
     },
     "execution_count": 29,
     "metadata": {},
     "output_type": "execute_result"
    }
   ],
   "source": [
    "dfg_user = dfg_reviews.groupby(['user_id']).agg({'site_id': 'count', 'datetime': 'min', 'rating': 'mean'}).reset_index()\n",
    "dfg_user = dfg_user.rename(columns={'site_id':'reviews_count', 'datetime':'date_start', 'rating':'rating_avg'})\n",
    "dfg_user['year'] = dfg_user['date_start'].dt.year\n",
    "dfg_user['month'] = dfg_user['date_start'].dt.month\n",
    "\n",
    "dfg_user.sample(2)\n"
   ]
  },
  {
   "cell_type": "markdown",
   "metadata": {},
   "source": [
    "### GOOGLE checkins (creación de dataset)"
   ]
  },
  {
   "cell_type": "code",
   "execution_count": 30,
   "metadata": {},
   "outputs": [],
   "source": [
    "dfg_checkins = dfg_reviews[['source', 'site_id', 'datetime', 'year', 'month']]"
   ]
  },
  {
   "cell_type": "code",
   "execution_count": 31,
   "metadata": {},
   "outputs": [
    {
     "name": "stdout",
     "output_type": "stream",
     "text": [
      "<class 'pandas.core.frame.DataFrame'>\n",
      "RangeIndex: 4346287 entries, 0 to 4346286\n",
      "Data columns (total 5 columns):\n",
      " #   Column    Dtype         \n",
      "---  ------    -----         \n",
      " 0   source    object        \n",
      " 1   site_id   object        \n",
      " 2   datetime  datetime64[ns]\n",
      " 3   year      int32         \n",
      " 4   month     int32         \n",
      "dtypes: datetime64[ns](1), int32(2), object(2)\n",
      "memory usage: 132.6+ MB\n",
      "None\n"
     ]
    },
    {
     "data": {
      "text/html": [
       "<div>\n",
       "<style scoped>\n",
       "    .dataframe tbody tr th:only-of-type {\n",
       "        vertical-align: middle;\n",
       "    }\n",
       "\n",
       "    .dataframe tbody tr th {\n",
       "        vertical-align: top;\n",
       "    }\n",
       "\n",
       "    .dataframe thead th {\n",
       "        text-align: right;\n",
       "    }\n",
       "</style>\n",
       "<table border=\"1\" class=\"dataframe\">\n",
       "  <thead>\n",
       "    <tr style=\"text-align: right;\">\n",
       "      <th></th>\n",
       "      <th>source</th>\n",
       "      <th>site_id</th>\n",
       "      <th>datetime</th>\n",
       "      <th>year</th>\n",
       "      <th>month</th>\n",
       "    </tr>\n",
       "  </thead>\n",
       "  <tbody>\n",
       "    <tr>\n",
       "      <th>3642131</th>\n",
       "      <td>google</td>\n",
       "      <td>0x887cdba077274d2f:0xfecb919dde48b801</td>\n",
       "      <td>2019-10-04 12:12:36.257</td>\n",
       "      <td>2019</td>\n",
       "      <td>10</td>\n",
       "    </tr>\n",
       "    <tr>\n",
       "      <th>2755392</th>\n",
       "      <td>google</td>\n",
       "      <td>0x89c260a449babad3:0xb15d1b6e6d26bc02</td>\n",
       "      <td>2018-09-30 05:39:28.668</td>\n",
       "      <td>2018</td>\n",
       "      <td>9</td>\n",
       "    </tr>\n",
       "  </tbody>\n",
       "</table>\n",
       "</div>"
      ],
      "text/plain": [
       "         source                                site_id  \\\n",
       "3642131  google  0x887cdba077274d2f:0xfecb919dde48b801   \n",
       "2755392  google  0x89c260a449babad3:0xb15d1b6e6d26bc02   \n",
       "\n",
       "                       datetime  year  month  \n",
       "3642131 2019-10-04 12:12:36.257  2019     10  \n",
       "2755392 2018-09-30 05:39:28.668  2018      9  "
      ]
     },
     "execution_count": 31,
     "metadata": {},
     "output_type": "execute_result"
    }
   ],
   "source": [
    "print(dfg_checkins.info())\n",
    "dfg_checkins.sample(2)"
   ]
  },
  {
   "cell_type": "markdown",
   "metadata": {},
   "source": [
    "### GOOGLE categories"
   ]
  },
  {
   "cell_type": "code",
   "execution_count": 32,
   "metadata": {},
   "outputs": [
    {
     "name": "stdout",
     "output_type": "stream",
     "text": [
      "<class 'pandas.core.frame.DataFrame'>\n",
      "Index: 626995 entries, 2 to 274996\n",
      "Data columns (total 2 columns):\n",
      " #   Column    Non-Null Count   Dtype \n",
      "---  ------    --------------   ----- \n",
      " 0   site_id   626995 non-null  object\n",
      " 1   category  626995 non-null  object\n",
      "dtypes: object(2)\n",
      "memory usage: 14.4+ MB\n"
     ]
    },
    {
     "data": {
      "text/html": [
       "<div>\n",
       "<style scoped>\n",
       "    .dataframe tbody tr th:only-of-type {\n",
       "        vertical-align: middle;\n",
       "    }\n",
       "\n",
       "    .dataframe tbody tr th {\n",
       "        vertical-align: top;\n",
       "    }\n",
       "\n",
       "    .dataframe thead th {\n",
       "        text-align: right;\n",
       "    }\n",
       "</style>\n",
       "<table border=\"1\" class=\"dataframe\">\n",
       "  <thead>\n",
       "    <tr style=\"text-align: right;\">\n",
       "      <th></th>\n",
       "      <th>site_id</th>\n",
       "      <th>category</th>\n",
       "    </tr>\n",
       "  </thead>\n",
       "  <tbody>\n",
       "    <tr>\n",
       "      <th>90055</th>\n",
       "      <td>0x89c2e86c81bc2cff:0xf45f077bdb5465d2</td>\n",
       "      <td>Bar</td>\n",
       "    </tr>\n",
       "    <tr>\n",
       "      <th>270409</th>\n",
       "      <td>0x884ebe9f4e3e7ed7:0x1810233aa4415639</td>\n",
       "      <td>Campground</td>\n",
       "    </tr>\n",
       "  </tbody>\n",
       "</table>\n",
       "</div>"
      ],
      "text/plain": [
       "                                      site_id    category\n",
       "90055   0x89c2e86c81bc2cff:0xf45f077bdb5465d2         Bar\n",
       "270409  0x884ebe9f4e3e7ed7:0x1810233aa4415639  Campground"
      ]
     },
     "execution_count": 32,
     "metadata": {},
     "output_type": "execute_result"
    }
   ],
   "source": [
    "google_site_categories.info()\n",
    "google_site_categories.sample(2)"
   ]
  },
  {
   "cell_type": "code",
   "execution_count": 33,
   "metadata": {},
   "outputs": [
    {
     "name": "stdout",
     "output_type": "stream",
     "text": [
      "<class 'pandas.core.frame.DataFrame'>\n",
      "Index: 626995 entries, 2 to 274996\n",
      "Data columns (total 3 columns):\n",
      " #   Column      Non-Null Count   Dtype \n",
      "---  ------      --------------   ----- \n",
      " 0   source      626995 non-null  object\n",
      " 1   site_id     626995 non-null  object\n",
      " 2   categories  626995 non-null  object\n",
      "dtypes: object(3)\n",
      "memory usage: 19.1+ MB\n"
     ]
    },
    {
     "data": {
      "text/html": [
       "<div>\n",
       "<style scoped>\n",
       "    .dataframe tbody tr th:only-of-type {\n",
       "        vertical-align: middle;\n",
       "    }\n",
       "\n",
       "    .dataframe tbody tr th {\n",
       "        vertical-align: top;\n",
       "    }\n",
       "\n",
       "    .dataframe thead th {\n",
       "        text-align: right;\n",
       "    }\n",
       "</style>\n",
       "<table border=\"1\" class=\"dataframe\">\n",
       "  <thead>\n",
       "    <tr style=\"text-align: right;\">\n",
       "      <th></th>\n",
       "      <th>source</th>\n",
       "      <th>site_id</th>\n",
       "      <th>categories</th>\n",
       "    </tr>\n",
       "  </thead>\n",
       "  <tbody>\n",
       "    <tr>\n",
       "      <th>216091</th>\n",
       "      <td>google</td>\n",
       "      <td>0x89c6ceea6934db91:0x9778e04ca049f952</td>\n",
       "      <td>Chicken wings restaurant</td>\n",
       "    </tr>\n",
       "    <tr>\n",
       "      <th>33453</th>\n",
       "      <td>google</td>\n",
       "      <td>0x87530ed8cf566b99:0xf91a0c6068f0f0bb</td>\n",
       "      <td>Vegetarian restaurant</td>\n",
       "    </tr>\n",
       "  </tbody>\n",
       "</table>\n",
       "</div>"
      ],
      "text/plain": [
       "        source                                site_id  \\\n",
       "216091  google  0x89c6ceea6934db91:0x9778e04ca049f952   \n",
       "33453   google  0x87530ed8cf566b99:0xf91a0c6068f0f0bb   \n",
       "\n",
       "                      categories  \n",
       "216091  Chicken wings restaurant  \n",
       "33453      Vegetarian restaurant  "
      ]
     },
     "execution_count": 33,
     "metadata": {},
     "output_type": "execute_result"
    }
   ],
   "source": [
    "dfg_categories = google_site_categories.copy()\n",
    "\n",
    "dfg_categories.rename(columns={'category': 'categories'}, inplace=True)\n",
    "dfg_categories['source'] = 'google'\n",
    "dfg_categories = dfg_categories[['source', 'site_id', 'categories']]\n",
    "\n",
    "dfg_categories.info()\n",
    "dfg_categories.sample(2)"
   ]
  },
  {
   "cell_type": "markdown",
   "metadata": {},
   "source": [
    "## Datasets COMBINADOS\n",
    "------------------------------------------------------------------------------------------------------"
   ]
  },
  {
   "cell_type": "markdown",
   "metadata": {},
   "source": [
    "### Dataset RESTAURANTS"
   ]
  },
  {
   "cell_type": "code",
   "execution_count": 34,
   "metadata": {},
   "outputs": [
    {
     "name": "stdout",
     "output_type": "stream",
     "text": [
      "<class 'pandas.core.frame.DataFrame'>\n",
      "Index: 342834 entries, 3 to 223484\n",
      "Data columns (total 15 columns):\n",
      " #   Column                 Non-Null Count   Dtype         \n",
      "---  ------                 --------------   -----         \n",
      " 0   source                 342834 non-null  object        \n",
      " 1   site_id                342834 non-null  object        \n",
      " 2   name                   342834 non-null  object        \n",
      " 3   state                  342834 non-null  object        \n",
      " 4   city                   342834 non-null  object        \n",
      " 5   postal_code            342834 non-null  object        \n",
      " 6   price                  342834 non-null  float64       \n",
      " 7   rating_avg             342834 non-null  float64       \n",
      " 8   reviews_count          342834 non-null  int64         \n",
      " 9   date_start             247726 non-null  datetime64[ns]\n",
      " 10  year                   247726 non-null  float64       \n",
      " 11  month                  247726 non-null  float64       \n",
      " 12  state_city             342834 non-null  object        \n",
      " 13  city_postalcode        342834 non-null  object        \n",
      " 14  state_city_postalcode  330433 non-null  object        \n",
      "dtypes: datetime64[ns](1), float64(4), int64(1), object(9)\n",
      "memory usage: 41.8+ MB\n",
      "None\n"
     ]
    },
    {
     "data": {
      "text/html": [
       "<div>\n",
       "<style scoped>\n",
       "    .dataframe tbody tr th:only-of-type {\n",
       "        vertical-align: middle;\n",
       "    }\n",
       "\n",
       "    .dataframe tbody tr th {\n",
       "        vertical-align: top;\n",
       "    }\n",
       "\n",
       "    .dataframe thead th {\n",
       "        text-align: right;\n",
       "    }\n",
       "</style>\n",
       "<table border=\"1\" class=\"dataframe\">\n",
       "  <thead>\n",
       "    <tr style=\"text-align: right;\">\n",
       "      <th></th>\n",
       "      <th>source</th>\n",
       "      <th>site_id</th>\n",
       "      <th>name</th>\n",
       "      <th>state</th>\n",
       "      <th>city</th>\n",
       "      <th>postal_code</th>\n",
       "      <th>price</th>\n",
       "      <th>rating_avg</th>\n",
       "      <th>reviews_count</th>\n",
       "      <th>date_start</th>\n",
       "      <th>year</th>\n",
       "      <th>month</th>\n",
       "      <th>state_city</th>\n",
       "      <th>city_postalcode</th>\n",
       "      <th>state_city_postalcode</th>\n",
       "    </tr>\n",
       "  </thead>\n",
       "  <tbody>\n",
       "    <tr>\n",
       "      <th>176789</th>\n",
       "      <td>google</td>\n",
       "      <td>0x89c0e9a2641f8731:0xede29be46d33a2f6</td>\n",
       "      <td>Ichiban Japanese Cuisine</td>\n",
       "      <td>NJ</td>\n",
       "      <td>Northfield</td>\n",
       "      <td>8225</td>\n",
       "      <td>1.0</td>\n",
       "      <td>4.6</td>\n",
       "      <td>94</td>\n",
       "      <td>2016-03-07 13:48:49.950</td>\n",
       "      <td>2016.0</td>\n",
       "      <td>3.0</td>\n",
       "      <td>NJ - Northfield</td>\n",
       "      <td>Northfield - 8225</td>\n",
       "      <td>NJ - Indianapolis - 8225</td>\n",
       "    </tr>\n",
       "    <tr>\n",
       "      <th>151554</th>\n",
       "      <td>google</td>\n",
       "      <td>0x88f08685d51b7cef:0xf29519946cf4b796</td>\n",
       "      <td>Parker's Kitchen</td>\n",
       "      <td>GA</td>\n",
       "      <td>Lyons</td>\n",
       "      <td>30436</td>\n",
       "      <td>1.0</td>\n",
       "      <td>3.5</td>\n",
       "      <td>8</td>\n",
       "      <td>NaT</td>\n",
       "      <td>NaN</td>\n",
       "      <td>NaN</td>\n",
       "      <td>GA - Lyons</td>\n",
       "      <td>Lyons - 30436</td>\n",
       "      <td>GA - Lafayette Hill - 30436</td>\n",
       "    </tr>\n",
       "  </tbody>\n",
       "</table>\n",
       "</div>"
      ],
      "text/plain": [
       "        source                                site_id  \\\n",
       "176789  google  0x89c0e9a2641f8731:0xede29be46d33a2f6   \n",
       "151554  google  0x88f08685d51b7cef:0xf29519946cf4b796   \n",
       "\n",
       "                            name state        city postal_code  price  \\\n",
       "176789  Ichiban Japanese Cuisine    NJ  Northfield        8225    1.0   \n",
       "151554          Parker's Kitchen    GA       Lyons       30436    1.0   \n",
       "\n",
       "        rating_avg  reviews_count              date_start    year  month  \\\n",
       "176789         4.6             94 2016-03-07 13:48:49.950  2016.0    3.0   \n",
       "151554         3.5              8                     NaT     NaN    NaN   \n",
       "\n",
       "             state_city    city_postalcode        state_city_postalcode  \n",
       "176789  NJ - Northfield  Northfield - 8225     NJ - Indianapolis - 8225  \n",
       "151554       GA - Lyons      Lyons - 30436  GA - Lafayette Hill - 30436  "
      ]
     },
     "execution_count": 34,
     "metadata": {},
     "output_type": "execute_result"
    }
   ],
   "source": [
    "# Filtrado\n",
    "dfy_rest = dfy_rest[dfy_rest['site_id'].isin(dfgy_rest_uniques['business_id'])]\n",
    "# Union\n",
    "dfgy_rest = pd.concat([dfy_rest, dfg_rest])\n",
    "\n",
    "print(dfgy_rest.info())\n",
    "dfgy_rest.sample(2)"
   ]
  },
  {
   "cell_type": "markdown",
   "metadata": {},
   "source": [
    "### Dataset USER"
   ]
  },
  {
   "cell_type": "code",
   "execution_count": 35,
   "metadata": {},
   "outputs": [
    {
     "name": "stdout",
     "output_type": "stream",
     "text": [
      "<class 'pandas.core.frame.DataFrame'>\n",
      "Index: 4756911 entries, 0 to 2651313\n",
      "Data columns (total 6 columns):\n",
      " #   Column         Dtype         \n",
      "---  ------         -----         \n",
      " 0   user_id        object        \n",
      " 1   reviews_count  int64         \n",
      " 2   date_start     datetime64[ns]\n",
      " 3   rating_avg     float64       \n",
      " 4   year           int32         \n",
      " 5   month          int32         \n",
      "dtypes: datetime64[ns](1), float64(1), int32(2), int64(1), object(1)\n",
      "memory usage: 217.8+ MB\n",
      "None\n"
     ]
    },
    {
     "data": {
      "text/html": [
       "<div>\n",
       "<style scoped>\n",
       "    .dataframe tbody tr th:only-of-type {\n",
       "        vertical-align: middle;\n",
       "    }\n",
       "\n",
       "    .dataframe tbody tr th {\n",
       "        vertical-align: top;\n",
       "    }\n",
       "\n",
       "    .dataframe thead th {\n",
       "        text-align: right;\n",
       "    }\n",
       "</style>\n",
       "<table border=\"1\" class=\"dataframe\">\n",
       "  <thead>\n",
       "    <tr style=\"text-align: right;\">\n",
       "      <th></th>\n",
       "      <th>user_id</th>\n",
       "      <th>reviews_count</th>\n",
       "      <th>date_start</th>\n",
       "      <th>rating_avg</th>\n",
       "      <th>year</th>\n",
       "      <th>month</th>\n",
       "    </tr>\n",
       "  </thead>\n",
       "  <tbody>\n",
       "    <tr>\n",
       "      <th>403035</th>\n",
       "      <td>102987160527870230528.0</td>\n",
       "      <td>14</td>\n",
       "      <td>2017-01-09 07:11:34.714</td>\n",
       "      <td>4.928571</td>\n",
       "      <td>2017</td>\n",
       "      <td>1</td>\n",
       "    </tr>\n",
       "    <tr>\n",
       "      <th>1922623</th>\n",
       "      <td>113429249022779441152.0</td>\n",
       "      <td>1</td>\n",
       "      <td>2019-09-02 12:03:37.652</td>\n",
       "      <td>5.000000</td>\n",
       "      <td>2019</td>\n",
       "      <td>9</td>\n",
       "    </tr>\n",
       "  </tbody>\n",
       "</table>\n",
       "</div>"
      ],
      "text/plain": [
       "                         user_id  reviews_count              date_start  \\\n",
       "403035   102987160527870230528.0             14 2017-01-09 07:11:34.714   \n",
       "1922623  113429249022779441152.0              1 2019-09-02 12:03:37.652   \n",
       "\n",
       "         rating_avg  year  month  \n",
       "403035     4.928571  2017      1  \n",
       "1922623    5.000000  2019      9  "
      ]
     },
     "execution_count": 35,
     "metadata": {},
     "output_type": "execute_result"
    }
   ],
   "source": [
    "dfgy_user = pd.concat([dfy_user, dfg_user])\n",
    "\n",
    "print(dfgy_user.info())\n",
    "dfgy_user.sample(2)"
   ]
  },
  {
   "cell_type": "markdown",
   "metadata": {},
   "source": [
    "### Dataset CHECKINS"
   ]
  },
  {
   "cell_type": "code",
   "execution_count": 36,
   "metadata": {},
   "outputs": [
    {
     "name": "stdout",
     "output_type": "stream",
     "text": [
      "<class 'pandas.core.frame.DataFrame'>\n",
      "Index: 35223049 entries, 0 to 4346286\n",
      "Data columns (total 5 columns):\n",
      " #   Column    Dtype         \n",
      "---  ------    -----         \n",
      " 0   source    object        \n",
      " 1   site_id   object        \n",
      " 2   datetime  datetime64[ns]\n",
      " 3   year      int32         \n",
      " 4   month     int32         \n",
      "dtypes: datetime64[ns](1), int32(2), object(2)\n",
      "memory usage: 1.3+ GB\n",
      "None\n"
     ]
    },
    {
     "data": {
      "text/html": [
       "<div>\n",
       "<style scoped>\n",
       "    .dataframe tbody tr th:only-of-type {\n",
       "        vertical-align: middle;\n",
       "    }\n",
       "\n",
       "    .dataframe tbody tr th {\n",
       "        vertical-align: top;\n",
       "    }\n",
       "\n",
       "    .dataframe thead th {\n",
       "        text-align: right;\n",
       "    }\n",
       "</style>\n",
       "<table border=\"1\" class=\"dataframe\">\n",
       "  <thead>\n",
       "    <tr style=\"text-align: right;\">\n",
       "      <th></th>\n",
       "      <th>source</th>\n",
       "      <th>site_id</th>\n",
       "      <th>datetime</th>\n",
       "      <th>year</th>\n",
       "      <th>month</th>\n",
       "    </tr>\n",
       "  </thead>\n",
       "  <tbody>\n",
       "    <tr>\n",
       "      <th>1837146</th>\n",
       "      <td>google</td>\n",
       "      <td>0x8824adf9184495f5:0x5f08f45e09f45af6</td>\n",
       "      <td>2019-08-31 14:40:58.417</td>\n",
       "      <td>2019</td>\n",
       "      <td>8</td>\n",
       "    </tr>\n",
       "    <tr>\n",
       "      <th>361882</th>\n",
       "      <td>google</td>\n",
       "      <td>0x80c2cf8df746e2a3:0x57a70d5809849258</td>\n",
       "      <td>2019-09-22 20:51:40.396</td>\n",
       "      <td>2019</td>\n",
       "      <td>9</td>\n",
       "    </tr>\n",
       "  </tbody>\n",
       "</table>\n",
       "</div>"
      ],
      "text/plain": [
       "         source                                site_id  \\\n",
       "1837146  google  0x8824adf9184495f5:0x5f08f45e09f45af6   \n",
       "361882   google  0x80c2cf8df746e2a3:0x57a70d5809849258   \n",
       "\n",
       "                       datetime  year  month  \n",
       "1837146 2019-08-31 14:40:58.417  2019      8  \n",
       "361882  2019-09-22 20:51:40.396  2019      9  "
      ]
     },
     "execution_count": 36,
     "metadata": {},
     "output_type": "execute_result"
    }
   ],
   "source": [
    "# Filtrado\n",
    "dfy_checkins = dfy_checkins[dfy_checkins['site_id'].isin(dfgy_rest_uniques['business_id'])]\n",
    "\n",
    "# Union\n",
    "dfgy_checkins = pd.concat([dfy_checkins, dfg_checkins])\n",
    "\n",
    "print(dfgy_checkins.info())\n",
    "dfgy_checkins.sample(2)"
   ]
  },
  {
   "cell_type": "markdown",
   "metadata": {},
   "source": [
    "### Dataset REVIEWS"
   ]
  },
  {
   "cell_type": "code",
   "execution_count": 37,
   "metadata": {},
   "outputs": [
    {
     "name": "stdout",
     "output_type": "stream",
     "text": [
      "<class 'pandas.core.frame.DataFrame'>\n",
      "Index: 5204599 entries, 0 to 4346286\n",
      "Data columns (total 9 columns):\n",
      " #   Column     Dtype         \n",
      "---  ------     -----         \n",
      " 0   source     object        \n",
      " 1   site_id    object        \n",
      " 2   user_id    object        \n",
      " 3   datetime   datetime64[ns]\n",
      " 4   month      int32         \n",
      " 5   year       int32         \n",
      " 6   rating     float64       \n",
      " 7   polarity   float64       \n",
      " 8   sentiment  int64         \n",
      "dtypes: datetime64[ns](1), float64(2), int32(2), int64(1), object(3)\n",
      "memory usage: 357.4+ MB\n",
      "None\n"
     ]
    },
    {
     "data": {
      "text/html": [
       "<div>\n",
       "<style scoped>\n",
       "    .dataframe tbody tr th:only-of-type {\n",
       "        vertical-align: middle;\n",
       "    }\n",
       "\n",
       "    .dataframe tbody tr th {\n",
       "        vertical-align: top;\n",
       "    }\n",
       "\n",
       "    .dataframe thead th {\n",
       "        text-align: right;\n",
       "    }\n",
       "</style>\n",
       "<table border=\"1\" class=\"dataframe\">\n",
       "  <thead>\n",
       "    <tr style=\"text-align: right;\">\n",
       "      <th></th>\n",
       "      <th>source</th>\n",
       "      <th>site_id</th>\n",
       "      <th>user_id</th>\n",
       "      <th>datetime</th>\n",
       "      <th>month</th>\n",
       "      <th>year</th>\n",
       "      <th>rating</th>\n",
       "      <th>polarity</th>\n",
       "      <th>sentiment</th>\n",
       "    </tr>\n",
       "  </thead>\n",
       "  <tbody>\n",
       "    <tr>\n",
       "      <th>3641687</th>\n",
       "      <td>google</td>\n",
       "      <td>0x885e2bbc403e6bc7:0x325829b23a9fc5cd</td>\n",
       "      <td>114445996964844142592.0</td>\n",
       "      <td>2020-09-23 16:55:54.812</td>\n",
       "      <td>9</td>\n",
       "      <td>2020</td>\n",
       "      <td>5.0</td>\n",
       "      <td>0.7506</td>\n",
       "      <td>1</td>\n",
       "    </tr>\n",
       "    <tr>\n",
       "      <th>3797554</th>\n",
       "      <td>google</td>\n",
       "      <td>0x864e6d140b09124d:0xff2b2a859264bd98</td>\n",
       "      <td>114590910686861000704.0</td>\n",
       "      <td>2019-06-24 14:46:36.353</td>\n",
       "      <td>6</td>\n",
       "      <td>2019</td>\n",
       "      <td>5.0</td>\n",
       "      <td>0.8770</td>\n",
       "      <td>1</td>\n",
       "    </tr>\n",
       "  </tbody>\n",
       "</table>\n",
       "</div>"
      ],
      "text/plain": [
       "         source                                site_id  \\\n",
       "3641687  google  0x885e2bbc403e6bc7:0x325829b23a9fc5cd   \n",
       "3797554  google  0x864e6d140b09124d:0xff2b2a859264bd98   \n",
       "\n",
       "                         user_id                datetime  month  year  rating  \\\n",
       "3641687  114445996964844142592.0 2020-09-23 16:55:54.812      9  2020     5.0   \n",
       "3797554  114590910686861000704.0 2019-06-24 14:46:36.353      6  2019     5.0   \n",
       "\n",
       "         polarity  sentiment  \n",
       "3641687    0.7506          1  \n",
       "3797554    0.8770          1  "
      ]
     },
     "execution_count": 37,
     "metadata": {},
     "output_type": "execute_result"
    }
   ],
   "source": [
    "# Filtrado\n",
    "dfy_reviews = dfy_reviews[dfy_reviews['site_id'].isin(dfgy_rest_uniques['business_id'])]\n",
    "\n",
    "# Union\n",
    "dfgy_reviews = pd.concat([dfy_reviews, dfg_reviews])\n",
    "\n",
    "print(dfgy_reviews.info())\n",
    "dfgy_reviews.sample(2)"
   ]
  },
  {
   "cell_type": "markdown",
   "metadata": {},
   "source": [
    "### Dataset CATEGORIES"
   ]
  },
  {
   "cell_type": "code",
   "execution_count": 38,
   "metadata": {},
   "outputs": [
    {
     "name": "stdout",
     "output_type": "stream",
     "text": [
      "<class 'pandas.core.frame.DataFrame'>\n",
      "Index: 744630 entries, 0 to 274996\n",
      "Data columns (total 3 columns):\n",
      " #   Column      Non-Null Count   Dtype \n",
      "---  ------      --------------   ----- \n",
      " 0   source      744630 non-null  object\n",
      " 1   site_id     744630 non-null  object\n",
      " 2   categories  744630 non-null  object\n",
      "dtypes: object(3)\n",
      "memory usage: 22.7+ MB\n",
      "None\n"
     ]
    },
    {
     "data": {
      "text/html": [
       "<div>\n",
       "<style scoped>\n",
       "    .dataframe tbody tr th:only-of-type {\n",
       "        vertical-align: middle;\n",
       "    }\n",
       "\n",
       "    .dataframe tbody tr th {\n",
       "        vertical-align: top;\n",
       "    }\n",
       "\n",
       "    .dataframe thead th {\n",
       "        text-align: right;\n",
       "    }\n",
       "</style>\n",
       "<table border=\"1\" class=\"dataframe\">\n",
       "  <thead>\n",
       "    <tr style=\"text-align: right;\">\n",
       "      <th></th>\n",
       "      <th>source</th>\n",
       "      <th>site_id</th>\n",
       "      <th>categories</th>\n",
       "    </tr>\n",
       "  </thead>\n",
       "  <tbody>\n",
       "    <tr>\n",
       "      <th>230870</th>\n",
       "      <td>google</td>\n",
       "      <td>0x88690b109f1879ab:0xa2eec43b73826ce</td>\n",
       "      <td>Restaurant</td>\n",
       "    </tr>\n",
       "    <tr>\n",
       "      <th>204119</th>\n",
       "      <td>google</td>\n",
       "      <td>0x5485a3bc68444173:0xaee0a39ace0cb469</td>\n",
       "      <td>Bar</td>\n",
       "    </tr>\n",
       "  </tbody>\n",
       "</table>\n",
       "</div>"
      ],
      "text/plain": [
       "        source                                site_id  categories\n",
       "230870  google   0x88690b109f1879ab:0xa2eec43b73826ce  Restaurant\n",
       "204119  google  0x5485a3bc68444173:0xaee0a39ace0cb469         Bar"
      ]
     },
     "execution_count": 38,
     "metadata": {},
     "output_type": "execute_result"
    }
   ],
   "source": [
    "# Filtrado\n",
    "dfy_categories = dfy_categories[dfy_categories['site_id'].isin(dfgy_rest_uniques['business_id'])]\n",
    "\n",
    "# Union\n",
    "dfgy_categories = pd.concat([dfy_categories, dfg_categories])\n",
    "\n",
    "print(dfgy_categories.info())\n",
    "dfgy_categories.sample(2)"
   ]
  },
  {
   "cell_type": "markdown",
   "metadata": {},
   "source": [
    "# Análisis de datos\n",
    "========================================================================================================="
   ]
  },
  {
   "cell_type": "markdown",
   "metadata": {},
   "source": [
    "## Análisis de plantel de restaurantes (oferentes)"
   ]
  },
  {
   "cell_type": "code",
   "execution_count": 39,
   "metadata": {},
   "outputs": [
    {
     "data": {
      "image/png": "[encoded data removed]",
      "text/plain": [
       "<Figure size 1400x400 with 1 Axes>"
      ]
     },
     "metadata": {},
     "output_type": "display_data"
    }
   ],
   "source": [
    "rest_evolution = dfgy_rest.groupby(['year']).agg({'site_id': 'count'}).reset_index()\n",
    "rest_evolution = rest_evolution.loc[(rest_evolution['year'] >= 2010) & (rest_evolution['year'] <= 2021)]\n",
    "\n",
    "plt.figure(figsize=(14, 4))\n",
    "sns.lineplot(data=rest_evolution, x='year', y='site_id')\n",
    "plt.title('Evolución de cantidad de locales por año')\n",
    "plt.xlabel('Año')\n",
    "plt.ylabel('Cantidad de locales')\n",
    "plt.grid(True)"
   ]
  },
  {
   "cell_type": "markdown",
   "metadata": {},
   "source": [
    "Conclusiones:\n",
    "* El gráfico muestra la cantidad de locales registrados en yelp y google a lo largo del tiempo, medido en años\n",
    "* Se observan claramente las fases de:\n",
    "    * Nacimiento, en 2010\n",
    "    * Evolución y desarrollo, entre 2012 y 2014\n",
    "    * Posicionamiento y estabilización en el mercado, entre 2015 y 2019 \n",
    "    * Involución, en 2020 -- esto último causado por el covid19"
   ]
  },
  {
   "cell_type": "markdown",
   "metadata": {},
   "source": [
    "## Análisis de performance de restaurantes"
   ]
  },
  {
   "cell_type": "code",
   "execution_count": 41,
   "metadata": {},
   "outputs": [
    {
     "data": {
      "image/png": "[encoded data removed]",
      "text/plain": [
       "<Figure size 1400x400 with 1 Axes>"
      ]
     },
     "metadata": {},
     "output_type": "display_data"
    }
   ],
   "source": [
    "rest_performance = dfgy_rest.groupby(['year']).agg({'rating_avg': 'mean'}).reset_index()\n",
    "rest_performance = rest_performance.loc[(rest_performance['year'] >= 2010) & (rest_performance['year'] <= 2021)]\n",
    "\n",
    "plt.figure(figsize=(14, 4))\n",
    "sns.lineplot(data=rest_performance, x='year', y='rating_avg')\n",
    "plt.title('Evolución de performance de locales por año')\n",
    "plt.xlabel('Año')\n",
    "plt.ylabel('Performance')\n",
    "plt.grid(True)"
   ]
  },
  {
   "cell_type": "markdown",
   "metadata": {},
   "source": [
    "Conclusión:\n",
    "* Se muestra el rating promedio a lo largo del tiempo de todos los locales registrados\n",
    "* Se observa una clara tendencia a la mejora del rating, lo cual se traduce en el involucramiento de los oferentes para cuidar su clientela. \n",
    "* Esta tendencia tiene un alto impacto social, ya que contribuye a instalar la mentalidad de satisfacción del cliente"
   ]
  },
  {
   "cell_type": "markdown",
   "metadata": {},
   "source": [
    "## Análisis de plantel de usuarios (clientes)"
   ]
  },
  {
   "cell_type": "code",
   "execution_count": 43,
   "metadata": {},
   "outputs": [
    {
     "data": {
      "image/png": "[encoded data removed]",
      "text/plain": [
       "<Figure size 1400x400 with 1 Axes>"
      ]
     },
     "metadata": {},
     "output_type": "display_data"
    }
   ],
   "source": [
    "user_evolution = dfgy_user.groupby(['year']).agg({'user_id': 'count'}).reset_index()\n",
    "user_evolution = user_evolution.loc[(user_evolution['year'] >= 2010) & (user_evolution['year'] <= 2021)]\n",
    "\n",
    "plt.figure(figsize=(14, 4))\n",
    "sns.lineplot(data=user_evolution, x='year', y='user_id')\n",
    "plt.title('Evolución de cantidad de usuarios por año')\n",
    "plt.xlabel('Año')\n",
    "plt.ylabel('Cantidad de usuarios')\n",
    "plt.grid(True)"
   ]
  },
  {
   "cell_type": "markdown",
   "metadata": {},
   "source": [
    "Conclusión:\n",
    "* Se muestran a lo largo del tiempo, la cantidad de usuarios registrados en yelp y google\n",
    "* Se observa una clara tendencia de aumento de usuarios\n",
    "* Se observa una clara disminución a partir de 2019, esto último causado por el fenómeno de covid19"
   ]
  },
  {
   "cell_type": "markdown",
   "metadata": {},
   "source": [
    "## Análisis de demanda"
   ]
  },
  {
   "cell_type": "code",
   "execution_count": 44,
   "metadata": {},
   "outputs": [
    {
     "data": {
      "image/png": "[encoded data removed]",
      "text/plain": [
       "<Figure size 1400x400 with 1 Axes>"
      ]
     },
     "metadata": {},
     "output_type": "display_data"
    }
   ],
   "source": [
    "checkins_evolution = dfgy_checkins.groupby(['year']).agg({'datetime': 'count'}).reset_index()\n",
    "checkins_evolution = checkins_evolution.loc[(checkins_evolution['year'] >= 2010) & (checkins_evolution['year'] <= 2021)]\n",
    "\n",
    "plt.figure(figsize=(14, 4))\n",
    "sns.lineplot(data=checkins_evolution, x='year', y='datetime')\n",
    "plt.title('Evolución de cantidad de checkins por año')\n",
    "plt.xlabel('Año')\n",
    "plt.ylabel('Cantidad de checkins')\n",
    "plt.grid(True)"
   ]
  },
  {
   "cell_type": "markdown",
   "metadata": {},
   "source": [
    "Conclusiones:\n",
    "* El gráfico muestra la cantidad de check-ins registrados en yelp a lo largo del tiempo, medido en años\n",
    "* La baja de actividad a partir del 2015 puede deberse a la fuerte entrada del mercado de delivery"
   ]
  },
  {
   "cell_type": "markdown",
   "metadata": {},
   "source": [
    "## Análisis de preferencias de usuario"
   ]
  },
  {
   "cell_type": "markdown",
   "metadata": {},
   "source": [
    "### Categorías top"
   ]
  },
  {
   "cell_type": "code",
   "execution_count": 45,
   "metadata": {},
   "outputs": [
    {
     "data": {
      "text/html": [
       "<div>\n",
       "<style scoped>\n",
       "    .dataframe tbody tr th:only-of-type {\n",
       "        vertical-align: middle;\n",
       "    }\n",
       "\n",
       "    .dataframe tbody tr th {\n",
       "        vertical-align: top;\n",
       "    }\n",
       "\n",
       "    .dataframe thead th {\n",
       "        text-align: right;\n",
       "    }\n",
       "</style>\n",
       "<table border=\"1\" class=\"dataframe\">\n",
       "  <thead>\n",
       "    <tr style=\"text-align: right;\">\n",
       "      <th></th>\n",
       "      <th>Id</th>\n",
       "      <th>source</th>\n",
       "      <th>categories</th>\n",
       "      <th>supracategory</th>\n",
       "      <th>category_edited</th>\n",
       "      <th>category_edited2</th>\n",
       "      <th>category_edited3</th>\n",
       "      <th>category_edited4</th>\n",
       "    </tr>\n",
       "  </thead>\n",
       "  <tbody>\n",
       "    <tr>\n",
       "      <th>0</th>\n",
       "      <td>1</td>\n",
       "      <td>yelp</td>\n",
       "      <td>Restaurants</td>\n",
       "      <td>general</td>\n",
       "      <td>Restaurants</td>\n",
       "      <td>Restaurants</td>\n",
       "      <td>restaurants</td>\n",
       "      <td>restaurant</td>\n",
       "    </tr>\n",
       "    <tr>\n",
       "      <th>1</th>\n",
       "      <td>2</td>\n",
       "      <td>yelp</td>\n",
       "      <td>Food</td>\n",
       "      <td>general</td>\n",
       "      <td>Food</td>\n",
       "      <td>Food</td>\n",
       "      <td>food</td>\n",
       "      <td>food</td>\n",
       "    </tr>\n",
       "    <tr>\n",
       "      <th>2</th>\n",
       "      <td>3</td>\n",
       "      <td>yelp</td>\n",
       "      <td>Burgers</td>\n",
       "      <td>burger</td>\n",
       "      <td>Burgers</td>\n",
       "      <td>Burgers</td>\n",
       "      <td>burgers</td>\n",
       "      <td>burgers</td>\n",
       "    </tr>\n",
       "    <tr>\n",
       "      <th>3</th>\n",
       "      <td>4</td>\n",
       "      <td>yelp</td>\n",
       "      <td>Fast Food</td>\n",
       "      <td>fast food</td>\n",
       "      <td>Fast Food</td>\n",
       "      <td>Fast Food</td>\n",
       "      <td>fast food</td>\n",
       "      <td>fast food</td>\n",
       "    </tr>\n",
       "    <tr>\n",
       "      <th>4</th>\n",
       "      <td>5</td>\n",
       "      <td>yelp</td>\n",
       "      <td>Sandwiches</td>\n",
       "      <td>burger</td>\n",
       "      <td>Sandwiches</td>\n",
       "      <td>Sandwiches</td>\n",
       "      <td>sandwiches</td>\n",
       "      <td>sandwiches</td>\n",
       "    </tr>\n",
       "    <tr>\n",
       "      <th>...</th>\n",
       "      <td>...</td>\n",
       "      <td>...</td>\n",
       "      <td>...</td>\n",
       "      <td>...</td>\n",
       "      <td>...</td>\n",
       "      <td>...</td>\n",
       "      <td>...</td>\n",
       "      <td>...</td>\n",
       "    </tr>\n",
       "    <tr>\n",
       "      <th>444</th>\n",
       "      <td>445</td>\n",
       "      <td>google</td>\n",
       "      <td>Yakiniku restaurant</td>\n",
       "      <td>regional</td>\n",
       "      <td>Yakiniku</td>\n",
       "      <td>Yakiniku</td>\n",
       "      <td>yakiniku</td>\n",
       "      <td>yakiniku</td>\n",
       "    </tr>\n",
       "    <tr>\n",
       "      <th>445</th>\n",
       "      <td>446</td>\n",
       "      <td>google</td>\n",
       "      <td>Yakisoba Restaurant</td>\n",
       "      <td>regional</td>\n",
       "      <td>Yakisoba</td>\n",
       "      <td>Yakisoba</td>\n",
       "      <td>yakisoba</td>\n",
       "      <td>yakisoba</td>\n",
       "    </tr>\n",
       "    <tr>\n",
       "      <th>446</th>\n",
       "      <td>447</td>\n",
       "      <td>google</td>\n",
       "      <td>Yakitori restaurant</td>\n",
       "      <td>regional</td>\n",
       "      <td>Yakitori</td>\n",
       "      <td>Yakitori</td>\n",
       "      <td>yakitori</td>\n",
       "      <td>yakitori</td>\n",
       "    </tr>\n",
       "    <tr>\n",
       "      <th>447</th>\n",
       "      <td>448</td>\n",
       "      <td>google</td>\n",
       "      <td>Yemenite restaurant</td>\n",
       "      <td>regional</td>\n",
       "      <td>Yemenite</td>\n",
       "      <td>Yemenite</td>\n",
       "      <td>yemenite</td>\n",
       "      <td>yemenite</td>\n",
       "    </tr>\n",
       "    <tr>\n",
       "      <th>448</th>\n",
       "      <td>449</td>\n",
       "      <td>google</td>\n",
       "      <td>Yucatan restaurant</td>\n",
       "      <td>regional</td>\n",
       "      <td>Yucatan</td>\n",
       "      <td>Yucatan</td>\n",
       "      <td>yucatan</td>\n",
       "      <td>yucatan</td>\n",
       "    </tr>\n",
       "  </tbody>\n",
       "</table>\n",
       "<p>449 rows × 8 columns</p>\n",
       "</div>"
      ],
      "text/plain": [
       "      Id  source           categories supracategory category_edited  \\\n",
       "0      1    yelp          Restaurants       general     Restaurants   \n",
       "1      2    yelp                 Food       general            Food   \n",
       "2      3    yelp              Burgers        burger         Burgers   \n",
       "3      4    yelp            Fast Food     fast food       Fast Food   \n",
       "4      5    yelp           Sandwiches        burger      Sandwiches   \n",
       "..   ...     ...                  ...           ...             ...   \n",
       "444  445  google  Yakiniku restaurant      regional       Yakiniku    \n",
       "445  446  google  Yakisoba Restaurant      regional       Yakisoba    \n",
       "446  447  google  Yakitori restaurant      regional       Yakitori    \n",
       "447  448  google  Yemenite restaurant      regional       Yemenite    \n",
       "448  449  google   Yucatan restaurant      regional        Yucatan    \n",
       "\n",
       "    category_edited2 category_edited3 category_edited4  \n",
       "0        Restaurants      restaurants       restaurant  \n",
       "1               Food             food             food  \n",
       "2            Burgers          burgers          burgers  \n",
       "3          Fast Food        fast food        fast food  \n",
       "4         Sandwiches       sandwiches       sandwiches  \n",
       "..               ...              ...              ...  \n",
       "444         Yakiniku         yakiniku         yakiniku  \n",
       "445         Yakisoba         yakisoba         yakisoba  \n",
       "446         Yakitori         yakitori         yakitori  \n",
       "447         Yemenite         yemenite         yemenite  \n",
       "448          Yucatan          yucatan          yucatan  \n",
       "\n",
       "[449 rows x 8 columns]"
      ]
     },
     "execution_count": 45,
     "metadata": {},
     "output_type": "execute_result"
    }
   ],
   "source": [
    "dfgy_categories_food_edited = pd.read_csv('dataset_gy_categories_food_edited.csv')\n",
    "dfgy_categories_food_edited"
   ]
  },
  {
   "cell_type": "code",
   "execution_count": 46,
   "metadata": {},
   "outputs": [
    {
     "data": {
      "text/html": [
       "<div>\n",
       "<style scoped>\n",
       "    .dataframe tbody tr th:only-of-type {\n",
       "        vertical-align: middle;\n",
       "    }\n",
       "\n",
       "    .dataframe tbody tr th {\n",
       "        vertical-align: top;\n",
       "    }\n",
       "\n",
       "    .dataframe thead th {\n",
       "        text-align: right;\n",
       "    }\n",
       "</style>\n",
       "<table border=\"1\" class=\"dataframe\">\n",
       "  <thead>\n",
       "    <tr style=\"text-align: right;\">\n",
       "      <th></th>\n",
       "      <th>source_x</th>\n",
       "      <th>site_id</th>\n",
       "      <th>categories</th>\n",
       "      <th>Id</th>\n",
       "      <th>source_y</th>\n",
       "      <th>supracategory</th>\n",
       "      <th>category_edited</th>\n",
       "      <th>category_edited2</th>\n",
       "      <th>category_edited3</th>\n",
       "      <th>category_edited4</th>\n",
       "    </tr>\n",
       "  </thead>\n",
       "  <tbody>\n",
       "    <tr>\n",
       "      <th>0</th>\n",
       "      <td>yelp</td>\n",
       "      <td>MTSW4McQd7CbVtyjqoe9mw</td>\n",
       "      <td>Food</td>\n",
       "      <td>2</td>\n",
       "      <td>yelp</td>\n",
       "      <td>general</td>\n",
       "      <td>Food</td>\n",
       "      <td>Food</td>\n",
       "      <td>food</td>\n",
       "      <td>food</td>\n",
       "    </tr>\n",
       "    <tr>\n",
       "      <th>1</th>\n",
       "      <td>yelp</td>\n",
       "      <td>mWMc6_wTdE0EUBKIGXDVfA</td>\n",
       "      <td>Food</td>\n",
       "      <td>2</td>\n",
       "      <td>yelp</td>\n",
       "      <td>general</td>\n",
       "      <td>Food</td>\n",
       "      <td>Food</td>\n",
       "      <td>food</td>\n",
       "      <td>food</td>\n",
       "    </tr>\n",
       "    <tr>\n",
       "      <th>2</th>\n",
       "      <td>yelp</td>\n",
       "      <td>CF33F8-E6oudUQ46HnavjQ</td>\n",
       "      <td>Food</td>\n",
       "      <td>2</td>\n",
       "      <td>yelp</td>\n",
       "      <td>general</td>\n",
       "      <td>Food</td>\n",
       "      <td>Food</td>\n",
       "      <td>food</td>\n",
       "      <td>food</td>\n",
       "    </tr>\n",
       "    <tr>\n",
       "      <th>3</th>\n",
       "      <td>yelp</td>\n",
       "      <td>bBDDEgkFA1Otx9Lfe7BZUQ</td>\n",
       "      <td>Food</td>\n",
       "      <td>2</td>\n",
       "      <td>yelp</td>\n",
       "      <td>general</td>\n",
       "      <td>Food</td>\n",
       "      <td>Food</td>\n",
       "      <td>food</td>\n",
       "      <td>food</td>\n",
       "    </tr>\n",
       "    <tr>\n",
       "      <th>4</th>\n",
       "      <td>yelp</td>\n",
       "      <td>eEOYSgkmpB90uNA7lDOMRA</td>\n",
       "      <td>Food</td>\n",
       "      <td>2</td>\n",
       "      <td>yelp</td>\n",
       "      <td>general</td>\n",
       "      <td>Food</td>\n",
       "      <td>Food</td>\n",
       "      <td>food</td>\n",
       "      <td>food</td>\n",
       "    </tr>\n",
       "    <tr>\n",
       "      <th>...</th>\n",
       "      <td>...</td>\n",
       "      <td>...</td>\n",
       "      <td>...</td>\n",
       "      <td>...</td>\n",
       "      <td>...</td>\n",
       "      <td>...</td>\n",
       "      <td>...</td>\n",
       "      <td>...</td>\n",
       "      <td>...</td>\n",
       "      <td>...</td>\n",
       "    </tr>\n",
       "    <tr>\n",
       "      <th>549791</th>\n",
       "      <td>google</td>\n",
       "      <td>0x80ec1fd3d42c9afb:0x90a7b30788182fc4</td>\n",
       "      <td>Sfiha restaurant</td>\n",
       "      <td>373</td>\n",
       "      <td>google</td>\n",
       "      <td>regional</td>\n",
       "      <td>Sfiha</td>\n",
       "      <td>Sfiha</td>\n",
       "      <td>sfiha</td>\n",
       "      <td>sfiha</td>\n",
       "    </tr>\n",
       "    <tr>\n",
       "      <th>549792</th>\n",
       "      <td>google</td>\n",
       "      <td>0x87e4f11cdb194ced:0x9f69c8ed25a28eb2</td>\n",
       "      <td>Mutton barbecue restaurant</td>\n",
       "      <td>312</td>\n",
       "      <td>google</td>\n",
       "      <td>regional</td>\n",
       "      <td>Mutton barbecue</td>\n",
       "      <td>Mutton barbecue</td>\n",
       "      <td>mutton barbecue</td>\n",
       "      <td>mutton barbecue</td>\n",
       "    </tr>\n",
       "    <tr>\n",
       "      <th>549793</th>\n",
       "      <td>google</td>\n",
       "      <td>0x89c2f9331071005d:0x308aad6c8c05becd</td>\n",
       "      <td>Mutton barbecue restaurant</td>\n",
       "      <td>312</td>\n",
       "      <td>google</td>\n",
       "      <td>regional</td>\n",
       "      <td>Mutton barbecue</td>\n",
       "      <td>Mutton barbecue</td>\n",
       "      <td>mutton barbecue</td>\n",
       "      <td>mutton barbecue</td>\n",
       "    </tr>\n",
       "    <tr>\n",
       "      <th>549794</th>\n",
       "      <td>google</td>\n",
       "      <td>0x80deaa0b093ecaa5:0xca75dfda7eacf203</td>\n",
       "      <td>Steamboat restaurant</td>\n",
       "      <td>398</td>\n",
       "      <td>google</td>\n",
       "      <td>regional</td>\n",
       "      <td>Steamboat</td>\n",
       "      <td>Steamboat</td>\n",
       "      <td>steamboat</td>\n",
       "      <td>steamboat</td>\n",
       "    </tr>\n",
       "    <tr>\n",
       "      <th>549795</th>\n",
       "      <td>google</td>\n",
       "      <td>0x8085808ff899b48d:0xe3766e273c9a594</td>\n",
       "      <td>Sundanese restaurant</td>\n",
       "      <td>402</td>\n",
       "      <td>google</td>\n",
       "      <td>regional</td>\n",
       "      <td>Sundanese</td>\n",
       "      <td>Sundanese</td>\n",
       "      <td>sundanese</td>\n",
       "      <td>sundanese</td>\n",
       "    </tr>\n",
       "  </tbody>\n",
       "</table>\n",
       "<p>549796 rows × 10 columns</p>\n",
       "</div>"
      ],
      "text/plain": [
       "       source_x                                site_id  \\\n",
       "0          yelp                 MTSW4McQd7CbVtyjqoe9mw   \n",
       "1          yelp                 mWMc6_wTdE0EUBKIGXDVfA   \n",
       "2          yelp                 CF33F8-E6oudUQ46HnavjQ   \n",
       "3          yelp                 bBDDEgkFA1Otx9Lfe7BZUQ   \n",
       "4          yelp                 eEOYSgkmpB90uNA7lDOMRA   \n",
       "...         ...                                    ...   \n",
       "549791   google  0x80ec1fd3d42c9afb:0x90a7b30788182fc4   \n",
       "549792   google  0x87e4f11cdb194ced:0x9f69c8ed25a28eb2   \n",
       "549793   google  0x89c2f9331071005d:0x308aad6c8c05becd   \n",
       "549794   google  0x80deaa0b093ecaa5:0xca75dfda7eacf203   \n",
       "549795   google   0x8085808ff899b48d:0xe3766e273c9a594   \n",
       "\n",
       "                        categories   Id source_y supracategory  \\\n",
       "0                             Food    2     yelp       general   \n",
       "1                             Food    2     yelp       general   \n",
       "2                             Food    2     yelp       general   \n",
       "3                             Food    2     yelp       general   \n",
       "4                             Food    2     yelp       general   \n",
       "...                            ...  ...      ...           ...   \n",
       "549791            Sfiha restaurant  373   google      regional   \n",
       "549792  Mutton barbecue restaurant  312   google      regional   \n",
       "549793  Mutton barbecue restaurant  312   google      regional   \n",
       "549794        Steamboat restaurant  398   google      regional   \n",
       "549795        Sundanese restaurant  402   google      regional   \n",
       "\n",
       "         category_edited category_edited2 category_edited3 category_edited4  \n",
       "0                   Food             Food             food             food  \n",
       "1                   Food             Food             food             food  \n",
       "2                   Food             Food             food             food  \n",
       "3                   Food             Food             food             food  \n",
       "4                   Food             Food             food             food  \n",
       "...                  ...              ...              ...              ...  \n",
       "549791            Sfiha             Sfiha            sfiha            sfiha  \n",
       "549792  Mutton barbecue   Mutton barbecue  mutton barbecue  mutton barbecue  \n",
       "549793  Mutton barbecue   Mutton barbecue  mutton barbecue  mutton barbecue  \n",
       "549794        Steamboat         Steamboat        steamboat        steamboat  \n",
       "549795        Sundanese         Sundanese        sundanese        sundanese  \n",
       "\n",
       "[549796 rows x 10 columns]"
      ]
     },
     "execution_count": 46,
     "metadata": {},
     "output_type": "execute_result"
    }
   ],
   "source": [
    "dfgy_categories_final = pd.merge(dfgy_categories, dfgy_categories_food_edited, on='categories')\n",
    "dfgy_categories_final"
   ]
  },
  {
   "cell_type": "code",
   "execution_count": 47,
   "metadata": {},
   "outputs": [
    {
     "data": {
      "text/plain": [
       "Text(0, 0.5, 'SUPRA-Categoría')"
      ]
     },
     "execution_count": 47,
     "metadata": {},
     "output_type": "execute_result"
    },
    {
     "data": {
      "image/png": "[encoded data removed]",
      "text/plain": [
       "<Figure size 1400x600 with 1 Axes>"
      ]
     },
     "metadata": {},
     "output_type": "display_data"
    }
   ],
   "source": [
    "dfgy_categories_count = dfgy_categories_final.groupby('supracategory')['site_id'].count().reset_index()\n",
    "dfgy_categories_count.rename(columns={'site_id':'categories_count'}, inplace=True)\n",
    "dfgy_categories_count.sort_values('categories_count', ascending=False, inplace=True)\n",
    "\n",
    "plt.figure(figsize=(14, 6))\n",
    "sns.barplot(x=\"categories_count\", y=\"supracategory\", data=dfgy_categories_count.head(20))\n",
    "plt.title('Preferencias de usuario por SUPRA-categoría')\n",
    "plt.ylabel('SUPRA-Categoría')"
   ]
  },
  {
   "cell_type": "markdown",
   "metadata": {},
   "source": [
    "Conclusión:\n",
    "* Se muestran las \"supra-categorías\" más buscadas\n",
    "* La característica denominada \"supra-categoría\" se ha incorporado en el modelo para ahondar en el conocimiento del usuario\n",
    "* Se observa que la supra-categoría de \"beverages\" que contiene bares y pubs, contiene a un tipo de producto que puede ser de interés para los clientes"
   ]
  },
  {
   "cell_type": "code",
   "execution_count": 48,
   "metadata": {},
   "outputs": [
    {
     "data": {
      "text/plain": [
       "Text(0, 0.5, 'Categoría')"
      ]
     },
     "execution_count": 48,
     "metadata": {},
     "output_type": "execute_result"
    },
    {
     "data": {
      "image/png": "[encoded data removed]",
      "text/plain": [
       "<Figure size 1400x600 with 1 Axes>"
      ]
     },
     "metadata": {},
     "output_type": "display_data"
    }
   ],
   "source": [
    "dfgy_categories_count = dfgy_categories_final.groupby('category_edited4')['site_id'].count().reset_index()\n",
    "dfgy_categories_count.rename(columns={'site_id':'categories_count'}, inplace=True)\n",
    "dfgy_categories_count.sort_values('categories_count', ascending=False, inplace=True)\n",
    "\n",
    "plt.figure(figsize=(14, 6))\n",
    "sns.barplot(x=\"categories_count\", y=\"category_edited4\", data=dfgy_categories_count.head(20))\n",
    "plt.title('Preferencias de usuario por categoría')\n",
    "plt.ylabel('Categoría')"
   ]
  },
  {
   "cell_type": "markdown",
   "metadata": {},
   "source": [
    "### Atributos top"
   ]
  },
  {
   "cell_type": "code",
   "execution_count": 49,
   "metadata": {},
   "outputs": [
    {
     "data": {
      "text/plain": [
       "Text(0, 0.5, 'Atributos')"
      ]
     },
     "execution_count": 49,
     "metadata": {},
     "output_type": "execute_result"
    },
    {
     "data": {
      "image/png": "[encoded data removed]",
      "text/plain": [
       "<Figure size 1400x600 with 1 Axes>"
      ]
     },
     "metadata": {},
     "output_type": "display_data"
    }
   ],
   "source": [
    "dfy_attributes_count = dfy_attributes.groupby('attributes')['business_id'].count().reset_index()\n",
    "dfy_attributes_count.rename(columns={'business_id': 'attributes_count'}, inplace=True)\n",
    "dfy_attributes_count.sort_values('attributes_count', ascending=False, inplace=True)\n",
    "dfy_attributes_count\n",
    "\n",
    "\n",
    "plt.figure(figsize=(14, 6))\n",
    "sns.barplot(x=\"attributes_count\", y=\"attributes\", data=dfy_attributes_count.head(20))\n",
    "plt.title('Preferencias de usuario por atributos')\n",
    "plt.ylabel('Atributos')"
   ]
  },
  {
   "cell_type": "markdown",
   "metadata": {},
   "source": [
    "Conclusión:\n",
    "* Se observan los atributos más valorados por el mercado de USA\n",
    "* El atributo líder es el que facilita el pago con tarjetas de crédito\n",
    "* Resulta de gran interés para la clientela que el establecimiento cuente con parking"
   ]
  },
  {
   "cell_type": "markdown",
   "metadata": {},
   "source": [
    "### Marcas top"
   ]
  },
  {
   "cell_type": "code",
   "execution_count": 50,
   "metadata": {},
   "outputs": [],
   "source": [
    "dfgy_names_top = pd.merge(dfgy_checkins, dfgy_rest[['site_id', 'name']], how='left', on='site_id')\n",
    "dfgy_names_top = dfgy_names_top.groupby('name')['site_id'].count().reset_index()"
   ]
  },
  {
   "cell_type": "code",
   "execution_count": 51,
   "metadata": {},
   "outputs": [
    {
     "data": {
      "text/plain": [
       "Text(0, 0.5, 'Marca')"
      ]
     },
     "execution_count": 51,
     "metadata": {},
     "output_type": "execute_result"
    },
    {
     "data": {
      "image/png": "[encoded data removed]",
      "text/plain": [
       "<Figure size 1400x600 with 1 Axes>"
      ]
     },
     "metadata": {},
     "output_type": "display_data"
    }
   ],
   "source": [
    "dfgy_names_top.rename(columns={'site_id': 'name_count'}, inplace=True)\n",
    "dfgy_names_top = dfgy_names_top.sort_values('name_count', ascending=False)\n",
    "\n",
    "plt.figure(figsize=(14, 6))\n",
    "sns.barplot(x=\"name_count\", y=\"name\", data=dfgy_names_top.head(20))\n",
    "plt.title('Preferencias de usuario por marca')\n",
    "plt.ylabel('Marca')"
   ]
  },
  {
   "cell_type": "markdown",
   "metadata": {},
   "source": [
    "Conclusiones:\n",
    "* Las dos marcas líderes como \"Reading Terminal Market\" y \"Datz\" ofrecen no solamente una experiencia gastronómica, sino un espacio social y de distensión. \"Reading Terminal Market\" es un espacio de paseo de compras y adyacentemente cuenta con un mercado gastronómico. Esta variable debe tenerse dentro de los atributos considerados para un sistema de recomendación\n",
    "* Las dos marcas que le siguen son cafeterías, y luego sigue una marca de comidas rápidas (\"McDonalds), para continuar con otros mercados de comida que ofrecen paseos\n",
    "* Lo notable de esto es que no hay ningún restaurante tradicional dentro de las primeras diez marcas "
   ]
  },
  {
   "cell_type": "markdown",
   "metadata": {},
   "source": [
    "### Locaciones top"
   ]
  },
  {
   "cell_type": "code",
   "execution_count": 52,
   "metadata": {},
   "outputs": [],
   "source": [
    "checkin_locations = pd.merge(dfgy_checkins, dfgy_rest[['site_id', 'state_city_postalcode']], on='site_id', how='inner')"
   ]
  },
  {
   "cell_type": "code",
   "execution_count": 53,
   "metadata": {},
   "outputs": [],
   "source": [
    "checkin_locations = checkin_locations.loc[(checkin_locations['year'] >= 2010) & (checkin_locations['year'] <= 2021)]"
   ]
  },
  {
   "cell_type": "code",
   "execution_count": 54,
   "metadata": {},
   "outputs": [
    {
     "data": {
      "text/html": [
       "<div>\n",
       "<style scoped>\n",
       "    .dataframe tbody tr th:only-of-type {\n",
       "        vertical-align: middle;\n",
       "    }\n",
       "\n",
       "    .dataframe tbody tr th {\n",
       "        vertical-align: top;\n",
       "    }\n",
       "\n",
       "    .dataframe thead th {\n",
       "        text-align: right;\n",
       "    }\n",
       "</style>\n",
       "<table border=\"1\" class=\"dataframe\">\n",
       "  <thead>\n",
       "    <tr style=\"text-align: right;\">\n",
       "      <th></th>\n",
       "      <th>source</th>\n",
       "      <th>site_id</th>\n",
       "      <th>datetime</th>\n",
       "      <th>year</th>\n",
       "      <th>month</th>\n",
       "      <th>state_city_postalcode</th>\n",
       "    </tr>\n",
       "  </thead>\n",
       "  <tbody>\n",
       "    <tr>\n",
       "      <th>18342735</th>\n",
       "      <td>yelp</td>\n",
       "      <td>ATO_GTUMSEYBZn0v1cqg0g</td>\n",
       "      <td>2017-11-07 03:12:04</td>\n",
       "      <td>2017</td>\n",
       "      <td>11</td>\n",
       "      <td>MO - Creve Coeur - 63141</td>\n",
       "    </tr>\n",
       "    <tr>\n",
       "      <th>83280540</th>\n",
       "      <td>yelp</td>\n",
       "      <td>mjXIEy_xVd36aJqj9L2gBw</td>\n",
       "      <td>2012-02-28 02:03:36</td>\n",
       "      <td>2012</td>\n",
       "      <td>2</td>\n",
       "      <td>MO - Saint Louis - 63108</td>\n",
       "    </tr>\n",
       "  </tbody>\n",
       "</table>\n",
       "</div>"
      ],
      "text/plain": [
       "         source                 site_id            datetime  year  month  \\\n",
       "18342735   yelp  ATO_GTUMSEYBZn0v1cqg0g 2017-11-07 03:12:04  2017     11   \n",
       "83280540   yelp  mjXIEy_xVd36aJqj9L2gBw 2012-02-28 02:03:36  2012      2   \n",
       "\n",
       "             state_city_postalcode  \n",
       "18342735  MO - Creve Coeur - 63141  \n",
       "83280540  MO - Saint Louis - 63108  "
      ]
     },
     "execution_count": 54,
     "metadata": {},
     "output_type": "execute_result"
    }
   ],
   "source": [
    "checkin_locations.sample(2)"
   ]
  },
  {
   "cell_type": "code",
   "execution_count": 55,
   "metadata": {},
   "outputs": [
    {
     "data": {
      "text/html": [
       "<div>\n",
       "<style scoped>\n",
       "    .dataframe tbody tr th:only-of-type {\n",
       "        vertical-align: middle;\n",
       "    }\n",
       "\n",
       "    .dataframe tbody tr th {\n",
       "        vertical-align: top;\n",
       "    }\n",
       "\n",
       "    .dataframe thead th {\n",
       "        text-align: right;\n",
       "    }\n",
       "</style>\n",
       "<table border=\"1\" class=\"dataframe\">\n",
       "  <thead>\n",
       "    <tr style=\"text-align: right;\">\n",
       "      <th></th>\n",
       "      <th>state_city_postalcode</th>\n",
       "      <th>checkins_count</th>\n",
       "    </tr>\n",
       "  </thead>\n",
       "  <tbody>\n",
       "    <tr>\n",
       "      <th>81756</th>\n",
       "      <td>PA - Philadelphia - 19107</td>\n",
       "      <td>6293218</td>\n",
       "    </tr>\n",
       "    <tr>\n",
       "      <th>37098</th>\n",
       "      <td>LA - New Orleans - 70130</td>\n",
       "      <td>5128700</td>\n",
       "    </tr>\n",
       "    <tr>\n",
       "      <th>10153</th>\n",
       "      <td>CA - Santa Barbara - 93101</td>\n",
       "      <td>3523678</td>\n",
       "    </tr>\n",
       "    <tr>\n",
       "      <th>81753</th>\n",
       "      <td>PA - Philadelphia - 19103</td>\n",
       "      <td>2478879</td>\n",
       "    </tr>\n",
       "    <tr>\n",
       "      <th>87402</th>\n",
       "      <td>TN - Nashville - 37203</td>\n",
       "      <td>1974045</td>\n",
       "    </tr>\n",
       "    <tr>\n",
       "      <th>37085</th>\n",
       "      <td>LA - New Orleans - 70116</td>\n",
       "      <td>1859501</td>\n",
       "    </tr>\n",
       "    <tr>\n",
       "      <th>81791</th>\n",
       "      <td>PA - Philadelphia - 19147</td>\n",
       "      <td>1698350</td>\n",
       "    </tr>\n",
       "    <tr>\n",
       "      <th>37084</th>\n",
       "      <td>LA - New Orleans - 70115</td>\n",
       "      <td>1608098</td>\n",
       "    </tr>\n",
       "    <tr>\n",
       "      <th>81755</th>\n",
       "      <td>PA - Philadelphia - 19106</td>\n",
       "      <td>1558856</td>\n",
       "    </tr>\n",
       "    <tr>\n",
       "      <th>32124</th>\n",
       "      <td>IN - Indianapolis - 46204</td>\n",
       "      <td>1520395</td>\n",
       "    </tr>\n",
       "  </tbody>\n",
       "</table>\n",
       "</div>"
      ],
      "text/plain": [
       "            state_city_postalcode  checkins_count\n",
       "81756   PA - Philadelphia - 19107         6293218\n",
       "37098    LA - New Orleans - 70130         5128700\n",
       "10153  CA - Santa Barbara - 93101         3523678\n",
       "81753   PA - Philadelphia - 19103         2478879\n",
       "87402      TN - Nashville - 37203         1974045\n",
       "37085    LA - New Orleans - 70116         1859501\n",
       "81791   PA - Philadelphia - 19147         1698350\n",
       "37084    LA - New Orleans - 70115         1608098\n",
       "81755   PA - Philadelphia - 19106         1558856\n",
       "32124   IN - Indianapolis - 46204         1520395"
      ]
     },
     "execution_count": 55,
     "metadata": {},
     "output_type": "execute_result"
    }
   ],
   "source": [
    "locations_top = checkin_locations.groupby(['state_city_postalcode']).agg({'datetime':'count'})\n",
    "locations_top.rename(columns={'datetime':'checkins_count'}, inplace=True)\n",
    "locations_top = locations_top.reset_index()\n",
    "locations_top = locations_top.sort_values(by='checkins_count', ascending=False)\n",
    "\n",
    "locations_top.head(10)"
   ]
  },
  {
   "cell_type": "code",
   "execution_count": 56,
   "metadata": {},
   "outputs": [
    {
     "data": {
      "text/plain": [
       "Text(0, 0.5, 'Locación')"
      ]
     },
     "execution_count": 56,
     "metadata": {},
     "output_type": "execute_result"
    },
    {
     "data": {
      "image/png": "[encoded data removed]",
      "text/plain": [
       "<Figure size 1400x600 with 1 Axes>"
      ]
     },
     "metadata": {},
     "output_type": "display_data"
    }
   ],
   "source": [
    "plt.figure(figsize=(14, 6))\n",
    "sns.barplot(x=\"checkins_count\", y=\"state_city_postalcode\", data=locations_top.head(10))\n",
    "plt.title('Preferencias de usuario por locación')\n",
    "plt.ylabel('Locación')"
   ]
  },
  {
   "cell_type": "markdown",
   "metadata": {},
   "source": [
    "Conclusiones:\n",
    "* El gráfico de barras horizontales muestra la cantidad acumulada de check-ins, por locación (Estado - Ciudad - Código postal)\n",
    "* Las locaciones líderes se encuentran en las ciudades de Philadelphia, New Orleans y Santa Barbara"
   ]
  },
  {
   "cell_type": "code",
   "execution_count": 57,
   "metadata": {},
   "outputs": [
    {
     "data": {
      "image/png": "[encoded data removed]",
      "text/plain": [
       "<Figure size 1200x800 with 2 Axes>"
      ]
     },
     "metadata": {},
     "output_type": "display_data"
    }
   ],
   "source": [
    "locations_top10 = locations_top.head(20)\n",
    "locations_top_evol = pd.merge(checkin_locations, locations_top10, on='state_city_postalcode')\n",
    "locations_top_evol_map = locations_top_evol.pivot_table(index='state_city_postalcode', columns='year', values='checkins_count', aggfunc='max')\n",
    "\n",
    "plt.figure(figsize=(12, 8))\n",
    "sns.heatmap(locations_top_evol_map, cmap='YlOrRd', linewidths=0.5, linecolor='gray')\n",
    "plt.title('Evolución de preferencias de locación')\n",
    "plt.xlabel('Año')\n",
    "plt.ylabel('Locación')\n",
    "plt.yticks(rotation=0)\n",
    "plt.show()"
   ]
  },
  {
   "cell_type": "markdown",
   "metadata": {},
   "source": [
    "Conclusiones:\n",
    "* El mapa de calor muestra la evolución anual de los check-ins, por locación\n",
    "* Se muestran las 20 locaciones más visitadas\n",
    "* Las ciudades de Philadelphia, New Orleans y Santa Bárbara lideran el podio en diversos sitios"
   ]
  },
  {
   "cell_type": "markdown",
   "metadata": {},
   "source": [
    "## Análisis de participación del usuario"
   ]
  },
  {
   "cell_type": "markdown",
   "metadata": {},
   "source": [
    "### Involucramiento"
   ]
  },
  {
   "cell_type": "code",
   "execution_count": 58,
   "metadata": {},
   "outputs": [
    {
     "data": {
      "text/html": [
       "<div>\n",
       "<style scoped>\n",
       "    .dataframe tbody tr th:only-of-type {\n",
       "        vertical-align: middle;\n",
       "    }\n",
       "\n",
       "    .dataframe tbody tr th {\n",
       "        vertical-align: top;\n",
       "    }\n",
       "\n",
       "    .dataframe thead th {\n",
       "        text-align: right;\n",
       "    }\n",
       "</style>\n",
       "<table border=\"1\" class=\"dataframe\">\n",
       "  <thead>\n",
       "    <tr style=\"text-align: right;\">\n",
       "      <th></th>\n",
       "      <th>year</th>\n",
       "      <th>reviews_count</th>\n",
       "      <th>users_count</th>\n",
       "      <th>sites_count</th>\n",
       "      <th>reviews_per_user</th>\n",
       "      <th>reviews_per_site</th>\n",
       "    </tr>\n",
       "  </thead>\n",
       "  <tbody>\n",
       "    <tr>\n",
       "      <th>8</th>\n",
       "      <td>2010</td>\n",
       "      <td>20627</td>\n",
       "      <td>12087</td>\n",
       "      <td>8892</td>\n",
       "      <td>1.706544</td>\n",
       "      <td>2.319726</td>\n",
       "    </tr>\n",
       "    <tr>\n",
       "      <th>9</th>\n",
       "      <td>2011</td>\n",
       "      <td>36781</td>\n",
       "      <td>22105</td>\n",
       "      <td>14868</td>\n",
       "      <td>1.663922</td>\n",
       "      <td>2.473836</td>\n",
       "    </tr>\n",
       "    <tr>\n",
       "      <th>10</th>\n",
       "      <td>2012</td>\n",
       "      <td>47374</td>\n",
       "      <td>30459</td>\n",
       "      <td>20147</td>\n",
       "      <td>1.555337</td>\n",
       "      <td>2.351417</td>\n",
       "    </tr>\n",
       "    <tr>\n",
       "      <th>11</th>\n",
       "      <td>2013</td>\n",
       "      <td>64513</td>\n",
       "      <td>42954</td>\n",
       "      <td>25244</td>\n",
       "      <td>1.501909</td>\n",
       "      <td>2.555578</td>\n",
       "    </tr>\n",
       "    <tr>\n",
       "      <th>12</th>\n",
       "      <td>2014</td>\n",
       "      <td>85133</td>\n",
       "      <td>60275</td>\n",
       "      <td>30285</td>\n",
       "      <td>1.412410</td>\n",
       "      <td>2.811062</td>\n",
       "    </tr>\n",
       "    <tr>\n",
       "      <th>13</th>\n",
       "      <td>2015</td>\n",
       "      <td>131421</td>\n",
       "      <td>96712</td>\n",
       "      <td>45792</td>\n",
       "      <td>1.358890</td>\n",
       "      <td>2.869955</td>\n",
       "    </tr>\n",
       "    <tr>\n",
       "      <th>14</th>\n",
       "      <td>2016</td>\n",
       "      <td>300939</td>\n",
       "      <td>224901</td>\n",
       "      <td>80914</td>\n",
       "      <td>1.338095</td>\n",
       "      <td>3.719245</td>\n",
       "    </tr>\n",
       "    <tr>\n",
       "      <th>15</th>\n",
       "      <td>2017</td>\n",
       "      <td>666497</td>\n",
       "      <td>526146</td>\n",
       "      <td>107830</td>\n",
       "      <td>1.266753</td>\n",
       "      <td>6.180998</td>\n",
       "    </tr>\n",
       "    <tr>\n",
       "      <th>16</th>\n",
       "      <td>2018</td>\n",
       "      <td>1037783</td>\n",
       "      <td>828240</td>\n",
       "      <td>119870</td>\n",
       "      <td>1.252998</td>\n",
       "      <td>8.657571</td>\n",
       "    </tr>\n",
       "    <tr>\n",
       "      <th>17</th>\n",
       "      <td>2019</td>\n",
       "      <td>1284198</td>\n",
       "      <td>998926</td>\n",
       "      <td>125015</td>\n",
       "      <td>1.285579</td>\n",
       "      <td>10.272351</td>\n",
       "    </tr>\n",
       "    <tr>\n",
       "      <th>18</th>\n",
       "      <td>2020</td>\n",
       "      <td>782814</td>\n",
       "      <td>647227</td>\n",
       "      <td>117638</td>\n",
       "      <td>1.209489</td>\n",
       "      <td>6.654431</td>\n",
       "    </tr>\n",
       "    <tr>\n",
       "      <th>19</th>\n",
       "      <td>2021</td>\n",
       "      <td>595164</td>\n",
       "      <td>499215</td>\n",
       "      <td>107152</td>\n",
       "      <td>1.192200</td>\n",
       "      <td>5.554390</td>\n",
       "    </tr>\n",
       "  </tbody>\n",
       "</table>\n",
       "</div>"
      ],
      "text/plain": [
       "    year  reviews_count  users_count  sites_count  reviews_per_user  \\\n",
       "8   2010          20627        12087         8892          1.706544   \n",
       "9   2011          36781        22105        14868          1.663922   \n",
       "10  2012          47374        30459        20147          1.555337   \n",
       "11  2013          64513        42954        25244          1.501909   \n",
       "12  2014          85133        60275        30285          1.412410   \n",
       "13  2015         131421        96712        45792          1.358890   \n",
       "14  2016         300939       224901        80914          1.338095   \n",
       "15  2017         666497       526146       107830          1.266753   \n",
       "16  2018        1037783       828240       119870          1.252998   \n",
       "17  2019        1284198       998926       125015          1.285579   \n",
       "18  2020         782814       647227       117638          1.209489   \n",
       "19  2021         595164       499215       107152          1.192200   \n",
       "\n",
       "    reviews_per_site  \n",
       "8           2.319726  \n",
       "9           2.473836  \n",
       "10          2.351417  \n",
       "11          2.555578  \n",
       "12          2.811062  \n",
       "13          2.869955  \n",
       "14          3.719245  \n",
       "15          6.180998  \n",
       "16          8.657571  \n",
       "17         10.272351  \n",
       "18          6.654431  \n",
       "19          5.554390  "
      ]
     },
     "execution_count": 58,
     "metadata": {},
     "output_type": "execute_result"
    }
   ],
   "source": [
    "customer_engagement = dfgy_reviews.groupby(['year']).agg({'datetime':'nunique', 'user_id':'nunique', 'site_id':'nunique'}).reset_index()\n",
    "customer_engagement.rename(columns={'datetime':'reviews_count', 'user_id':'users_count', 'site_id':'sites_count'}, inplace=True)\n",
    "customer_engagement['reviews_per_user'] = customer_engagement['reviews_count'] / customer_engagement['users_count']\n",
    "customer_engagement['reviews_per_site'] = customer_engagement['reviews_count'] / customer_engagement['sites_count']\n",
    "\n",
    "customer_engagement = customer_engagement.loc[(customer_engagement['year'] >= 2010) & (customer_engagement['year'] <= 2021)]\n",
    "customer_engagement['year'] = customer_engagement['year'].astype(int)\n",
    "\n",
    "customer_engagement"
   ]
  },
  {
   "cell_type": "code",
   "execution_count": 62,
   "metadata": {},
   "outputs": [
    {
     "data": {
      "image/png": "[encoded data removed]",
      "text/plain": [
       "<Figure size 1400x600 with 1 Axes>"
      ]
     },
     "metadata": {},
     "output_type": "display_data"
    }
   ],
   "source": [
    "plt.figure(figsize=(14, 6))\n",
    "\n",
    "sns.lineplot(customer_engagement, x='year', y='reviews_per_user', label='Reviews per user')\n",
    "sns.lineplot(customer_engagement, x='year', y='reviews_per_site', label='Reviews per site')\n",
    "\n",
    "plt.title('Evolución de Cantidad de Reseñas por Año')\n",
    "plt.xlabel('Año')\n",
    "plt.ylabel('Reseñas')\n",
    "plt.legend()\n",
    "plt.grid(True)\n",
    "\n",
    "plt.show()"
   ]
  },
  {
   "cell_type": "markdown",
   "metadata": {},
   "source": [
    "Conclusión:\n",
    "* Se muestran los promedios de reseñas por usuario y por local, respectivamente\n",
    "* Se observa una leve tendencia a disminuir la cantidad de reseñas promedio por usuario\n",
    "* Se obswerva una amplica tendencia a recibir más reseñas por local"
   ]
  },
  {
   "cell_type": "markdown",
   "metadata": {},
   "source": [
    "### Satisfacción"
   ]
  },
  {
   "cell_type": "code",
   "execution_count": 60,
   "metadata": {},
   "outputs": [
    {
     "data": {
      "text/html": [
       "<div>\n",
       "<style scoped>\n",
       "    .dataframe tbody tr th:only-of-type {\n",
       "        vertical-align: middle;\n",
       "    }\n",
       "\n",
       "    .dataframe tbody tr th {\n",
       "        vertical-align: top;\n",
       "    }\n",
       "\n",
       "    .dataframe thead th {\n",
       "        text-align: right;\n",
       "    }\n",
       "</style>\n",
       "<table border=\"1\" class=\"dataframe\">\n",
       "  <thead>\n",
       "    <tr style=\"text-align: right;\">\n",
       "      <th></th>\n",
       "      <th>year</th>\n",
       "      <th>rating</th>\n",
       "      <th>polarity</th>\n",
       "    </tr>\n",
       "  </thead>\n",
       "  <tbody>\n",
       "    <tr>\n",
       "      <th>8</th>\n",
       "      <td>2010</td>\n",
       "      <td>3.735321</td>\n",
       "      <td>0.731112</td>\n",
       "    </tr>\n",
       "    <tr>\n",
       "      <th>9</th>\n",
       "      <td>2011</td>\n",
       "      <td>3.731456</td>\n",
       "      <td>0.696383</td>\n",
       "    </tr>\n",
       "    <tr>\n",
       "      <th>10</th>\n",
       "      <td>2012</td>\n",
       "      <td>3.764233</td>\n",
       "      <td>0.682346</td>\n",
       "    </tr>\n",
       "    <tr>\n",
       "      <th>11</th>\n",
       "      <td>2013</td>\n",
       "      <td>3.759461</td>\n",
       "      <td>0.674966</td>\n",
       "    </tr>\n",
       "    <tr>\n",
       "      <th>12</th>\n",
       "      <td>2014</td>\n",
       "      <td>3.784492</td>\n",
       "      <td>0.662731</td>\n",
       "    </tr>\n",
       "    <tr>\n",
       "      <th>13</th>\n",
       "      <td>2015</td>\n",
       "      <td>3.816047</td>\n",
       "      <td>0.620421</td>\n",
       "    </tr>\n",
       "    <tr>\n",
       "      <th>14</th>\n",
       "      <td>2016</td>\n",
       "      <td>3.968633</td>\n",
       "      <td>0.562695</td>\n",
       "    </tr>\n",
       "    <tr>\n",
       "      <th>15</th>\n",
       "      <td>2017</td>\n",
       "      <td>4.101837</td>\n",
       "      <td>0.544397</td>\n",
       "    </tr>\n",
       "    <tr>\n",
       "      <th>16</th>\n",
       "      <td>2018</td>\n",
       "      <td>4.156560</td>\n",
       "      <td>0.544914</td>\n",
       "    </tr>\n",
       "    <tr>\n",
       "      <th>17</th>\n",
       "      <td>2019</td>\n",
       "      <td>4.201568</td>\n",
       "      <td>0.547265</td>\n",
       "    </tr>\n",
       "    <tr>\n",
       "      <th>18</th>\n",
       "      <td>2020</td>\n",
       "      <td>4.260636</td>\n",
       "      <td>0.570824</td>\n",
       "    </tr>\n",
       "    <tr>\n",
       "      <th>19</th>\n",
       "      <td>2021</td>\n",
       "      <td>4.236981</td>\n",
       "      <td>0.587254</td>\n",
       "    </tr>\n",
       "  </tbody>\n",
       "</table>\n",
       "</div>"
      ],
      "text/plain": [
       "    year    rating  polarity\n",
       "8   2010  3.735321  0.731112\n",
       "9   2011  3.731456  0.696383\n",
       "10  2012  3.764233  0.682346\n",
       "11  2013  3.759461  0.674966\n",
       "12  2014  3.784492  0.662731\n",
       "13  2015  3.816047  0.620421\n",
       "14  2016  3.968633  0.562695\n",
       "15  2017  4.101837  0.544397\n",
       "16  2018  4.156560  0.544914\n",
       "17  2019  4.201568  0.547265\n",
       "18  2020  4.260636  0.570824\n",
       "19  2021  4.236981  0.587254"
      ]
     },
     "execution_count": 60,
     "metadata": {},
     "output_type": "execute_result"
    }
   ],
   "source": [
    "customer_satisfaction = dfgy_reviews.groupby(['year']).agg({'rating':'mean', 'polarity':'mean'}).reset_index()\n",
    "customer_satisfaction = customer_satisfaction.loc[(customer_satisfaction['year'] >= 2010) & (customer_satisfaction['year'] <= 2021)]\n",
    "\n",
    "customer_satisfaction"
   ]
  },
  {
   "cell_type": "code",
   "execution_count": 61,
   "metadata": {},
   "outputs": [
    {
     "data": {
      "image/png": "[encoded data removed]",
      "text/plain": [
       "<Figure size 1200x600 with 2 Axes>"
      ]
     },
     "metadata": {},
     "output_type": "display_data"
    }
   ],
   "source": [
    "plt.figure(figsize=(12, 6))\n",
    "\n",
    "ax1 = sns.lineplot(data=customer_satisfaction, x='year', y='rating', color='blue', marker='o', label='Rating')\n",
    "\n",
    "plt.xlabel('Año')\n",
    "ax1.set_ylabel('Rating', color='blue')\n",
    "plt.title('Evolución de Rating y Polarity por Año')\n",
    "plt.grid(True)\n",
    "\n",
    "ax2 = ax1.twinx()\n",
    "sns.lineplot(data=customer_satisfaction, x='year', y='polarity', color='red', marker='s', label='Polarity', ax=ax2)\n",
    "ax2.set_ylabel('Polarity', color='red')\n",
    "\n",
    "ax1.legend(loc='lower left')\n",
    "ax2.legend(loc='upper left')\n",
    "\n",
    "plt.show()"
   ]
  },
  {
   "cell_type": "markdown",
   "metadata": {},
   "source": [
    "Concllusión:\n",
    "* Se muestra la evolución anual de promedios de rating y polaridad del análisis de sentimientos preliminar\n",
    "* SE observa claramente la mejora de la satisfacción del cliente a lo largo del tiempo\n",
    "* Se observa una disminución e inicio de estabilización de la polaridad, lo cual es un indicador de una participación activa y proactiva del usuario en las reseñas"
   ]
  },
  {
   "cell_type": "markdown",
   "metadata": {},
   "source": [
    "# Conclusiones\n",
    "===================================================================================================================================="
   ]
  },
  {
   "cell_type": "markdown",
   "metadata": {},
   "source": [
    "El presente EDA corresponde al análisis de oferta y demanda del dataset conjunto de Yelp y Google, así como el análisis de preferencias de usuarios.\n",
    "\n",
    "El pre-procesamiento de datos consistió en las siguientes tareas:\n",
    "* Gestión de tipos de datos\n",
    "* Gestión de valores nulos\n",
    "* Gestión de valores duplicados\n",
    "* Gestión de características: eliminación de campos innecesarios y agregado de campos auxiliares \n",
    "\n",
    "Observaciones respecto al pre-procesamiento de datos:\n",
    "* Se ha utilizado un dataset de códigos postales para corregir el dataset original de \"business\", ya que se detectó un error en el dataset original. \n",
    "* No se encontraron grandes cantidades de valores nulos, y no se encontraron duplicados que afecten a los datos. \n",
    "* Se modificaron algunos tipos de datos, sobre todo de aquellos campos de valor tipo \"fecha\"\n",
    "* Se agregaron algunas características o campos auxiliares para facilitar el posterior agrupamiento y visualización de datos\n",
    "\n",
    "Respecto al análisis de datos, se ha considerado estudiar el mercado a través de la oferta y demanda, y las preferencias del usuario. \n",
    "* Para valorizar la oferta, se ha considerado la cantidad de locales registrados en yelp\n",
    "* Para valorizar la demanda, se ha considerado la cantidad de check-ins registrados\n",
    "* Para conocer las preferencias del usuario, se consideran también los check-ins agrupados por categorías, marcas y locaciones\n",
    "\n",
    "El interés específico de este análisis deviene en la definición de inputs y outputs a considerar en el modelo de Machine Learning, para luego definir los KPIs del proyecto, dashboard y producto final a presentar al cliente.\n",
    "\n",
    "Inputs a considerar:\n",
    "* Supra-categorías de comida\n",
    "* Categorías de comida\n",
    "* Atributos\n",
    "* Marcas\n",
    "* Locaciones\n",
    "* Precio\n",
    "\n",
    "Outputs a considerar:\n",
    "* Proyección de ventas\n",
    "* Proyección de check-ins\n",
    "* Proyección de reseñas\n",
    "* Proyección de satisfacción del cliente"
   ]
  }
 ],
 "metadata": {
  "kernelspec": {
   "display_name": "Python 3",
   "language": "python",
   "name": "python3"
  },
  "language_info": {
   "codemirror_mode": {
    "name": "ipython",
    "version": 3
   },
   "file_extension": ".py",
   "mimetype": "text/x-python",
   "name": "python",
   "nbconvert_exporter": "python",
   "pygments_lexer": "ipython3",
   "version": "3.12.0"
  }
 },
 "nbformat": 4,
 "nbformat_minor": 2
}
